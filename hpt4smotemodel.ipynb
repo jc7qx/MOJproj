{
 "cells": [
  {
   "cell_type": "markdown",
   "id": "4e32fd50",
   "metadata": {},
   "source": [
    "## 毒品資料為基礎建立隨機森林模型\n",
    "1. 不處理資料不平衡分佈\n",
    "2. 超參數調教\n",
    "3. 計算效能指標\n",
    "4. ROC_AUC Curve\n",
    "5. factor importance\n",
    "6. confusion matrix"
   ]
  },
  {
   "cell_type": "code",
   "execution_count": 3,
   "id": "2850fdf9",
   "metadata": {},
   "outputs": [],
   "source": [
    "import numpy as np\n",
    "import pandas as pd\n",
    "import matplotlib.pyplot as plt\n",
    "from sklearn.model_selection import train_test_split\n",
    "from xgboost import XGBClassifier, plot_importance, plot_tree\n",
    "from sklearn.metrics import confusion_matrix, roc_curve, auc, roc_auc_score, classification_report\n",
    "from sklearn.metrics import accuracy_score, precision_score, recall_score, f1_score\n",
    "from sklearn.metrics import roc_auc_score\n",
    "from sklearn.model_selection import cross_val_score"
   ]
  },
  {
   "cell_type": "code",
   "execution_count": 4,
   "id": "676f6ec9",
   "metadata": {},
   "outputs": [],
   "source": [
    "plt.rcParams['font.sans-serif']=['Microsoft Jhenghei']\n",
    "plt.rcParams['axes.unicode_minus']=False"
   ]
  },
  {
   "cell_type": "markdown",
   "id": "ca7765a2",
   "metadata": {},
   "source": [
    "### 資料讀取"
   ]
  },
  {
   "cell_type": "code",
   "execution_count": 5,
   "id": "3bdcd267",
   "metadata": {},
   "outputs": [],
   "source": [
    "df = pd.read_csv(\"../data/traindrug.csv\", encoding=\"utf8\")"
   ]
  },
  {
   "cell_type": "code",
   "execution_count": 6,
   "id": "ee591142",
   "metadata": {},
   "outputs": [
    {
     "data": {
      "text/plain": [
       "(65402, 16)"
      ]
     },
     "execution_count": 6,
     "metadata": {},
     "output_type": "execute_result"
    }
   ],
   "source": [
    "df.shape"
   ]
  },
  {
   "cell_type": "markdown",
   "id": "25247f35",
   "metadata": {},
   "source": [
    "### 建立訓練集與測試集(X, y)"
   ]
  },
  {
   "cell_type": "code",
   "execution_count": 7,
   "id": "b04bf46c",
   "metadata": {},
   "outputs": [],
   "source": [
    "#X = df.drop(labels=['再犯註記'], axis=1).values\n",
    "#y = df['再犯註記'].values\n",
    "X = df.drop(labels=['再犯註記'], axis=1)\n",
    "y = df['再犯註記']"
   ]
  },
  {
   "cell_type": "code",
   "execution_count": 8,
   "id": "ffdd0064",
   "metadata": {},
   "outputs": [],
   "source": [
    "X_train, X_test, y_train, y_test = train_test_split(X, y, test_size=0.2, random_state=0)"
   ]
  },
  {
   "cell_type": "code",
   "execution_count": 10,
   "id": "21cc827e",
   "metadata": {},
   "outputs": [],
   "source": [
    "from imblearn.over_sampling import SMOTE\n",
    "oversample = SMOTE()\n",
    "X_over, y_over = oversample.fit_resample(X_train, y_train) #X, y"
   ]
  },
  {
   "cell_type": "markdown",
   "id": "da498db4",
   "metadata": {},
   "source": [
    "### 超參數調教"
   ]
  },
  {
   "cell_type": "code",
   "execution_count": 10,
   "id": "f9d27664",
   "metadata": {},
   "outputs": [],
   "source": [
    "# Import Random Forest model\n",
    "from sklearn.ensemble import RandomForestClassifier\n",
    "# Instantiate model with 1000 decision trees\n",
    "rf = RandomForestClassifier(random_state = 42)"
   ]
  },
  {
   "cell_type": "code",
   "execution_count": 11,
   "id": "645861b5",
   "metadata": {},
   "outputs": [
    {
     "data": {
      "text/plain": [
       "{'bootstrap': True,\n",
       " 'ccp_alpha': 0.0,\n",
       " 'class_weight': None,\n",
       " 'criterion': 'gini',\n",
       " 'max_depth': None,\n",
       " 'max_features': 'auto',\n",
       " 'max_leaf_nodes': None,\n",
       " 'max_samples': None,\n",
       " 'min_impurity_decrease': 0.0,\n",
       " 'min_samples_leaf': 1,\n",
       " 'min_samples_split': 2,\n",
       " 'min_weight_fraction_leaf': 0.0,\n",
       " 'n_estimators': 100,\n",
       " 'n_jobs': None,\n",
       " 'oob_score': False,\n",
       " 'random_state': 42,\n",
       " 'verbose': 0,\n",
       " 'warm_start': False}"
      ]
     },
     "execution_count": 11,
     "metadata": {},
     "output_type": "execute_result"
    }
   ],
   "source": [
    "rf.get_params() #get default params"
   ]
  },
  {
   "cell_type": "markdown",
   "id": "d236a560",
   "metadata": {},
   "source": [
    "### design of param grid"
   ]
  },
  {
   "cell_type": "code",
   "execution_count": 11,
   "id": "1f99241c",
   "metadata": {},
   "outputs": [],
   "source": [
    "n_estimators = np.arange(100, 2000, step=200)\n",
    "max_features = [\"auto\", \"sqrt\", \"log2\"]\n",
    "max_depth = np.arange(1, 100, step=10)\n",
    "min_samples_split = np.arange(2, 10, step=2)\n",
    "min_samples_leaf = [1, 2, 3, 4, 5]\n",
    "bootstrap = [True, False]"
   ]
  },
  {
   "cell_type": "code",
   "execution_count": 12,
   "id": "66926f25",
   "metadata": {},
   "outputs": [],
   "source": [
    "param_grid={\n",
    "    \"n_estimators\": n_estimators,\n",
    "    \"max_features\": max_features,\n",
    "    \"max_depth\": max_depth,\n",
    "    \"min_samples_split\": min_samples_split,\n",
    "    \"min_samples_leaf\": min_samples_leaf,\n",
    "    \"bootstrap\": bootstrap,\n",
    "}"
   ]
  },
  {
   "cell_type": "code",
   "execution_count": 13,
   "id": "471a24b6",
   "metadata": {},
   "outputs": [
    {
     "data": {
      "text/plain": [
       "{'n_estimators': array([ 100,  300,  500,  700,  900, 1100, 1300, 1500, 1700, 1900]),\n",
       " 'max_features': ['auto', 'sqrt', 'log2'],\n",
       " 'max_depth': array([ 1, 11, 21, 31, 41, 51, 61, 71, 81, 91]),\n",
       " 'min_samples_split': array([2, 4, 6, 8]),\n",
       " 'min_samples_leaf': [1, 2, 3, 4, 5],\n",
       " 'bootstrap': [True, False]}"
      ]
     },
     "execution_count": 13,
     "metadata": {},
     "output_type": "execute_result"
    }
   ],
   "source": [
    "param_grid"
   ]
  },
  {
   "cell_type": "markdown",
   "id": "2951e166",
   "metadata": {},
   "source": [
    "### random search for hyperparameters"
   ]
  },
  {
   "cell_type": "code",
   "execution_count": 15,
   "id": "a57fdc57",
   "metadata": {},
   "outputs": [],
   "source": [
    "from sklearn.ensemble import RandomForestClassifier\n",
    "from sklearn.model_selection import RandomizedSearchCV\n",
    "forest = RandomForestClassifier()\n",
    "rand_cv = RandomizedSearchCV(forest, param_grid, n_iter=100, cv=5, scoring=\"roc_auc\", n_jobs=-1)"
   ]
  },
  {
   "cell_type": "markdown",
   "id": "f3df2672",
   "metadata": {},
   "source": [
    "在機器學習模型中，需要人工選擇的參數稱爲超參數。"
   ]
  },
  {
   "cell_type": "code",
   "execution_count": 16,
   "id": "616a66c2",
   "metadata": {},
   "outputs": [],
   "source": [
    "#rfmodel=rand_cv.fit(X_train, y_train)\n",
    "rfsmote = rand_cv.fit(X_over, y_over)"
   ]
  },
  {
   "cell_type": "code",
   "execution_count": 17,
   "id": "3905bfcc",
   "metadata": {},
   "outputs": [
    {
     "data": {
      "text/plain": [
       "0.9239797966288705"
      ]
     },
     "execution_count": 17,
     "metadata": {},
     "output_type": "execute_result"
    }
   ],
   "source": [
    "rand_cv.best_score_"
   ]
  },
  {
   "cell_type": "code",
   "execution_count": 18,
   "id": "d941c343",
   "metadata": {},
   "outputs": [
    {
     "name": "stdout",
     "output_type": "stream",
     "text": [
      "{'n_estimators': 1500, 'min_samples_split': 2, 'min_samples_leaf': 1, 'max_features': 'sqrt', 'max_depth': 31, 'bootstrap': True}\n"
     ]
    }
   ],
   "source": [
    "print(rand_cv.best_params_) # obtain params by random search"
   ]
  },
  {
   "cell_type": "code",
   "execution_count": 25,
   "id": "28735636",
   "metadata": {},
   "outputs": [],
   "source": [
    "new_params = {\n",
    "    \"n_estimators\": [1400, 1450, 1500, 1550, 1600],\n",
    "    \"max_features\": ['sqrt'],\n",
    "    \"max_depth\": [28,30,32],\n",
    "    \"min_samples_split\":[2],\n",
    "    \"min_samples_leaf\": [1],\n",
    "    \"bootstrap\": [\"True\"],\n",
    "}"
   ]
  },
  {
   "cell_type": "markdown",
   "id": "845a4446",
   "metadata": {},
   "source": [
    "### fine turning hyperparameters by grid search"
   ]
  },
  {
   "cell_type": "code",
   "execution_count": 26,
   "id": "a3e4119b",
   "metadata": {},
   "outputs": [],
   "source": [
    "from sklearn.model_selection import GridSearchCV\n",
    "\n",
    "grid_cv = GridSearchCV(forest, new_params, cv=3,scoring=\"roc_auc\", n_jobs=-1)"
   ]
  },
  {
   "cell_type": "code",
   "execution_count": 27,
   "id": "c5396d0e",
   "metadata": {},
   "outputs": [
    {
     "name": "stdout",
     "output_type": "stream",
     "text": [
      "7.771755480766297\n"
     ]
    }
   ],
   "source": [
    "import time\n",
    "start = time.time()\n",
    "grid_cv.fit(X_train, y_train)\n",
    "end = time.time()\n",
    "tt = end-start\n",
    "print(tt/60)"
   ]
  },
  {
   "cell_type": "code",
   "execution_count": 22,
   "id": "a2c1f807",
   "metadata": {},
   "outputs": [
    {
     "data": {
      "text/plain": [
       "0.8390321171491758"
      ]
     },
     "execution_count": 22,
     "metadata": {},
     "output_type": "execute_result"
    }
   ],
   "source": [
    "grid_cv.best_score_"
   ]
  },
  {
   "cell_type": "code",
   "execution_count": 23,
   "id": "d6c25ec5",
   "metadata": {},
   "outputs": [
    {
     "data": {
      "text/plain": [
       "{'bootstrap': 'True',\n",
       " 'max_depth': 28,\n",
       " 'max_features': 'sqrt',\n",
       " 'min_samples_leaf': 1,\n",
       " 'min_samples_split': 2,\n",
       " 'n_estimators': 1500}"
      ]
     },
     "execution_count": 23,
     "metadata": {},
     "output_type": "execute_result"
    }
   ],
   "source": [
    "grid_cv.best_params_ # obtain params by grid search"
   ]
  },
  {
   "cell_type": "code",
   "execution_count": 24,
   "id": "fcaf2370",
   "metadata": {},
   "outputs": [
    {
     "name": "stdout",
     "output_type": "stream",
     "text": [
      "{\n",
      "   \"bootstrap\": \"True\",\n",
      "   \"max_depth\": 8,\n",
      "   \"max_features\": \"auto\",\n",
      "   \"min_samples_leaf\": 1,\n",
      "   \"min_samples_split\": 4,\n",
      "   \"n_estimators\": 750\n",
      "}\n"
     ]
    }
   ],
   "source": [
    "# transfer best params to json format\n",
    "import json\n",
    "json_obj = json.dumps(grid_cv.best_params_, indent = 3) \n",
    "print(json_obj)"
   ]
  },
  {
   "cell_type": "code",
   "execution_count": 25,
   "id": "07246c48",
   "metadata": {},
   "outputs": [],
   "source": [
    "# save best params to json file\n",
    "with open(\"rf_config1.json\", \"w\") as file:\n",
    "    json.dump(grid_cv.best_params_, file)"
   ]
  },
  {
   "cell_type": "code",
   "execution_count": 26,
   "id": "dd17cb54",
   "metadata": {},
   "outputs": [
    {
     "name": "stdout",
     "output_type": "stream",
     "text": [
      "{'bootstrap': 'True', 'max_depth': 8, 'max_features': 'auto', 'min_samples_leaf': 1, 'min_samples_split': 4, 'n_estimators': 750}\n"
     ]
    }
   ],
   "source": [
    "fp = open(\"rf_config1.json\", \"r\")\n",
    "dd = json.load(fp)\n",
    "fp.close()\n",
    "print(dd)"
   ]
  },
  {
   "cell_type": "markdown",
   "id": "02ca7ab7",
   "metadata": {},
   "source": [
    "### 基於最佳模型組態之模型效能"
   ]
  },
  {
   "cell_type": "code",
   "execution_count": 47,
   "id": "c4b3ed17",
   "metadata": {},
   "outputs": [],
   "source": [
    "from sklearn.ensemble import RandomForestClassifier\n",
    "rf = RandomForestClassifier(\n",
    "    bootstrap=True,\n",
    "    max_depth=5,\n",
    "    max_features='auto',\n",
    "    min_samples_leaf=1,\n",
    "    min_samples_split=4,\n",
    "    n_estimators=750\n",
    ")"
   ]
  },
  {
   "cell_type": "code",
   "execution_count": 31,
   "id": "347a4211",
   "metadata": {},
   "outputs": [],
   "source": [
    "model = grid_cv.best_estimator_\n",
    "target_names = [\"非再犯\",\"再犯\"]"
   ]
  },
  {
   "cell_type": "markdown",
   "id": "617dd773",
   "metadata": {},
   "source": [
    "### 計算效能指標"
   ]
  },
  {
   "cell_type": "code",
   "execution_count": 33,
   "id": "6faa8a68",
   "metadata": {},
   "outputs": [
    {
     "name": "stdout",
     "output_type": "stream",
     "text": [
      "              precision    recall  f1-score   support\n",
      "\n",
      "         非再犯       0.85      0.98      0.91     10743\n",
      "          再犯       0.67      0.18      0.28      2338\n",
      "\n",
      "    accuracy                           0.84     13081\n",
      "   macro avg       0.76      0.58      0.59     13081\n",
      "weighted avg       0.81      0.84      0.80     13081\n",
      "\n"
     ]
    }
   ],
   "source": [
    "y_pred_proba = model.predict_proba(X_test)[:, 1]\n",
    "y_pred = model.predict(X_test)\n",
    "fpr, tpr, _ = roc_curve(y_test, y_pred_proba)\n",
    "auc = roc_auc_score(y_test, y_pred_proba)\n",
    "#aucs.append(auc4)\n",
    "print(classification_report(y_test, y_pred, target_names=target_names))"
   ]
  },
  {
   "cell_type": "code",
   "execution_count": 35,
   "id": "76a14d5e",
   "metadata": {},
   "outputs": [],
   "source": [
    "from sklearn.metrics import precision_recall_fscore_support\n",
    "results = pd.DataFrame(columns=['模型','AUC','準確率','精確率', '招回率','f1_score', '非再犯案例數','精確率', '招回率','f1_score', '再犯案例數'])\n",
    "\n",
    "acc = accuracy_score(y_test, y_pred)\n",
    "prf = precision_recall_fscore_support(y_test, y_pred)\n",
    "data = ['model1', auc, acc]\n",
    "for item in prf:\n",
    "    data.append(item[0])\n",
    "for item2 in prf:\n",
    "    data.append(item2[1])\n",
    "results.loc[len(results)]=data"
   ]
  },
  {
   "cell_type": "code",
   "execution_count": 36,
   "id": "146e1279",
   "metadata": {},
   "outputs": [
    {
     "data": {
      "text/html": [
       "<div>\n",
       "<style scoped>\n",
       "    .dataframe tbody tr th:only-of-type {\n",
       "        vertical-align: middle;\n",
       "    }\n",
       "\n",
       "    .dataframe tbody tr th {\n",
       "        vertical-align: top;\n",
       "    }\n",
       "\n",
       "    .dataframe thead th {\n",
       "        text-align: right;\n",
       "    }\n",
       "</style>\n",
       "<table border=\"1\" class=\"dataframe\">\n",
       "  <thead>\n",
       "    <tr style=\"text-align: right;\">\n",
       "      <th></th>\n",
       "      <th>模型</th>\n",
       "      <th>AUC</th>\n",
       "      <th>準確率</th>\n",
       "      <th>精確率</th>\n",
       "      <th>招回率</th>\n",
       "      <th>f1_score</th>\n",
       "      <th>非再犯案例數</th>\n",
       "      <th>精確率</th>\n",
       "      <th>招回率</th>\n",
       "      <th>f1_score</th>\n",
       "      <th>再犯案例數</th>\n",
       "    </tr>\n",
       "  </thead>\n",
       "  <tbody>\n",
       "    <tr>\n",
       "      <th>0</th>\n",
       "      <td>model1</td>\n",
       "      <td>0.770956</td>\n",
       "      <td>0.837398</td>\n",
       "      <td>0.845691</td>\n",
       "      <td>0.981011</td>\n",
       "      <td>0.908339</td>\n",
       "      <td>10743</td>\n",
       "      <td>0.670436</td>\n",
       "      <td>0.177502</td>\n",
       "      <td>0.28069</td>\n",
       "      <td>2338</td>\n",
       "    </tr>\n",
       "  </tbody>\n",
       "</table>\n",
       "</div>"
      ],
      "text/plain": [
       "       模型       AUC       準確率       精確率       招回率  f1_score  非再犯案例數       精確率  \\\n",
       "0  model1  0.770956  0.837398  0.845691  0.981011  0.908339   10743  0.670436   \n",
       "\n",
       "        招回率  f1_score  再犯案例數  \n",
       "0  0.177502   0.28069   2338  "
      ]
     },
     "execution_count": 36,
     "metadata": {},
     "output_type": "execute_result"
    }
   ],
   "source": [
    "results"
   ]
  },
  {
   "cell_type": "markdown",
   "id": "59d081b4",
   "metadata": {},
   "source": [
    "### ROC_AUC curve"
   ]
  },
  {
   "cell_type": "code",
   "execution_count": 38,
   "id": "6e9bf959",
   "metadata": {},
   "outputs": [
    {
     "data": {
      "image/png": "[encoded data removed]",
      "text/plain": [
       "<Figure size 640x480 with 1 Axes>"
      ]
     },
     "metadata": {},
     "output_type": "display_data"
    }
   ],
   "source": [
    "# plot ROC_AUC graph\n",
    "import matplotlib.pyplot as plt\n",
    "plt.rcParams['font.sans-serif']=['Microsoft Jhenghei']\n",
    "plt.rcParams['axes.unicode_minus']=False\n",
    "plt.figure(0).clf()\n",
    "plt.style.use(\"ggplot\")\n",
    "\n",
    "plt.plot(fpr,tpr,label=\"base model, AUC=\"+str(round(auc,6)))\n",
    "\n",
    "\n",
    "plt.legend(loc=\"lower right\")\n",
    "plt.title(\"模型比較(AUC)\")\n",
    "plt.xlabel(\"fpr\")\n",
    "plt.ylabel(\"tpr\")\n",
    "plt.savefig(\"modelAUCs.png\")"
   ]
  },
  {
   "cell_type": "markdown",
   "id": "3f1c3018",
   "metadata": {},
   "source": [
    "### 影響因子重要性"
   ]
  },
  {
   "cell_type": "code",
   "execution_count": 39,
   "id": "d82c4100",
   "metadata": {},
   "outputs": [],
   "source": [
    "fcolumns=['性別', '教育', '神智', '年齡', '每月採尿平均', '實際保管長度', '違規次數', '獎勵次數', '犯次',\n",
    "       '一年內次數', '二年內次數', '三年內次數', '四年內次數', '五年內次數', '首犯年齡']"
   ]
  },
  {
   "cell_type": "code",
   "execution_count": 40,
   "id": "a8f6729b",
   "metadata": {},
   "outputs": [],
   "source": [
    "factImportance = pd.DataFrame({'feature':fcolumns,\n",
    "                              'importance': model.feature_importances_}).sort_values('importance', ascending=False)"
   ]
  },
  {
   "cell_type": "code",
   "execution_count": 41,
   "id": "95314ce7",
   "metadata": {},
   "outputs": [
    {
     "name": "stdout",
     "output_type": "stream",
     "text": [
      "   feature  importance\n",
      "5   實際保管長度    0.186442\n",
      "8       犯次    0.157287\n",
      "4   每月採尿平均    0.128834\n",
      "2       神智    0.093226\n",
      "1       教育    0.073561\n",
      "9    一年內次數    0.071402\n",
      "10   二年內次數    0.051014\n",
      "11   三年內次數    0.048944\n",
      "12   四年內次數    0.039784\n",
      "7     獎勵次數    0.034595\n",
      "13   五年內次數    0.033827\n",
      "3       年齡    0.033376\n",
      "14    首犯年齡    0.025994\n",
      "0       性別    0.014340\n",
      "6     違規次數    0.007374\n"
     ]
    }
   ],
   "source": [
    "print(factImportance)"
   ]
  },
  {
   "cell_type": "markdown",
   "id": "a1765ff6",
   "metadata": {},
   "source": [
    "### 計算混淆矩陣confusion matrix"
   ]
  },
  {
   "cell_type": "code",
   "execution_count": 42,
   "id": "6ed411d9",
   "metadata": {},
   "outputs": [],
   "source": [
    "from sklearn.metrics import confusion_matrix\n",
    "cm = confusion_matrix(y_test, y_pred)"
   ]
  },
  {
   "cell_type": "code",
   "execution_count": 43,
   "id": "1aa5e844",
   "metadata": {},
   "outputs": [
    {
     "data": {
      "text/plain": [
       "array([[10539,   204],\n",
       "       [ 1923,   415]], dtype=int64)"
      ]
     },
     "execution_count": 43,
     "metadata": {},
     "output_type": "execute_result"
    }
   ],
   "source": [
    "cm #confusion matrix"
   ]
  },
  {
   "cell_type": "code",
   "execution_count": null,
   "id": "4929d585",
   "metadata": {},
   "outputs": [],
   "source": []
  }
 ],
 "metadata": {
  "kernelspec": {
   "display_name": "Python 3 (ipykernel)",
   "language": "python",
   "name": "python3"
  },
  "language_info": {
   "codemirror_mode": {
    "name": "ipython",
    "version": 3
   },
   "file_extension": ".py",
   "mimetype": "text/x-python",
   "name": "python",
   "nbconvert_exporter": "python",
   "pygments_lexer": "ipython3",
   "version": "3.9.13"
  }
 },
 "nbformat": 4,
 "nbformat_minor": 5
}
