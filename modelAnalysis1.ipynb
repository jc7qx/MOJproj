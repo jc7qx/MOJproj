{
 "cells": [
  {
   "cell_type": "code",
   "execution_count": 75,
   "id": "995c4095",
   "metadata": {},
   "outputs": [],
   "source": [
    "import pandas as pd\n",
    "import numpy as np\n",
    "from imblearn.pipeline import Pipeline\n",
    "from imblearn.over_sampling import SMOTE\n",
    "from imblearn.under_sampling import RandomUnderSampler\n",
    "from sklearn.preprocessing import RobustScaler\n",
    "from sklearn.model_selection import train_test_split, GridSearchCV\n",
    "from sklearn.metrics import classification_report, confusion_matrix,ConfusionMatrixDisplay\n",
    "from sklearn.metrics import precision_recall_fscore_support, accuracy_score, roc_auc_score, roc_curve\n",
    "from sklearn.ensemble import RandomForestClassifier\n",
    "from sklearn.model_selection import cross_val_score\n",
    "from sklearn.model_selection import RepeatedStratifiedKFold"
   ]
  },
  {
   "cell_type": "markdown",
   "id": "c0491e2a",
   "metadata": {},
   "source": [
    "**毒入毒品建模資料集，利用 `value_counts()` 計算出非再犯與再犯的資料數量，並使用 `train_test_split()` 將資料集分為訓練子集與測試子集，其中測試資料集的數量為總數的20%**"
   ]
  },
  {
   "cell_type": "code",
   "execution_count": 76,
   "id": "bd0bd6ad",
   "metadata": {},
   "outputs": [],
   "source": [
    "df = pd.read_csv(\"../data/trainDRUG.csv\")"
   ]
  },
  {
   "cell_type": "code",
   "execution_count": 77,
   "id": "83a7ade5",
   "metadata": {},
   "outputs": [
    {
     "data": {
      "text/plain": [
       "0    53906\n",
       "1    11496\n",
       "Name: 再犯註記, dtype: int64"
      ]
     },
     "execution_count": 77,
     "metadata": {},
     "output_type": "execute_result"
    }
   ],
   "source": [
    "df['再犯註記'].value_counts()"
   ]
  },
  {
   "cell_type": "code",
   "execution_count": 78,
   "id": "67a0dc06",
   "metadata": {},
   "outputs": [],
   "source": [
    "X = df.drop(['再犯註記'], axis=1)\n",
    "y = df['再犯註記']"
   ]
  },
  {
   "cell_type": "code",
   "execution_count": 79,
   "id": "8adab50c",
   "metadata": {},
   "outputs": [],
   "source": [
    "X_train, X_test, y_train, y_test = train_test_split(X, y, random_state = 42, test_size=0.2, stratify=y)"
   ]
  },
  {
   "cell_type": "code",
   "execution_count": 80,
   "id": "c8fe1cd7",
   "metadata": {},
   "outputs": [
    {
     "data": {
      "text/plain": [
       "0    43124\n",
       "1     9197\n",
       "Name: 再犯註記, dtype: int64"
      ]
     },
     "execution_count": 80,
     "metadata": {},
     "output_type": "execute_result"
    }
   ],
   "source": [
    "y_train.value_counts()"
   ]
  },
  {
   "cell_type": "code",
   "execution_count": 81,
   "id": "a6394d68",
   "metadata": {},
   "outputs": [
    {
     "data": {
      "text/plain": [
       "0    10782\n",
       "1     2299\n",
       "Name: 再犯註記, dtype: int64"
      ]
     },
     "execution_count": 81,
     "metadata": {},
     "output_type": "execute_result"
    }
   ],
   "source": [
    "y_test.value_counts()"
   ]
  },
  {
   "cell_type": "code",
   "execution_count": 82,
   "id": "c3a3c93d",
   "metadata": {},
   "outputs": [],
   "source": [
    "target_names = ['未再犯','再犯']\n",
    "aucs = []"
   ]
  },
  {
   "cell_type": "markdown",
   "id": "dd1d580a",
   "metadata": {},
   "source": [
    "### model1: 基本模型/原始資料\n",
    "\n",
    "資料分布不變動，以隨機森林模型預設值建模驗證"
   ]
  },
  {
   "cell_type": "code",
   "execution_count": 83,
   "id": "90813408",
   "metadata": {},
   "outputs": [
    {
     "name": "stdout",
     "output_type": "stream",
     "text": [
      "              precision    recall  f1-score   support\n",
      "\n",
      "         未再犯       0.86      0.96      0.91     10782\n",
      "          再犯       0.59      0.26      0.36      2299\n",
      "\n",
      "    accuracy                           0.84     13081\n",
      "   macro avg       0.72      0.61      0.63     13081\n",
      "weighted avg       0.81      0.84      0.81     13081\n",
      "\n"
     ]
    }
   ],
   "source": [
    "model1 = RandomForestClassifier(random_state=42, n_jobs=-1)\n",
    "model1.fit(X_train, y_train)\n",
    "y_predproba = model1.predict_proba(X_test)[:, 1]\n",
    "y_pred = model1.predict(X_test)\n",
    "fpr1, tpr1, _ = roc_curve(y_test, y_predproba)\n",
    "auc1 = roc_auc_score(y_test, y_predproba)\n",
    "aucs.append(auc1)\n",
    "print(classification_report(y_test, y_pred, target_names=target_names))"
   ]
  },
  {
   "cell_type": "markdown",
   "id": "8af6a3f5",
   "metadata": {},
   "source": [
    "### model2: RF with balanced weight\n",
    "\n",
    "資料分布不變動，以全體權重為基礎，建立預設值的隨機森林模型建模驗證"
   ]
  },
  {
   "cell_type": "code",
   "execution_count": 84,
   "id": "5aece297",
   "metadata": {},
   "outputs": [
    {
     "name": "stdout",
     "output_type": "stream",
     "text": [
      "              precision    recall  f1-score   support\n",
      "\n",
      "         未再犯       0.86      0.95      0.90     10782\n",
      "          再犯       0.55      0.26      0.35      2299\n",
      "\n",
      "    accuracy                           0.83     13081\n",
      "   macro avg       0.70      0.61      0.63     13081\n",
      "weighted avg       0.80      0.83      0.81     13081\n",
      "\n"
     ]
    }
   ],
   "source": [
    "model2 = RandomForestClassifier(class_weight='balanced',random_state=42, n_jobs=-1)\n",
    "model2.fit(X_train, y_train)\n",
    "y_predproba = model2.predict_proba(X_test)[:, 1]\n",
    "y_pred = model2.predict(X_test)\n",
    "fpr2, tpr2, _ = roc_curve(y_test, y_predproba)\n",
    "auc2 = roc_auc_score(y_test, y_predproba)\n",
    "aucs.append(auc2)\n",
    "print(classification_report(y_test, y_pred, target_names=target_names))"
   ]
  },
  {
   "cell_type": "markdown",
   "id": "8a89fc13",
   "metadata": {},
   "source": [
    "### model3: RF with balanced_subsample weight\n",
    "\n",
    "資料分布不變動，以每次執行時權重為基礎，建立預設值的隨機森林模型建模驗證"
   ]
  },
  {
   "cell_type": "code",
   "execution_count": 85,
   "id": "b38e1ff8",
   "metadata": {},
   "outputs": [
    {
     "name": "stdout",
     "output_type": "stream",
     "text": [
      "              precision    recall  f1-score   support\n",
      "\n",
      "         未再犯       0.86      0.96      0.90     10782\n",
      "          再犯       0.56      0.26      0.35      2299\n",
      "\n",
      "    accuracy                           0.83     13081\n",
      "   macro avg       0.71      0.61      0.63     13081\n",
      "weighted avg       0.81      0.83      0.81     13081\n",
      "\n"
     ]
    }
   ],
   "source": [
    "model3 = RandomForestClassifier(class_weight='balanced_subsample',random_state=42, n_jobs=-1)\n",
    "model3.fit(X_train, y_train)\n",
    "y_predproba = model3.predict_proba(X_test)[:, 1]\n",
    "y_pred = model3.predict(X_test)\n",
    "fpr3, tpr3, _ = roc_curve(y_test, y_predproba)\n",
    "auc3 = roc_auc_score(y_test, y_predproba)\n",
    "aucs.append(auc3)\n",
    "print(classification_report(y_test, y_pred, target_names=target_names))"
   ]
  },
  {
   "cell_type": "markdown",
   "id": "f5b75915",
   "metadata": {},
   "source": [
    "### model4: RF with SMOTE (oversampling)\n",
    "\n",
    "運用 SMOTE 上採樣方法，將訓練集的再犯的數量擴增至與非再犯數量一致，建立預設值的隨機森林模型建模驗證"
   ]
  },
  {
   "cell_type": "code",
   "execution_count": 86,
   "id": "c30209a3",
   "metadata": {},
   "outputs": [
    {
     "name": "stdout",
     "output_type": "stream",
     "text": [
      "              precision    recall  f1-score   support\n",
      "\n",
      "         未再犯       0.88      0.85      0.86     10782\n",
      "          再犯       0.39      0.45      0.42      2299\n",
      "\n",
      "    accuracy                           0.78     13081\n",
      "   macro avg       0.63      0.65      0.64     13081\n",
      "weighted avg       0.79      0.78      0.79     13081\n",
      "\n"
     ]
    }
   ],
   "source": [
    "oversample = SMOTE()\n",
    "X_over, y_over = oversample.fit_resample(X_train, y_train) #X, y\n",
    "model4 = RandomForestClassifier(random_state=42, n_jobs=-1)\n",
    "model4.fit(X_over, y_over)\n",
    "y_predproba = model4.predict_proba(X_test)[:, 1]\n",
    "y_pred = model4.predict(X_test)\n",
    "fpr4, tpr4, _ = roc_curve(y_test, y_predproba)\n",
    "auc4 = roc_auc_score(y_test, y_predproba)\n",
    "aucs.append(auc4)\n",
    "print(classification_report(y_test, y_pred, target_names=target_names))"
   ]
  },
  {
   "cell_type": "markdown",
   "id": "2e7f409f",
   "metadata": {},
   "source": [
    "### model5: pipleline process for undersampling + SMOTE"
   ]
  },
  {
   "cell_type": "code",
   "execution_count": 87,
   "id": "d17d4555",
   "metadata": {},
   "outputs": [],
   "source": [
    "u = RandomUnderSampler(random_state=42, sampling_strategy={0:30000})\n",
    "o = SMOTE()\n",
    "m = RandomForestClassifier(random_state=42)"
   ]
  },
  {
   "cell_type": "code",
   "execution_count": 88,
   "id": "2d08e0c6",
   "metadata": {},
   "outputs": [],
   "source": [
    "# pipeline 設定\n",
    "pipeline = Pipeline([\n",
    "    ('undersampler', u),\n",
    "    ('oversampler', o),\n",
    "    ('model', m)\n",
    "])"
   ]
  },
  {
   "cell_type": "code",
   "execution_count": 89,
   "id": "59484df9",
   "metadata": {},
   "outputs": [
    {
     "data": {
      "text/plain": [
       "Pipeline(steps=[('undersampler',\n",
       "                 RandomUnderSampler(random_state=42,\n",
       "                                    sampling_strategy={0: 30000})),\n",
       "                ('oversampler', SMOTE()),\n",
       "                ('model', RandomForestClassifier(random_state=42))])"
      ]
     },
     "execution_count": 89,
     "metadata": {},
     "output_type": "execute_result"
    }
   ],
   "source": [
    "pipeline.fit(X_train, y_train)"
   ]
  },
  {
   "cell_type": "code",
   "execution_count": 90,
   "id": "049da01e",
   "metadata": {},
   "outputs": [],
   "source": [
    "prediction = pipeline.predict(X_test)"
   ]
  },
  {
   "cell_type": "code",
   "execution_count": 91,
   "id": "343aeab2",
   "metadata": {},
   "outputs": [
    {
     "name": "stdout",
     "output_type": "stream",
     "text": [
      "              precision    recall  f1-score   support\n",
      "\n",
      "           0       0.88      0.82      0.85     10782\n",
      "           1       0.37      0.50      0.43      2299\n",
      "\n",
      "    accuracy                           0.77     13081\n",
      "   macro avg       0.63      0.66      0.64     13081\n",
      "weighted avg       0.80      0.77      0.78     13081\n",
      "\n"
     ]
    }
   ],
   "source": [
    "print(classification_report(y_test, prediction))"
   ]
  },
  {
   "cell_type": "markdown",
   "id": "8457d3b2",
   "metadata": {},
   "source": [
    "### 人為定義採樣策略"
   ]
  },
  {
   "cell_type": "code",
   "execution_count": 92,
   "id": "c7b255c4",
   "metadata": {},
   "outputs": [],
   "source": [
    "# 定義下採樣策略\n",
    "u_strategy = [\n",
    "    {0:50000},\n",
    "    {0:40000},\n",
    "    {0:30000},\n",
    "    {0:20000},\n",
    "    {0:10000},\n",
    "    {0:5000}\n",
    "]"
   ]
  },
  {
   "cell_type": "code",
   "execution_count": 93,
   "id": "cc1d58d4",
   "metadata": {},
   "outputs": [],
   "source": [
    "# 定義上採樣策略\n",
    "o_strategy = [\n",
    "    {1:50000},\n",
    "    {1:40000},\n",
    "    {1:30000},\n",
    "    {1:20000},\n",
    "    {1:10000},\n",
    "    {1:5000}\n",
    "]"
   ]
  },
  {
   "cell_type": "code",
   "execution_count": 94,
   "id": "5eda90d1",
   "metadata": {},
   "outputs": [],
   "source": [
    "hp_pipeline = Pipeline([\n",
    "    ('undersampler', u),\n",
    "    ('oversampler',o),\n",
    "    ('model',m)\n",
    "])"
   ]
  },
  {
   "cell_type": "code",
   "execution_count": 95,
   "id": "03571c3d",
   "metadata": {},
   "outputs": [],
   "source": [
    "grid_params = {\n",
    "    'undersampler__sampling_strategy': u_strategy,\n",
    "    'oversampler__sampling_strategy': o_strategy\n",
    "}"
   ]
  },
  {
   "cell_type": "code",
   "execution_count": 96,
   "id": "90fa574b",
   "metadata": {},
   "outputs": [],
   "source": [
    "clf = GridSearchCV(estimator = hp_pipeline, param_grid = grid_params)"
   ]
  },
  {
   "cell_type": "code",
   "execution_count": 97,
   "id": "4cf719f5",
   "metadata": {},
   "outputs": [],
   "source": [
    "%%capture\n",
    "clf.fit(X_train, y_train)"
   ]
  },
  {
   "cell_type": "code",
   "execution_count": 98,
   "id": "c2446084",
   "metadata": {},
   "outputs": [
    {
     "data": {
      "text/plain": [
       "{'oversampler__sampling_strategy': {1: 10000},\n",
       " 'undersampler__sampling_strategy': {0: 30000}}"
      ]
     },
     "execution_count": 98,
     "metadata": {},
     "output_type": "execute_result"
    }
   ],
   "source": [
    "clf.best_params_"
   ]
  },
  {
   "cell_type": "code",
   "execution_count": 99,
   "id": "a03f2ed3",
   "metadata": {},
   "outputs": [],
   "source": [
    "pipeline_best_model = clf.best_estimator_"
   ]
  },
  {
   "cell_type": "code",
   "execution_count": 100,
   "id": "a4b2fe84",
   "metadata": {},
   "outputs": [
    {
     "data": {
      "text/plain": [
       "Pipeline(steps=[('undersampler',\n",
       "                 RandomUnderSampler(random_state=42,\n",
       "                                    sampling_strategy={0: 30000})),\n",
       "                ('oversampler', SMOTE(sampling_strategy={1: 10000})),\n",
       "                ('model', RandomForestClassifier(random_state=42))])"
      ]
     },
     "execution_count": 100,
     "metadata": {},
     "output_type": "execute_result"
    }
   ],
   "source": [
    "pipeline_best_model.fit(X_train, y_train)"
   ]
  },
  {
   "cell_type": "code",
   "execution_count": 101,
   "id": "772120bf",
   "metadata": {},
   "outputs": [],
   "source": [
    "y_pred = pipeline_best_model.predict(X_test)"
   ]
  },
  {
   "cell_type": "code",
   "execution_count": 102,
   "id": "77dfeb24",
   "metadata": {},
   "outputs": [
    {
     "name": "stdout",
     "output_type": "stream",
     "text": [
      "              precision    recall  f1-score   support\n",
      "\n",
      "           0       0.87      0.93      0.90     10782\n",
      "           1       0.51      0.33      0.40      2299\n",
      "\n",
      "    accuracy                           0.83     13081\n",
      "   macro avg       0.69      0.63      0.65     13081\n",
      "weighted avg       0.81      0.83      0.81     13081\n",
      "\n"
     ]
    }
   ],
   "source": [
    "print(classification_report(y_test, y_pred))"
   ]
  },
  {
   "cell_type": "code",
   "execution_count": 103,
   "id": "0b1f4cc8",
   "metadata": {},
   "outputs": [],
   "source": [
    "#y_pred_proba[:1] 再犯的機率 \n",
    "y_pred_proba = pipeline_best_model.predict_proba(X_test)[:,1]"
   ]
  },
  {
   "cell_type": "code",
   "execution_count": 104,
   "id": "f74e4629",
   "metadata": {},
   "outputs": [],
   "source": [
    "fpr5, tpr5, _ = roc_curve(y_test, y_pred_proba)\n",
    "auc5 = roc_auc_score(y_test, y_pred_proba)\n",
    "aucs.append(auc5)"
   ]
  },
  {
   "cell_type": "markdown",
   "id": "b3f6cd9b",
   "metadata": {},
   "source": [
    "`sklearn.metrics.roc_curve()` Compute Receiver operating characteristic (ROC), restricted to the binary classification task.\n",
    "y_true, True binary labels. If labels are not either {-1, 1} or {0, 1}, then pos_label should be explicitly given. \n",
    "y_score, Target scores, can either be probability estimates of the positive class, confidence values, or non-thresholded measure of decisions.\n",
    "fpr is Increasing false positive rates such that element i is the false positive rate of predictions with score >= thresholds[i].\n",
    "tpr is Increasing true positive rates such that element i is the true positive rate of predictions with score >= thresholds[i]."
   ]
  },
  {
   "cell_type": "markdown",
   "id": "06d65a06",
   "metadata": {},
   "source": [
    "### 建立ROC_AUC圖"
   ]
  },
  {
   "cell_type": "code",
   "execution_count": 105,
   "id": "09885eea",
   "metadata": {},
   "outputs": [
    {
     "data": {
      "image/png": "[encoded data removed]",
      "text/plain": [
       "<Figure size 640x480 with 1 Axes>"
      ]
     },
     "metadata": {},
     "output_type": "display_data"
    }
   ],
   "source": [
    "# plot ROC_AUC graph\n",
    "import matplotlib.pyplot as plt\n",
    "plt.rcParams['font.sans-serif']=['Microsoft Jhenghei']\n",
    "plt.rcParams['axes.unicode_minus']=False\n",
    "plt.figure(0).clf()\n",
    "plt.style.use(\"ggplot\")\n",
    "\n",
    "plt.plot(fpr1,tpr1,label=\"base model, AUC=\"+str(round(auc1,6)))\n",
    "plt.plot(fpr2,tpr2,label=\"balanced weight, AUC=\"+str(round(auc2,6)))\n",
    "plt.plot(fpr3,tpr3,label=\"balanced_subsample weight, AUC=\"+str(round(auc3,6)))\n",
    "plt.plot(fpr4,tpr4,label=\"oversampling with SMOTE, AUC=\"+str(round(auc4,6)))\n",
    "plt.plot(fpr5,tpr5,label=\"best with undersamping + SMOTE, AUC=\"+str(round(auc5,6)))\n",
    "\n",
    "plt.legend(loc=0)\n",
    "plt.title(\"模型比較(AUC)\")\n",
    "plt.xlabel(\"fpr\")\n",
    "plt.ylabel(\"tpr\")\n",
    "plt.savefig(\"modelAUCs.png\")"
   ]
  },
  {
   "cell_type": "markdown",
   "id": "807c69c0",
   "metadata": {},
   "source": [
    "### 建立結果資料表"
   ]
  },
  {
   "cell_type": "code",
   "execution_count": 106,
   "id": "10a051d2",
   "metadata": {},
   "outputs": [],
   "source": [
    "results = pd.DataFrame(columns=['模型','AUC','準確率','精確率', '招回率','f1_score', '非再犯案例數','精確率', '招回率','f1_score', '再犯案例數'])"
   ]
  },
  {
   "cell_type": "code",
   "execution_count": 107,
   "id": "fb6d3845",
   "metadata": {},
   "outputs": [],
   "source": [
    "models = [model1, model2, model3, model4, pipeline_best_model]\n",
    "modelName = ['RF+原始資料','RF+balanced weight', 'RF+balanced subsample', 'RF+SMOTE', 'RF+u/o']\n",
    "k=1\n",
    "for m in models:\n",
    "    predict_y = m.predict(X_test)\n",
    "    acc = accuracy_score(y_test, predict_y)\n",
    "    prf = precision_recall_fscore_support(y_test, predict_y)\n",
    "    data = [modelName[k-1], aucs[k-1], acc]\n",
    "    for item in prf:\n",
    "        data.append(item[0])\n",
    "    for item2 in prf:\n",
    "        data.append(item2[1])\n",
    "    results.loc[len(results)]=data\n",
    "    k=k+1\n",
    "\n",
    "    "
   ]
  },
  {
   "cell_type": "code",
   "execution_count": 108,
   "id": "10bbe68a",
   "metadata": {},
   "outputs": [],
   "source": [
    "results.to_excel(\"output.xlsx\")\n",
    "#results"
   ]
  },
  {
   "cell_type": "code",
   "execution_count": 109,
   "id": "cbfa7608",
   "metadata": {},
   "outputs": [
    {
     "data": {
      "text/html": [
       "<div>\n",
       "<style scoped>\n",
       "    .dataframe tbody tr th:only-of-type {\n",
       "        vertical-align: middle;\n",
       "    }\n",
       "\n",
       "    .dataframe tbody tr th {\n",
       "        vertical-align: top;\n",
       "    }\n",
       "\n",
       "    .dataframe thead th {\n",
       "        text-align: right;\n",
       "    }\n",
       "</style>\n",
       "<table border=\"1\" class=\"dataframe\">\n",
       "  <thead>\n",
       "    <tr style=\"text-align: right;\">\n",
       "      <th></th>\n",
       "      <th>模型</th>\n",
       "      <th>AUC</th>\n",
       "      <th>準確率</th>\n",
       "      <th>精確率</th>\n",
       "      <th>招回率</th>\n",
       "      <th>f1_score</th>\n",
       "      <th>非再犯案例數</th>\n",
       "      <th>精確率</th>\n",
       "      <th>招回率</th>\n",
       "      <th>f1_score</th>\n",
       "      <th>再犯案例數</th>\n",
       "    </tr>\n",
       "  </thead>\n",
       "  <tbody>\n",
       "    <tr>\n",
       "      <th>0</th>\n",
       "      <td>RF+原始資料</td>\n",
       "      <td>0.762324</td>\n",
       "      <td>0.837474</td>\n",
       "      <td>0.858456</td>\n",
       "      <td>0.961324</td>\n",
       "      <td>0.906983</td>\n",
       "      <td>10782</td>\n",
       "      <td>0.585899</td>\n",
       "      <td>0.256633</td>\n",
       "      <td>0.356927</td>\n",
       "      <td>2299</td>\n",
       "    </tr>\n",
       "    <tr>\n",
       "      <th>1</th>\n",
       "      <td>RF+balanced weight</td>\n",
       "      <td>0.758935</td>\n",
       "      <td>0.832352</td>\n",
       "      <td>0.858203</td>\n",
       "      <td>0.954276</td>\n",
       "      <td>0.903693</td>\n",
       "      <td>10782</td>\n",
       "      <td>0.548535</td>\n",
       "      <td>0.260548</td>\n",
       "      <td>0.353288</td>\n",
       "      <td>2299</td>\n",
       "    </tr>\n",
       "    <tr>\n",
       "      <th>2</th>\n",
       "      <td>RF+balanced subsample</td>\n",
       "      <td>0.762100</td>\n",
       "      <td>0.834034</td>\n",
       "      <td>0.858284</td>\n",
       "      <td>0.956594</td>\n",
       "      <td>0.904777</td>\n",
       "      <td>10782</td>\n",
       "      <td>0.560150</td>\n",
       "      <td>0.259243</td>\n",
       "      <td>0.354445</td>\n",
       "      <td>2299</td>\n",
       "    </tr>\n",
       "    <tr>\n",
       "      <th>3</th>\n",
       "      <td>RF+SMOTE</td>\n",
       "      <td>0.735696</td>\n",
       "      <td>0.778763</td>\n",
       "      <td>0.879012</td>\n",
       "      <td>0.848358</td>\n",
       "      <td>0.863413</td>\n",
       "      <td>10782</td>\n",
       "      <td>0.388785</td>\n",
       "      <td>0.452371</td>\n",
       "      <td>0.418175</td>\n",
       "      <td>2299</td>\n",
       "    </tr>\n",
       "    <tr>\n",
       "      <th>4</th>\n",
       "      <td>RF+u/o</td>\n",
       "      <td>0.761145</td>\n",
       "      <td>0.826772</td>\n",
       "      <td>0.867766</td>\n",
       "      <td>0.931831</td>\n",
       "      <td>0.898658</td>\n",
       "      <td>10782</td>\n",
       "      <td>0.510978</td>\n",
       "      <td>0.334058</td>\n",
       "      <td>0.403998</td>\n",
       "      <td>2299</td>\n",
       "    </tr>\n",
       "  </tbody>\n",
       "</table>\n",
       "</div>"
      ],
      "text/plain": [
       "                      模型       AUC       準確率       精確率       招回率  f1_score  \\\n",
       "0                RF+原始資料  0.762324  0.837474  0.858456  0.961324  0.906983   \n",
       "1     RF+balanced weight  0.758935  0.832352  0.858203  0.954276  0.903693   \n",
       "2  RF+balanced subsample  0.762100  0.834034  0.858284  0.956594  0.904777   \n",
       "3               RF+SMOTE  0.735696  0.778763  0.879012  0.848358  0.863413   \n",
       "4                 RF+u/o  0.761145  0.826772  0.867766  0.931831  0.898658   \n",
       "\n",
       "   非再犯案例數       精確率       招回率  f1_score  再犯案例數  \n",
       "0   10782  0.585899  0.256633  0.356927   2299  \n",
       "1   10782  0.548535  0.260548  0.353288   2299  \n",
       "2   10782  0.560150  0.259243  0.354445   2299  \n",
       "3   10782  0.388785  0.452371  0.418175   2299  \n",
       "4   10782  0.510978  0.334058  0.403998   2299  "
      ]
     },
     "execution_count": 109,
     "metadata": {},
     "output_type": "execute_result"
    }
   ],
   "source": [
    "results"
   ]
  },
  {
   "cell_type": "code",
   "execution_count": null,
   "id": "ec268af5",
   "metadata": {},
   "outputs": [],
   "source": []
  }
 ],
 "metadata": {
  "kernelspec": {
   "display_name": "Python 3 (ipykernel)",
   "language": "python",
   "name": "python3"
  },
  "language_info": {
   "codemirror_mode": {
    "name": "ipython",
    "version": 3
   },
   "file_extension": ".py",
   "mimetype": "text/x-python",
   "name": "python",
   "nbconvert_exporter": "python",
   "pygments_lexer": "ipython3",
   "version": "3.9.13"
  }
 },
 "nbformat": 4,
 "nbformat_minor": 5
}
