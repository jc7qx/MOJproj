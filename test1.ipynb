{
 "cells": [
  {
   "cell_type": "code",
   "execution_count": 9,
   "id": "a0101a6b",
   "metadata": {},
   "outputs": [],
   "source": [
    "import pandas as pd\n",
    "import numpy as np\n",
    "import matplotlib.pyplot as plt\n",
    "import seaborn as sns\n",
    "from sklearn.ensemble import RandomForestClassifier\n",
    "from sklearn.model_selection import train_test_split"
   ]
  },
  {
   "cell_type": "code",
   "execution_count": 3,
   "id": "f3617776",
   "metadata": {},
   "outputs": [],
   "source": [
    "df = pd.read_csv(\"../data/trainDRUG.csv\", encoding='utf8')"
   ]
  },
  {
   "cell_type": "code",
   "execution_count": 4,
   "id": "70862e61",
   "metadata": {},
   "outputs": [
    {
     "data": {
      "text/plain": [
       "(65402, 16)"
      ]
     },
     "execution_count": 4,
     "metadata": {},
     "output_type": "execute_result"
    }
   ],
   "source": [
    "df.shape"
   ]
  },
  {
   "cell_type": "code",
   "execution_count": 5,
   "id": "6e087faf",
   "metadata": {},
   "outputs": [
    {
     "data": {
      "text/plain": [
       "Index(['性別', '教育', '神智', '年齡', '每月採尿平均', '實際保管長度', '違規次數', '獎勵次數', '犯次',\n",
       "       '一年內次數', '二年內次數', '三年內次數', '四年內次數', '五年內次數', '首犯年齡', '再犯註記'],\n",
       "      dtype='object')"
      ]
     },
     "execution_count": 5,
     "metadata": {},
     "output_type": "execute_result"
    }
   ],
   "source": [
    "df.columns"
   ]
  },
  {
   "cell_type": "code",
   "execution_count": 6,
   "id": "b33b9e43",
   "metadata": {},
   "outputs": [],
   "source": [
    "X = df.drop(['再犯註記'], axis=1)\n",
    "y = df['再犯註記']"
   ]
  },
  {
   "cell_type": "code",
   "execution_count": 7,
   "id": "02a3386d",
   "metadata": {},
   "outputs": [
    {
     "data": {
      "text/plain": [
       "0    53906\n",
       "1    11496\n",
       "Name: 再犯註記, dtype: int64"
      ]
     },
     "execution_count": 7,
     "metadata": {},
     "output_type": "execute_result"
    }
   ],
   "source": [
    "y.value_counts()"
   ]
  },
  {
   "cell_type": "code",
   "execution_count": 72,
   "id": "bee872e2",
   "metadata": {},
   "outputs": [],
   "source": [
    "X_train, X_test, y_train, y_test = train_test_split(X, y, test_size=10000, train_size=10000, shuffle=True, stratify=y, random_state=33)"
   ]
  },
  {
   "cell_type": "code",
   "execution_count": 73,
   "id": "df351338",
   "metadata": {},
   "outputs": [],
   "source": [
    "rfm1 = RandomForestClassifier(n_estimators=1000, random_state=33)"
   ]
  },
  {
   "cell_type": "code",
   "execution_count": 74,
   "id": "c55e80e3",
   "metadata": {},
   "outputs": [
    {
     "name": "stdout",
     "output_type": "stream",
     "text": [
      "7.93 s ± 29.7 ms per loop (mean ± std. dev. of 7 runs, 1 loop each)\n"
     ]
    }
   ],
   "source": [
    "%%timeit\n",
    "rfm1.fit(X_train, y_train)"
   ]
  },
  {
   "cell_type": "code",
   "execution_count": 75,
   "id": "45afca5b",
   "metadata": {},
   "outputs": [],
   "source": [
    "y_pred = rfm1.predict(X_test)"
   ]
  },
  {
   "cell_type": "code",
   "execution_count": 76,
   "id": "66774ef6",
   "metadata": {},
   "outputs": [
    {
     "name": "stdout",
     "output_type": "stream",
     "text": [
      "0.8362\n"
     ]
    },
    {
     "data": {
      "text/plain": [
       "(0.7209027611284264, 0.5976744712492604, 0.6185115877920354, None)"
      ]
     },
     "execution_count": 76,
     "metadata": {},
     "output_type": "execute_result"
    }
   ],
   "source": [
    "from sklearn.metrics import accuracy_score\n",
    "from sklearn.metrics import precision_recall_fscore_support\n",
    "print(accuracy_score(y_test, y_pred))\n",
    "precision_recall_fscore_support(y_test, y_pred, average='macro')"
   ]
  },
  {
   "cell_type": "code",
   "execution_count": 54,
   "id": "947db226",
   "metadata": {},
   "outputs": [
    {
     "data": {
      "text/plain": [
       "(0.6970687717752819, 0.5803351720401972, 0.5955958538266677, None)"
      ]
     },
     "execution_count": 54,
     "metadata": {},
     "output_type": "execute_result"
    }
   ],
   "source": [
    "\n"
   ]
  },
  {
   "cell_type": "code",
   "execution_count": 77,
   "id": "80582d43",
   "metadata": {},
   "outputs": [],
   "source": [
    "rfm2 = RandomForestClassifier(n_estimators=500, random_state=33)"
   ]
  },
  {
   "cell_type": "code",
   "execution_count": 78,
   "id": "a8ded308",
   "metadata": {},
   "outputs": [
    {
     "name": "stdout",
     "output_type": "stream",
     "text": [
      "4.06 s ± 13.8 ms per loop (mean ± std. dev. of 7 runs, 1 loop each)\n"
     ]
    }
   ],
   "source": [
    "%%timeit\n",
    "rfm2.fit(X_train, y_train)"
   ]
  },
  {
   "cell_type": "code",
   "execution_count": 79,
   "id": "34f11fb7",
   "metadata": {},
   "outputs": [
    {
     "name": "stdout",
     "output_type": "stream",
     "text": [
      "0.8361\n"
     ]
    },
    {
     "data": {
      "text/plain": [
       "(0.7204688213871914, 0.5976138063620972, 0.6184129466177872, None)"
      ]
     },
     "execution_count": 79,
     "metadata": {},
     "output_type": "execute_result"
    }
   ],
   "source": [
    "y_pred = rfm2.predict(X_test)\n",
    "print(accuracy_score(y_test, y_pred))\n",
    "precision_recall_fscore_support(y_test, y_pred, average='macro')"
   ]
  },
  {
   "cell_type": "code",
   "execution_count": null,
   "id": "05298d54",
   "metadata": {},
   "outputs": [],
   "source": []
  },
  {
   "cell_type": "code",
   "execution_count": 80,
   "id": "17a71910",
   "metadata": {},
   "outputs": [],
   "source": [
    "rfm3 = RandomForestClassifier(n_estimators=100, random_state=33)"
   ]
  },
  {
   "cell_type": "code",
   "execution_count": 81,
   "id": "8bb1b60d",
   "metadata": {},
   "outputs": [
    {
     "name": "stdout",
     "output_type": "stream",
     "text": [
      "825 ms ± 1.8 ms per loop (mean ± std. dev. of 7 runs, 1 loop each)\n"
     ]
    }
   ],
   "source": [
    "%%timeit\n",
    "rfm3.fit(X_train, y_train)"
   ]
  },
  {
   "cell_type": "code",
   "execution_count": 82,
   "id": "bbedb194",
   "metadata": {},
   "outputs": [
    {
     "name": "stdout",
     "output_type": "stream",
     "text": [
      "0.8353\n"
     ]
    },
    {
     "data": {
      "text/plain": [
       "(0.7166688406400401, 0.5982472333636727, 0.6189597044682007, None)"
      ]
     },
     "execution_count": 82,
     "metadata": {},
     "output_type": "execute_result"
    }
   ],
   "source": [
    "y_pred = rfm3.predict(X_test)\n",
    "print(accuracy_score(y_test, y_pred))\n",
    "precision_recall_fscore_support(y_test, y_pred, average='macro')"
   ]
  },
  {
   "cell_type": "code",
   "execution_count": 83,
   "id": "437c8e7f",
   "metadata": {},
   "outputs": [],
   "source": [
    "rfm4 = RandomForestClassifier(n_estimators=2000, random_state=33)"
   ]
  },
  {
   "cell_type": "code",
   "execution_count": 84,
   "id": "09b8cb4a",
   "metadata": {},
   "outputs": [
    {
     "name": "stdout",
     "output_type": "stream",
     "text": [
      "16.5 s ± 41.8 ms per loop (mean ± std. dev. of 7 runs, 1 loop each)\n"
     ]
    }
   ],
   "source": [
    "%%timeit\n",
    "rfm4.fit(X_train, y_train)"
   ]
  },
  {
   "cell_type": "code",
   "execution_count": 85,
   "id": "8cf4fedd",
   "metadata": {},
   "outputs": [
    {
     "name": "stdout",
     "output_type": "stream",
     "text": [
      "0.8372\n"
     ]
    },
    {
     "data": {
      "text/plain": [
       "(0.7252082807371876, 0.59850486934067, 0.6197696962800677, None)"
      ]
     },
     "execution_count": 85,
     "metadata": {},
     "output_type": "execute_result"
    }
   ],
   "source": [
    "y_pred = rfm4.predict(X_test)\n",
    "print(accuracy_score(y_test, y_pred))\n",
    "precision_recall_fscore_support(y_test, y_pred, average='macro')"
   ]
  },
  {
   "cell_type": "code",
   "execution_count": 89,
   "id": "aff21a44",
   "metadata": {},
   "outputs": [],
   "source": [
    "rfm4 = RandomForestClassifier(n_estimators=1300, random_state=33)"
   ]
  },
  {
   "cell_type": "code",
   "execution_count": 90,
   "id": "9f4191ca",
   "metadata": {},
   "outputs": [
    {
     "name": "stdout",
     "output_type": "stream",
     "text": [
      "10.5 s ± 16.2 ms per loop (mean ± std. dev. of 7 runs, 1 loop each)\n"
     ]
    }
   ],
   "source": [
    "%%timeit\n",
    "rfm4.fit(X_train, y_train)"
   ]
  },
  {
   "cell_type": "code",
   "execution_count": 91,
   "id": "e06ae96f",
   "metadata": {},
   "outputs": [
    {
     "name": "stdout",
     "output_type": "stream",
     "text": [
      "0.8357\n"
     ]
    },
    {
     "data": {
      "text/plain": [
       "(0.719162503215599, 0.596252400714562, 0.6166724749069206, None)"
      ]
     },
     "execution_count": 91,
     "metadata": {},
     "output_type": "execute_result"
    }
   ],
   "source": [
    "y_pred = rfm4.predict(X_test)\n",
    "print(accuracy_score(y_test, y_pred))\n",
    "precision_recall_fscore_support(y_test, y_pred, average='macro')"
   ]
  },
  {
   "cell_type": "code",
   "execution_count": null,
   "id": "78444934",
   "metadata": {},
   "outputs": [],
   "source": []
  }
 ],
 "metadata": {
  "kernelspec": {
   "display_name": "Python 3 (ipykernel)",
   "language": "python",
   "name": "python3"
  },
  "language_info": {
   "codemirror_mode": {
    "name": "ipython",
    "version": 3
   },
   "file_extension": ".py",
   "mimetype": "text/x-python",
   "name": "python",
   "nbconvert_exporter": "python",
   "pygments_lexer": "ipython3",
   "version": "3.9.13"
  }
 },
 "nbformat": 4,
 "nbformat_minor": 5
}
