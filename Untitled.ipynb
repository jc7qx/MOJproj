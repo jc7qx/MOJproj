{
 "cells": [
  {
   "cell_type": "code",
   "execution_count": 49,
   "id": "e2382c5f",
   "metadata": {},
   "outputs": [],
   "source": [
    "import numpy as np\n",
    "from numpy import mean\n",
    "import pandas as pd\n",
    "import matplotlib.pyplot as plt\n",
    "from sklearn.model_selection import train_test_split\n",
    "from xgboost import XGBClassifier, plot_importance, plot_tree\n",
    "from sklearn.ensemble import RandomForestClassifier\n",
    "from sklearn.metrics import confusion_matrix, roc_curve, auc, roc_auc_score, classification_report\n",
    "from sklearn.metrics import accuracy_score, precision_score, recall_score, f1_score\n",
    "from sklearn.model_selection import cross_val_score\n",
    "from imblearn.over_sampling import SMOTE\n",
    "from imblearn.under_sampling import RandomUnderSampler\n",
    "from sklearn.model_selection import RepeatedStratifiedKFold"
   ]
  },
  {
   "cell_type": "code",
   "execution_count": 2,
   "id": "3643e4b0",
   "metadata": {},
   "outputs": [],
   "source": [
    "plt.rcParams['font.sans-serif']=['Microsoft Jhenghei']\n",
    "plt.rcParams['axes.unicode_minus']=False"
   ]
  },
  {
   "cell_type": "code",
   "execution_count": 3,
   "id": "439482d3",
   "metadata": {},
   "outputs": [],
   "source": [
    "df = pd.read_csv(\"../data/traindrug.csv\", encoding=\"utf8\")"
   ]
  },
  {
   "cell_type": "code",
   "execution_count": 4,
   "id": "14610a65",
   "metadata": {},
   "outputs": [],
   "source": [
    "X = df.drop(labels=['再犯註記'], axis=1).values\n",
    "y = df['再犯註記'].values"
   ]
  },
  {
   "cell_type": "code",
   "execution_count": 5,
   "id": "ea70a8b5",
   "metadata": {},
   "outputs": [],
   "source": [
    "from collections import Counter"
   ]
  },
  {
   "cell_type": "code",
   "execution_count": 6,
   "id": "370d5f44",
   "metadata": {},
   "outputs": [
    {
     "data": {
      "text/plain": [
       "Counter({0: 53906, 1: 11496})"
      ]
     },
     "execution_count": 6,
     "metadata": {},
     "output_type": "execute_result"
    }
   ],
   "source": [
    "count = Counter(y)\n",
    "count"
   ]
  },
  {
   "cell_type": "code",
   "execution_count": 16,
   "id": "ee657b64",
   "metadata": {},
   "outputs": [],
   "source": [
    "class_counts = df['再犯註記'].value_counts()"
   ]
  },
  {
   "cell_type": "code",
   "execution_count": 42,
   "id": "a3a75880",
   "metadata": {},
   "outputs": [
    {
     "data": {
      "text/plain": [
       "Text(0.5, 0, '再犯註記(1:再犯，0:非再犯)')"
      ]
     },
     "execution_count": 42,
     "metadata": {},
     "output_type": "execute_result"
    },
    {
     "data": {
      "image/png": "[encoded data removed]",
      "text/plain": [
       "<Figure size 640x480 with 1 Axes>"
      ]
     },
     "metadata": {},
     "output_type": "display_data"
    }
   ],
   "source": [
    "ax=class_counts.plot.bar()\n",
    "ax.bar_label(ax.containers[0]) #顯示bar的資料數據 \n",
    "ax.set_ylabel(\"資料筆數\") #設定y軸標籤\n",
    "ax.set_xlabel(\"再犯註記(1:再犯，0:非再犯)\") #設定y軸標籤"
   ]
  },
  {
   "cell_type": "code",
   "execution_count": 61,
   "id": "b1c4e7ee",
   "metadata": {},
   "outputs": [],
   "source": [
    "mm = [RandomForestClassifier(),\n",
    "      RandomForestClassifier(class_weight='balanced'),\n",
    "     RandomForestClassifier(class_weight='balanced_subsample')]"
   ]
  },
  {
   "cell_type": "code",
   "execution_count": null,
   "id": "3a4e854f",
   "metadata": {},
   "outputs": [],
   "source": []
  },
  {
   "cell_type": "code",
   "execution_count": 51,
   "id": "d23e8cfa",
   "metadata": {},
   "outputs": [],
   "source": [
    "#model = RandomForestClassifier()\n",
    "model = RandomForestClassifier(class_weight='balanced')"
   ]
  },
  {
   "cell_type": "code",
   "execution_count": 52,
   "id": "a190bff7",
   "metadata": {},
   "outputs": [],
   "source": [
    "CV = RepeatedStratifiedKFold(n_splits=10, n_repeats=3, random_state=1)"
   ]
  },
  {
   "cell_type": "code",
   "execution_count": 53,
   "id": "6da5337b",
   "metadata": {},
   "outputs": [],
   "source": [
    "scores = cross_val_score(model, X, y, scoring='roc_auc', cv=CV, n_jobs=-1)"
   ]
  },
  {
   "cell_type": "code",
   "execution_count": 54,
   "id": "a8057a67",
   "metadata": {},
   "outputs": [
    {
     "name": "stdout",
     "output_type": "stream",
     "text": [
      "Mean ROC AUC: 0.762\n"
     ]
    }
   ],
   "source": [
    "print('model: %s, Mean ROC AUC: %.3f' % (m, mean(scores)))"
   ]
  },
  {
   "cell_type": "code",
   "execution_count": 62,
   "id": "412f7861",
   "metadata": {},
   "outputs": [
    {
     "name": "stdout",
     "output_type": "stream",
     "text": [
      "model: RandomForestClassifier(), Mean ROC AUC: 0.762\n",
      "model: RandomForestClassifier(class_weight='balanced'), Mean ROC AUC: 0.762\n",
      "model: RandomForestClassifier(class_weight='balanced_subsample'), Mean ROC AUC: 0.762\n"
     ]
    }
   ],
   "source": [
    "for m in mm:\n",
    "    model = m\n",
    "    CV = RepeatedStratifiedKFold(n_splits=10, n_repeats=3, random_state=1)\n",
    "    scores = cross_val_score(model, X, y, scoring='roc_auc', cv=CV, n_jobs=-1)\n",
    "    print('model: %s, Mean ROC AUC: %.3f' % (m, mean(scores)))"
   ]
  },
  {
   "cell_type": "code",
   "execution_count": 64,
   "id": "0abd8513",
   "metadata": {},
   "outputs": [
    {
     "name": "stdout",
     "output_type": "stream",
     "text": [
      "model: RandomForestClassifier(), Mean ROC AUC: 0.588\n",
      "model: RandomForestClassifier(class_weight='balanced'), Mean ROC AUC: 0.562\n",
      "model: RandomForestClassifier(class_weight='balanced_subsample'), Mean ROC AUC: 0.560\n"
     ]
    }
   ],
   "source": [
    "for m in mm:\n",
    "    model = m\n",
    "    CV = RepeatedStratifiedKFold(n_splits=10, n_repeats=3, random_state=1)\n",
    "    scores = cross_val_score(model, X, y, scoring='precision', cv=CV, n_jobs=-1)\n",
    "    print('model: %s, Mean ROC AUC: %.3f' % (m, mean(scores)))"
   ]
  },
  {
   "cell_type": "code",
   "execution_count": 66,
   "id": "89a3c584",
   "metadata": {},
   "outputs": [
    {
     "name": "stdout",
     "output_type": "stream",
     "text": [
      "model: RandomForestClassifier(), Mean ROC AUC: 0.838\n",
      "model: RandomForestClassifier(class_weight='balanced'), Mean ROC AUC: 0.834\n",
      "model: RandomForestClassifier(class_weight='balanced_subsample'), Mean ROC AUC: 0.835\n"
     ]
    }
   ],
   "source": [
    "for m in mm:\n",
    "    model = m\n",
    "    CV = RepeatedStratifiedKFold(n_splits=10, n_repeats=3, random_state=1)\n",
    "    scores = cross_val_score(model, X, y, scoring='accuracy', cv=CV, n_jobs=-1)\n",
    "    print('model: %s, Mean ROC AUC: %.3f' % (m, mean(scores)))"
   ]
  },
  {
   "cell_type": "code",
   "execution_count": 67,
   "id": "bed4e6f8",
   "metadata": {},
   "outputs": [
    {
     "name": "stdout",
     "output_type": "stream",
     "text": [
      "model: RandomForestClassifier(class_weight='balanced_subsample'), Mean ROC AUC: 0.782\n"
     ]
    }
   ],
   "source": [
    "model = XGBClassifier()\n",
    "CV = RepeatedStratifiedKFold(n_splits=10, n_repeats=3, random_state=1)\n",
    "scores = cross_val_score(model, X, y, scoring='roc_auc', cv=CV, n_jobs=-1)\n",
    "print('model: %s, Mean ROC AUC: %.3f' % (m, mean(scores)))"
   ]
  },
  {
   "cell_type": "code",
   "execution_count": 69,
   "id": "f781a4e5",
   "metadata": {},
   "outputs": [
    {
     "name": "stdout",
     "output_type": "stream",
     "text": [
      "model: RandomForestClassifier(class_weight='balanced_subsample'), Mean ROC AUC: 0.953\n"
     ]
    }
   ],
   "source": [
    "oversample = SMOTE()\n",
    "X_res, y_res = oversample.fit_resample(X, y)\n",
    "model = RandomForestClassifier()\n",
    "CV = RepeatedStratifiedKFold(n_splits=10, n_repeats=3, random_state=1)\n",
    "scores = cross_val_score(model, X_res, y_res, scoring='roc_auc', cv=CV, n_jobs=-1)\n",
    "print('model: %s, Mean ROC AUC: %.3f' % (m, mean(scores)))"
   ]
  },
  {
   "cell_type": "code",
   "execution_count": null,
   "id": "9ad495e6",
   "metadata": {},
   "outputs": [],
   "source": []
  }
 ],
 "metadata": {
  "kernelspec": {
   "display_name": "Python 3 (ipykernel)",
   "language": "python",
   "name": "python3"
  },
  "language_info": {
   "codemirror_mode": {
    "name": "ipython",
    "version": 3
   },
   "file_extension": ".py",
   "mimetype": "text/x-python",
   "name": "python",
   "nbconvert_exporter": "python",
   "pygments_lexer": "ipython3",
   "version": "3.9.13"
  }
 },
 "nbformat": 4,
 "nbformat_minor": 5
}
