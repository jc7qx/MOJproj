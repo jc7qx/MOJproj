{
 "cells": [
  {
   "cell_type": "code",
   "execution_count": 1,
   "id": "8d1225a1",
   "metadata": {},
   "outputs": [],
   "source": [
    "import os\n",
    "import time\n",
    "import numpy as np\n",
    "import pandas as pd\n",
    "\n",
    "from sklearn.model_selection import train_test_split, cross_validate\n",
    "from sklearn.metrics import confusion_matrix, make_scorer\n",
    "\n",
    "from sklearn.linear_model import LogisticRegression\n",
    "from sklearn.ensemble import RandomForestClassifier\n",
    "from imblearn.ensemble import EasyEnsembleClassifier\n",
    "\n",
    "\n",
    "random_state=7"
   ]
  },
  {
   "cell_type": "code",
   "execution_count": 2,
   "id": "efc37cd0",
   "metadata": {},
   "outputs": [],
   "source": [
    "df = pd.read_csv(\"../data/trainDRUG.csv\", encoding='utf8')"
   ]
  },
  {
   "cell_type": "code",
   "execution_count": 3,
   "id": "7c099795",
   "metadata": {},
   "outputs": [],
   "source": [
    "X = df.drop(['再犯註記'], axis=1)\n",
    "y = df['再犯註記'].values"
   ]
  },
  {
   "cell_type": "code",
   "execution_count": 4,
   "id": "ecf78683",
   "metadata": {},
   "outputs": [
    {
     "name": "stdout",
     "output_type": "stream",
     "text": [
      "Dimensions: \n",
      " x_train:(52321, 15) \n",
      " x_test(13081, 15) \n",
      " y_train(52321,) \n",
      " y_test(13081,)\n"
     ]
    }
   ],
   "source": [
    "x_train, x_test, y_train, y_test = train_test_split(X, y, test_size = 0.2, random_state=random_state)\n",
    "print('Dimensions: \\n x_train:{} \\n x_test{} \\n y_train{} \\n y_test{}'.format(x_train.shape, x_test.shape, y_train.shape, y_test.shape))"
   ]
  },
  {
   "cell_type": "code",
   "execution_count": 5,
   "id": "850f8a77",
   "metadata": {},
   "outputs": [],
   "source": [
    "def tn(y_true, y_pred): return confusion_matrix(y_true, y_pred)[0, 0]\n",
    "def fp(y_true, y_pred): return confusion_matrix(y_true, y_pred)[0, 1]\n",
    "def fn(y_true, y_pred): return confusion_matrix(y_true, y_pred)[1, 0]\n",
    "def tp(y_true, y_pred): return confusion_matrix(y_true, y_pred)[1, 1]"
   ]
  },
  {
   "cell_type": "code",
   "execution_count": 6,
   "id": "1eefa836",
   "metadata": {},
   "outputs": [],
   "source": [
    "scorers = {\n",
    "    'Accuracy': 'accuracy', \n",
    "    'roc_auc': 'roc_auc', \n",
    "    'Sensitivity':'recall', \n",
    "    'precision':'precision',\n",
    "    'tp': make_scorer(tp), \n",
    "    'tn': make_scorer(tn),\n",
    "    'fp': make_scorer(fp), \n",
    "    'fn': make_scorer(fn)\n",
    "} "
   ]
  },
  {
   "cell_type": "code",
   "execution_count": 10,
   "id": "43d1d94c",
   "metadata": {},
   "outputs": [],
   "source": [
    "classifier_name = 'Easy Ensemble'"
   ]
  },
  {
   "cell_type": "code",
   "execution_count": 11,
   "id": "f875fed2",
   "metadata": {},
   "outputs": [],
   "source": [
    "start_time = time.time()"
   ]
  },
  {
   "cell_type": "code",
   "execution_count": 12,
   "id": "3d03e300",
   "metadata": {},
   "outputs": [],
   "source": [
    "clf = RandomForestClassifier(n_estimators=500, max_depth=None, min_samples_split=3,criterion='entropy', class_weight='balanced', random_state=random_state)"
   ]
  },
  {
   "cell_type": "code",
   "execution_count": 13,
   "id": "3695b043",
   "metadata": {},
   "outputs": [],
   "source": [
    "scores = cross_validate(clf, X, y, scoring=scorers, cv=5)"
   ]
  },
  {
   "cell_type": "code",
   "execution_count": 14,
   "id": "ad40a4c2",
   "metadata": {},
   "outputs": [
    {
     "name": "stdout",
     "output_type": "stream",
     "text": [
      "351.0397081375122\n"
     ]
    }
   ],
   "source": [
    "print(time.time()-start_time)"
   ]
  },
  {
   "cell_type": "code",
   "execution_count": 15,
   "id": "7927f000",
   "metadata": {},
   "outputs": [],
   "source": [
    "Sensitivity = round(scores['test_tp'].mean() / (scores['test_tp'].mean() + scores['test_fn'].mean()),3)*100   #TP/(TP+FN) also recall\n",
    "Specificity = round(scores['test_tn'].mean() / (scores['test_tn'].mean() + scores['test_fp'].mean()),3)*100    #TN/(TN+FP)\n",
    "PPV = round(scores['test_tp'].mean() / (scores['test_tp'].mean() + scores['test_fp'].mean()),3)*100           #PPV = tp/(tp+fp) also precision\n",
    "NPV = round(scores['test_tn'].mean() / (scores['test_fn'].mean() + scores['test_tn'].mean()),3)*100           #TN(FN+TN)"
   ]
  },
  {
   "cell_type": "code",
   "execution_count": 16,
   "id": "61ead517",
   "metadata": {},
   "outputs": [
    {
     "name": "stdout",
     "output_type": "stream",
     "text": [
      "Easy Ensemble Acc: 0.83 (+/- 0.02)\n"
     ]
    }
   ],
   "source": [
    "scores_Acc = scores['test_Accuracy']                                                                                                                                    \n",
    "print(f\"{classifier_name} Acc: %0.2f (+/- %0.2f)\" % (scores_Acc.mean(), scores_Acc.std() * 2)) "
   ]
  },
  {
   "cell_type": "code",
   "execution_count": 17,
   "id": "34f75dc5",
   "metadata": {},
   "outputs": [
    {
     "name": "stdout",
     "output_type": "stream",
     "text": [
      "Easy Ensemble AUC: 0.75 (+/- 0.02)\n"
     ]
    }
   ],
   "source": [
    "scores_AUC = scores['test_roc_auc']                                                                     #Only works with binary classes, not multiclass                  \n",
    "print(f\"{classifier_name} AUC: %0.2f (+/- %0.2f)\" % (scores_AUC.mean(), scores_AUC.std() * 2))"
   ]
  },
  {
   "cell_type": "code",
   "execution_count": 18,
   "id": "41dfaff8",
   "metadata": {},
   "outputs": [
    {
     "name": "stdout",
     "output_type": "stream",
     "text": [
      "Easy Ensemble Recall: 0.28 (+/- 0.06)\n"
     ]
    }
   ],
   "source": [
    "scores_sensitivity = scores['test_Sensitivity']                                                                     #Only works with binary classes, not multiclass                  \n",
    "print(f\"{classifier_name} Recall: %0.2f (+/- %0.2f)\" % (scores_sensitivity.mean(), scores_sensitivity.std() * 2)) "
   ]
  },
  {
   "cell_type": "code",
   "execution_count": 19,
   "id": "dda8a34a",
   "metadata": {},
   "outputs": [
    {
     "name": "stdout",
     "output_type": "stream",
     "text": [
      "Easy Ensemble Precision: 0.54 (+/- 0.11)\n"
     ]
    }
   ],
   "source": [
    "scores_precision = scores['test_precision']                                                                     #Only works with binary classes, not multiclass                  \n",
    "print(f\"{classifier_name} Precision: %0.2f (+/- %0.2f)\" % (scores_precision.mean(), scores_precision.std() * 2)) "
   ]
  },
  {
   "cell_type": "code",
   "execution_count": 20,
   "id": "dbc0cc2a",
   "metadata": {},
   "outputs": [
    {
     "name": "stdout",
     "output_type": "stream",
     "text": [
      "Easy Ensemble Sensitivity =  28.1 %\n",
      "Easy Ensemble Specificity =  94.69999999999999 %\n",
      "Easy Ensemble PPV =  52.800000000000004 %\n",
      "Easy Ensemble NPV =  86.1 %\n"
     ]
    }
   ],
   "source": [
    "print(f\"{classifier_name} Sensitivity = \", Sensitivity, \"%\")\n",
    "print(f\"{classifier_name} Specificity = \", Specificity, \"%\")\n",
    "print(f\"{classifier_name} PPV = \", PPV, \"%\")  \n",
    "print(f\"{classifier_name} NPV = \", NPV, \"%\")"
   ]
  },
  {
   "cell_type": "code",
   "execution_count": 21,
   "id": "a29b96c1",
   "metadata": {},
   "outputs": [
    {
     "name": "stdout",
     "output_type": "stream",
     "text": [
      "Easy Ensemble Acc: 0.67 (+/- 0.08)\n",
      "Easy Ensemble AUC: 0.75 (+/- 0.02)\n",
      "Easy Ensemble Recall: 0.70 (+/- 0.09)\n",
      "Easy Ensemble Precision: 0.31 (+/- 0.05)\n",
      "Easy Ensemble Sensitivity =  70.39999999999999 %\n",
      "Easy Ensemble Specificity =  65.8 %\n",
      "Easy Ensemble PPV =  30.5 %\n",
      "Easy Ensemble NPV =  91.2 %\n",
      "CV Runtime: 28.85393214225769\n"
     ]
    }
   ],
   "source": [
    "st = time.time()\n",
    "clf = EasyEnsembleClassifier(n_estimators=20)\n",
    "scores = cross_validate(clf, X, y, scoring=scorers, cv=5)          \n",
    "\n",
    "Sensitivity = round(scores['test_tp'].mean() / (scores['test_tp'].mean() + scores['test_fn'].mean()),3)*100   #TP/(TP+FN) also recall\n",
    "Specificity = round(scores['test_tn'].mean() / (scores['test_tn'].mean() + scores['test_fp'].mean()),3)*100    #TN/(TN+FP)\n",
    "PPV = round(scores['test_tp'].mean() / (scores['test_tp'].mean() + scores['test_fp'].mean()),3)*100           #PPV = tp/(tp+fp) also precision\n",
    "NPV = round(scores['test_tn'].mean() / (scores['test_fn'].mean() + scores['test_tn'].mean()),3)*100           #TN(FN+TN)\n",
    "\n",
    "scores_Acc = scores['test_Accuracy']                                                                                                                                    \n",
    "print(f\"{classifier_name} Acc: %0.2f (+/- %0.2f)\" % (scores_Acc.mean(), scores_Acc.std() * 2))                                                                                                    \n",
    "scores_AUC = scores['test_roc_auc']                                                                     #Only works with binary classes, not multiclass                  \n",
    "print(f\"{classifier_name} AUC: %0.2f (+/- %0.2f)\" % (scores_AUC.mean(), scores_AUC.std() * 2))      \n",
    "scores_sensitivity = scores['test_Sensitivity']                                                                     #Only works with binary classes, not multiclass                  \n",
    "print(f\"{classifier_name} Recall: %0.2f (+/- %0.2f)\" % (scores_sensitivity.mean(), scores_sensitivity.std() * 2)) \n",
    "scores_precision = scores['test_precision']                                                                     #Only works with binary classes, not multiclass                  \n",
    "print(f\"{classifier_name} Precision: %0.2f (+/- %0.2f)\" % (scores_precision.mean(), scores_precision.std() * 2))                          \n",
    "print(f\"{classifier_name} Sensitivity = \", Sensitivity, \"%\")\n",
    "print(f\"{classifier_name} Specificity = \", Specificity, \"%\")\n",
    "print(f\"{classifier_name} PPV = \", PPV, \"%\")  \n",
    "print(f\"{classifier_name} NPV = \", NPV, \"%\")\n",
    "\n",
    "print(\"CV Runtime:\", time.time()-st)"
   ]
  },
  {
   "cell_type": "code",
   "execution_count": null,
   "id": "2a33edcc",
   "metadata": {},
   "outputs": [],
   "source": []
  }
 ],
 "metadata": {
  "kernelspec": {
   "display_name": "Python 3 (ipykernel)",
   "language": "python",
   "name": "python3"
  },
  "language_info": {
   "codemirror_mode": {
    "name": "ipython",
    "version": 3
   },
   "file_extension": ".py",
   "mimetype": "text/x-python",
   "name": "python",
   "nbconvert_exporter": "python",
   "pygments_lexer": "ipython3",
   "version": "3.9.13"
  }
 },
 "nbformat": 4,
 "nbformat_minor": 5
}
