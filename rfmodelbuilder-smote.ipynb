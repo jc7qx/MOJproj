{
 "cells": [
  {
   "cell_type": "markdown",
   "id": "4e32fd50",
   "metadata": {},
   "source": [
    "## 毒品資料為基礎建立隨機森林模型\n",
    "1. 上採樣處理資料不平衡分佈\n",
    "2. 超參數調教\n",
    "3. 計算效能指標\n",
    "4. ROC_AUC Curve\n",
    "5. factor importance\n",
    "6. confusion matrix"
   ]
  },
  {
   "cell_type": "code",
   "execution_count": 36,
   "id": "2850fdf9",
   "metadata": {},
   "outputs": [],
   "source": [
    "import numpy as np\n",
    "import pandas as pd\n",
    "import matplotlib.pyplot as plt\n",
    "from sklearn.model_selection import train_test_split\n",
    "from xgboost import XGBClassifier, plot_importance, plot_tree\n",
    "from sklearn.ensemble import RandomForestClassifier\n",
    "from sklearn.metrics import confusion_matrix, roc_curve, auc, roc_auc_score, classification_report\n",
    "from sklearn.metrics import accuracy_score, precision_score, recall_score, f1_score\n",
    "from sklearn.model_selection import cross_val_score\n",
    "from imblearn.over_sampling import SMOTE"
   ]
  },
  {
   "cell_type": "markdown",
   "id": "11c8975f",
   "metadata": {},
   "source": [
    "圖形顯示中文設定"
   ]
  },
  {
   "cell_type": "code",
   "execution_count": 37,
   "id": "676f6ec9",
   "metadata": {},
   "outputs": [],
   "source": [
    "plt.rcParams['font.sans-serif']=['Microsoft Jhenghei']\n",
    "plt.rcParams['axes.unicode_minus']=False"
   ]
  },
  {
   "cell_type": "markdown",
   "id": "ca7765a2",
   "metadata": {},
   "source": [
    "### 資料讀取"
   ]
  },
  {
   "cell_type": "code",
   "execution_count": 38,
   "id": "3bdcd267",
   "metadata": {},
   "outputs": [],
   "source": [
    "df = pd.read_csv(\"../data/traindrug.csv\", encoding=\"utf8\")"
   ]
  },
  {
   "cell_type": "code",
   "execution_count": 39,
   "id": "ed9fc3c1",
   "metadata": {},
   "outputs": [
    {
     "data": {
      "text/html": [
       "<div>\n",
       "<style scoped>\n",
       "    .dataframe tbody tr th:only-of-type {\n",
       "        vertical-align: middle;\n",
       "    }\n",
       "\n",
       "    .dataframe tbody tr th {\n",
       "        vertical-align: top;\n",
       "    }\n",
       "\n",
       "    .dataframe thead th {\n",
       "        text-align: right;\n",
       "    }\n",
       "</style>\n",
       "<table border=\"1\" class=\"dataframe\">\n",
       "  <thead>\n",
       "    <tr style=\"text-align: right;\">\n",
       "      <th></th>\n",
       "      <th>性別</th>\n",
       "      <th>教育</th>\n",
       "      <th>神智</th>\n",
       "      <th>年齡</th>\n",
       "      <th>每月採尿平均</th>\n",
       "      <th>實際保管長度</th>\n",
       "      <th>違規次數</th>\n",
       "      <th>獎勵次數</th>\n",
       "      <th>犯次</th>\n",
       "      <th>一年內次數</th>\n",
       "      <th>二年內次數</th>\n",
       "      <th>三年內次數</th>\n",
       "      <th>四年內次數</th>\n",
       "      <th>五年內次數</th>\n",
       "      <th>首犯年齡</th>\n",
       "      <th>再犯註記</th>\n",
       "    </tr>\n",
       "  </thead>\n",
       "  <tbody>\n",
       "    <tr>\n",
       "      <th>0</th>\n",
       "      <td>1</td>\n",
       "      <td>4</td>\n",
       "      <td>3</td>\n",
       "      <td>3</td>\n",
       "      <td>2.333</td>\n",
       "      <td>1</td>\n",
       "      <td>0</td>\n",
       "      <td>0</td>\n",
       "      <td>5</td>\n",
       "      <td>0</td>\n",
       "      <td>0</td>\n",
       "      <td>0</td>\n",
       "      <td>3</td>\n",
       "      <td>4</td>\n",
       "      <td>0</td>\n",
       "      <td>0</td>\n",
       "    </tr>\n",
       "    <tr>\n",
       "      <th>1</th>\n",
       "      <td>1</td>\n",
       "      <td>3</td>\n",
       "      <td>2</td>\n",
       "      <td>3</td>\n",
       "      <td>0.000</td>\n",
       "      <td>1</td>\n",
       "      <td>0</td>\n",
       "      <td>0</td>\n",
       "      <td>2</td>\n",
       "      <td>0</td>\n",
       "      <td>0</td>\n",
       "      <td>0</td>\n",
       "      <td>1</td>\n",
       "      <td>0</td>\n",
       "      <td>0</td>\n",
       "      <td>0</td>\n",
       "    </tr>\n",
       "    <tr>\n",
       "      <th>2</th>\n",
       "      <td>1</td>\n",
       "      <td>3</td>\n",
       "      <td>2</td>\n",
       "      <td>3</td>\n",
       "      <td>1.000</td>\n",
       "      <td>3</td>\n",
       "      <td>0</td>\n",
       "      <td>2</td>\n",
       "      <td>4</td>\n",
       "      <td>0</td>\n",
       "      <td>0</td>\n",
       "      <td>0</td>\n",
       "      <td>0</td>\n",
       "      <td>0</td>\n",
       "      <td>1</td>\n",
       "      <td>0</td>\n",
       "    </tr>\n",
       "    <tr>\n",
       "      <th>3</th>\n",
       "      <td>1</td>\n",
       "      <td>3</td>\n",
       "      <td>0</td>\n",
       "      <td>4</td>\n",
       "      <td>1.714</td>\n",
       "      <td>1</td>\n",
       "      <td>0</td>\n",
       "      <td>0</td>\n",
       "      <td>5</td>\n",
       "      <td>0</td>\n",
       "      <td>0</td>\n",
       "      <td>0</td>\n",
       "      <td>0</td>\n",
       "      <td>0</td>\n",
       "      <td>1</td>\n",
       "      <td>1</td>\n",
       "    </tr>\n",
       "    <tr>\n",
       "      <th>4</th>\n",
       "      <td>1</td>\n",
       "      <td>3</td>\n",
       "      <td>0</td>\n",
       "      <td>3</td>\n",
       "      <td>0.871</td>\n",
       "      <td>4</td>\n",
       "      <td>0</td>\n",
       "      <td>1</td>\n",
       "      <td>2</td>\n",
       "      <td>0</td>\n",
       "      <td>0</td>\n",
       "      <td>0</td>\n",
       "      <td>0</td>\n",
       "      <td>0</td>\n",
       "      <td>0</td>\n",
       "      <td>0</td>\n",
       "    </tr>\n",
       "  </tbody>\n",
       "</table>\n",
       "</div>"
      ],
      "text/plain": [
       "   性別  教育  神智  年齡  每月採尿平均  實際保管長度  違規次數  獎勵次數  犯次  一年內次數  二年內次數  三年內次數  四年內次數  \\\n",
       "0   1   4   3   3   2.333       1     0     0   5      0      0      0      3   \n",
       "1   1   3   2   3   0.000       1     0     0   2      0      0      0      1   \n",
       "2   1   3   2   3   1.000       3     0     2   4      0      0      0      0   \n",
       "3   1   3   0   4   1.714       1     0     0   5      0      0      0      0   \n",
       "4   1   3   0   3   0.871       4     0     1   2      0      0      0      0   \n",
       "\n",
       "   五年內次數  首犯年齡  再犯註記  \n",
       "0      4     0     0  \n",
       "1      0     0     0  \n",
       "2      0     1     0  \n",
       "3      0     1     1  \n",
       "4      0     0     0  "
      ]
     },
     "execution_count": 39,
     "metadata": {},
     "output_type": "execute_result"
    }
   ],
   "source": [
    "df.head() #觀察資料內容"
   ]
  },
  {
   "cell_type": "code",
   "execution_count": 40,
   "id": "a09b3a88",
   "metadata": {},
   "outputs": [
    {
     "data": {
      "text/plain": [
       "Index(['性別', '教育', '神智', '年齡', '每月採尿平均', '實際保管長度', '違規次數', '獎勵次數', '犯次',\n",
       "       '一年內次數', '二年內次數', '三年內次數', '四年內次數', '五年內次數', '首犯年齡', '再犯註記'],\n",
       "      dtype='object')"
      ]
     },
     "execution_count": 40,
     "metadata": {},
     "output_type": "execute_result"
    }
   ],
   "source": [
    "df.columns #資料欄位名稱"
   ]
  },
  {
   "cell_type": "code",
   "execution_count": 41,
   "id": "ee591142",
   "metadata": {},
   "outputs": [
    {
     "data": {
      "text/plain": [
       "(65402, 16)"
      ]
     },
     "execution_count": 41,
     "metadata": {},
     "output_type": "execute_result"
    }
   ],
   "source": [
    "df.shape #資料維度 16個欄位，65402筆資料"
   ]
  },
  {
   "cell_type": "markdown",
   "id": "6041c4e0",
   "metadata": {},
   "source": [
    "**找出再犯與非再犯資料分佈**"
   ]
  },
  {
   "cell_type": "code",
   "execution_count": 42,
   "id": "c726ec12",
   "metadata": {},
   "outputs": [
    {
     "data": {
      "text/plain": [
       "Text(0.5, 0, '再犯註記(1:再犯，0:非再犯)')"
      ]
     },
     "execution_count": 42,
     "metadata": {},
     "output_type": "execute_result"
    },
    {
     "data": {
      "image/png": "[encoded data removed]",
      "text/plain": [
       "<Figure size 640x480 with 1 Axes>"
      ]
     },
     "metadata": {},
     "output_type": "display_data"
    }
   ],
   "source": [
    "tgtn = df.groupby('再犯註記')\n",
    "ax = tgtn.size().plot.bar()\n",
    "ax.bar_label(ax.containers[0]) #顯示bar的資料數據 \n",
    "ax.set_ylabel(\"資料筆數\") #設定y軸標籤\n",
    "ax.set_xlabel(\"再犯註記(1:再犯，0:非再犯)\") #設定y軸標籤"
   ]
  },
  {
   "cell_type": "markdown",
   "id": "25247f35",
   "metadata": {},
   "source": [
    "### 建立訓練集與測試集(X, y)"
   ]
  },
  {
   "cell_type": "code",
   "execution_count": 43,
   "id": "b04bf46c",
   "metadata": {},
   "outputs": [],
   "source": [
    "X = df.drop(labels=['再犯註記'], axis=1).values\n",
    "y = df['再犯註記'].values"
   ]
  },
  {
   "cell_type": "code",
   "execution_count": 44,
   "id": "ffdd0064",
   "metadata": {},
   "outputs": [],
   "source": [
    "train_X, test_X, train_y, test_y = train_test_split(X, y, test_size=0.2, random_state=0)"
   ]
  },
  {
   "cell_type": "code",
   "execution_count": 45,
   "id": "056257a1",
   "metadata": {},
   "outputs": [
    {
     "name": "stdout",
     "output_type": "stream",
     "text": [
      "Counter({0: 53906, 1: 11496})\n"
     ]
    }
   ],
   "source": [
    "from collections import Counter\n",
    "counter=Counter(y)\n",
    "print(counter)"
   ]
  },
  {
   "cell_type": "markdown",
   "id": "6fdc3a11",
   "metadata": {},
   "source": [
    "### oversampling with SMOTE"
   ]
  },
  {
   "cell_type": "code",
   "execution_count": 46,
   "id": "8bdb9700",
   "metadata": {},
   "outputs": [],
   "source": [
    "oversample = SMOTE()\n",
    "X_over, y_over = oversample.fit_resample(X, y)"
   ]
  },
  {
   "cell_type": "code",
   "execution_count": 47,
   "id": "a7c0ce14",
   "metadata": {},
   "outputs": [
    {
     "name": "stdout",
     "output_type": "stream",
     "text": [
      "Counter({0: 53906, 1: 53906})\n"
     ]
    }
   ],
   "source": [
    "counter_over=Counter(y_over)\n",
    "print(counter_over)"
   ]
  },
  {
   "cell_type": "markdown",
   "id": "da498db4",
   "metadata": {},
   "source": [
    "### 超參數調教"
   ]
  },
  {
   "cell_type": "code",
   "execution_count": 48,
   "id": "f9d27664",
   "metadata": {},
   "outputs": [],
   "source": [
    "# Import Random Forest model\n",
    "from sklearn.ensemble import RandomForestClassifier\n",
    "# Instantiate model with 1000 decision trees\n",
    "rf = RandomForestClassifier(n_estimators = 1000, random_state = 42)"
   ]
  },
  {
   "cell_type": "markdown",
   "id": "d236a560",
   "metadata": {},
   "source": [
    "### design of param grid"
   ]
  },
  {
   "cell_type": "code",
   "execution_count": 49,
   "id": "1f99241c",
   "metadata": {},
   "outputs": [],
   "source": [
    "n_estimators = np.arange(100, 2500, step=200)\n",
    "max_features = [\"auto\", \"sqrt\", \"log2\"]\n",
    "max_depth = [3,4,5]\n",
    "min_samples_split = np.arange(2, 10, step=2)\n",
    "min_samples_leaf = [1, 2, 3, 4, 5]\n",
    "bootstrap = [True, False]"
   ]
  },
  {
   "cell_type": "code",
   "execution_count": 50,
   "id": "66926f25",
   "metadata": {},
   "outputs": [],
   "source": [
    "param_grid={\n",
    "    \"n_estimators\": n_estimators,\n",
    "    \"max_features\": max_features,\n",
    "    \"max_depth\": max_depth,\n",
    "    \"min_samples_split\": min_samples_split,\n",
    "    \"min_samples_leaf\": min_samples_leaf,\n",
    "    \"bootstrap\": bootstrap,\n",
    "}"
   ]
  },
  {
   "cell_type": "code",
   "execution_count": 51,
   "id": "471a24b6",
   "metadata": {},
   "outputs": [
    {
     "data": {
      "text/plain": [
       "{'n_estimators': array([ 100,  300,  500,  700,  900, 1100, 1300, 1500, 1700, 1900, 2100,\n",
       "        2300]),\n",
       " 'max_features': ['auto', 'sqrt', 'log2'],\n",
       " 'max_depth': [3, 4, 5],\n",
       " 'min_samples_split': array([2, 4, 6, 8]),\n",
       " 'min_samples_leaf': [1, 2, 3, 4, 5],\n",
       " 'bootstrap': [True, False]}"
      ]
     },
     "execution_count": 51,
     "metadata": {},
     "output_type": "execute_result"
    }
   ],
   "source": [
    "param_grid"
   ]
  },
  {
   "cell_type": "markdown",
   "id": "2951e166",
   "metadata": {},
   "source": [
    "### random search for hyperparameters"
   ]
  },
  {
   "cell_type": "code",
   "execution_count": 52,
   "id": "a57fdc57",
   "metadata": {},
   "outputs": [],
   "source": [
    "from sklearn.ensemble import RandomForestClassifier\n",
    "from sklearn.model_selection import RandomizedSearchCV\n",
    "rs_cv = RandomizedSearchCV(rf, param_grid, n_iter=100, cv=5, scoring=\"accuracy\", n_jobs=-1)"
   ]
  },
  {
   "cell_type": "code",
   "execution_count": 53,
   "id": "616a66c2",
   "metadata": {},
   "outputs": [
    {
     "name": "stdout",
     "output_type": "stream",
     "text": [
      "55.852498916784924\n"
     ]
    }
   ],
   "source": [
    "import time\n",
    "start = time.time()\n",
    "_=rs_cv.fit(X_over, y_over)\n",
    "end = time.time()\n",
    "tt = end-start\n",
    "print(tt/60)"
   ]
  },
  {
   "cell_type": "code",
   "execution_count": 54,
   "id": "3905bfcc",
   "metadata": {},
   "outputs": [
    {
     "data": {
      "text/plain": [
       "0.7297334731249985"
      ]
     },
     "execution_count": 54,
     "metadata": {},
     "output_type": "execute_result"
    }
   ],
   "source": [
    "rs_cv.best_score_"
   ]
  },
  {
   "cell_type": "code",
   "execution_count": 55,
   "id": "d941c343",
   "metadata": {},
   "outputs": [
    {
     "name": "stdout",
     "output_type": "stream",
     "text": [
      "{'n_estimators': 1700, 'min_samples_split': 6, 'min_samples_leaf': 2, 'max_features': 'sqrt', 'max_depth': 5, 'bootstrap': False}\n"
     ]
    }
   ],
   "source": [
    "print(rs_cv.best_params_) # obtain params by random search"
   ]
  },
  {
   "cell_type": "code",
   "execution_count": 56,
   "id": "28735636",
   "metadata": {},
   "outputs": [],
   "source": [
    "new_params = {\n",
    "    \"n_estimators\": [1600, 1650, 1700, 1750, 1800],\n",
    "    \"max_features\": ['sqrt'],\n",
    "    \"max_depth\": [5],\n",
    "    \"min_samples_split\":[2,3,4],\n",
    "    \"min_samples_leaf\": [1,2,3],\n",
    "    \"bootstrap\": [\"False\"],\n",
    "}"
   ]
  },
  {
   "cell_type": "markdown",
   "id": "845a4446",
   "metadata": {},
   "source": [
    "### fine turning hyperparameters by grid search"
   ]
  },
  {
   "cell_type": "code",
   "execution_count": 57,
   "id": "a3e4119b",
   "metadata": {},
   "outputs": [],
   "source": [
    "from sklearn.model_selection import GridSearchCV\n",
    "\n",
    "grid_cv = GridSearchCV(rf, new_params, cv=5, scoring=\"accuracy\",n_jobs=-1)"
   ]
  },
  {
   "cell_type": "code",
   "execution_count": 58,
   "id": "c5396d0e",
   "metadata": {},
   "outputs": [
    {
     "name": "stdout",
     "output_type": "stream",
     "text": [
      "36.72614422241847\n"
     ]
    }
   ],
   "source": [
    "import time\n",
    "start = time.time()\n",
    "_ = grid_cv.fit(X_over, y_over)\n",
    "end = time.time()\n",
    "tt = end-start\n",
    "print(tt/60)"
   ]
  },
  {
   "cell_type": "code",
   "execution_count": 59,
   "id": "a2c1f807",
   "metadata": {},
   "outputs": [
    {
     "data": {
      "text/plain": [
       "0.7291769561173478"
      ]
     },
     "execution_count": 59,
     "metadata": {},
     "output_type": "execute_result"
    }
   ],
   "source": [
    "grid_cv.best_score_"
   ]
  },
  {
   "cell_type": "code",
   "execution_count": 60,
   "id": "d6c25ec5",
   "metadata": {},
   "outputs": [
    {
     "data": {
      "text/plain": [
       "{'bootstrap': 'False',\n",
       " 'max_depth': 5,\n",
       " 'max_features': 'sqrt',\n",
       " 'min_samples_leaf': 3,\n",
       " 'min_samples_split': 2,\n",
       " 'n_estimators': 1750}"
      ]
     },
     "execution_count": 60,
     "metadata": {},
     "output_type": "execute_result"
    }
   ],
   "source": [
    "grid_cv.best_params_ # obtain params by grid search"
   ]
  },
  {
   "cell_type": "code",
   "execution_count": 24,
   "id": "fcaf2370",
   "metadata": {
    "collapsed": true
   },
   "outputs": [
    {
     "name": "stdout",
     "output_type": "stream",
     "text": [
      "{\n",
      "   \"bootstrap\": \"True\",\n",
      "   \"max_depth\": 8,\n",
      "   \"max_features\": \"auto\",\n",
      "   \"min_samples_leaf\": 1,\n",
      "   \"min_samples_split\": 4,\n",
      "   \"n_estimators\": 750\n",
      "}\n"
     ]
    }
   ],
   "source": [
    "# transfer best params to json format\n",
    "import json\n",
    "json_obj = json.dumps(grid_cv.best_params_, indent = 3) \n",
    "print(json_obj)"
   ]
  },
  {
   "cell_type": "code",
   "execution_count": 25,
   "id": "07246c48",
   "metadata": {
    "collapsed": true
   },
   "outputs": [],
   "source": [
    "# save best params to json file\n",
    "with open(\"rf_config1.json\", \"w\") as file:\n",
    "    json.dump(grid_cv.best_params_, file)"
   ]
  },
  {
   "cell_type": "code",
   "execution_count": 26,
   "id": "dd17cb54",
   "metadata": {
    "collapsed": true
   },
   "outputs": [
    {
     "name": "stdout",
     "output_type": "stream",
     "text": [
      "{'bootstrap': 'True', 'max_depth': 8, 'max_features': 'auto', 'min_samples_leaf': 1, 'min_samples_split': 4, 'n_estimators': 750}\n"
     ]
    }
   ],
   "source": [
    "fp = open(\"rf_config1.json\", \"r\")\n",
    "dd = json.load(fp)\n",
    "fp.close()\n",
    "print(dd)"
   ]
  },
  {
   "cell_type": "markdown",
   "id": "02ca7ab7",
   "metadata": {},
   "source": [
    "### 基於最佳模型組態之模型效能"
   ]
  },
  {
   "cell_type": "code",
   "execution_count": 47,
   "id": "c4b3ed17",
   "metadata": {
    "collapsed": true
   },
   "outputs": [],
   "source": [
    "from sklearn.ensemble import RandomForestClassifier\n",
    "rf = RandomForestClassifier(\n",
    "    bootstrap=True,\n",
    "    max_depth=5,\n",
    "    max_features='auto',\n",
    "    min_samples_leaf=1,\n",
    "    min_samples_split=4,\n",
    "    n_estimators=750\n",
    ")"
   ]
  },
  {
   "cell_type": "code",
   "execution_count": 61,
   "id": "347a4211",
   "metadata": {},
   "outputs": [],
   "source": [
    "model = grid_cv.best_estimator_"
   ]
  },
  {
   "cell_type": "markdown",
   "id": "617dd773",
   "metadata": {},
   "source": [
    "### 計算效能指標"
   ]
  },
  {
   "cell_type": "code",
   "execution_count": 62,
   "id": "76a14d5e",
   "metadata": {},
   "outputs": [],
   "source": [
    "\n",
    "model.fit(train_X, train_y)\n",
    "scores = cross_val_score(model, train_X, train_y, cv=5, scoring=\"accuracy\")\n",
    "t1 = model.score(train_X, train_y)\n",
    "t2 = scores.mean()\n",
    "t3 = model.score(test_X, test_y)\n",
    "train_pred = model.predict(train_X)\n",
    "test_pred = model.predict(test_X)\n",
    "t4 = f1_score(train_y, train_pred)\n",
    "t5 = f1_score(test_y, test_pred)\n",
    "t6 = precision_score(train_y, train_pred)\n",
    "t7 = precision_score(test_y, test_pred)\n",
    "train_proba = model.predict_proba(train_X)[:, 1]\n",
    "test_proba = model.predict_proba(test_X)[:, 1]\n",
    "t8 = roc_auc_score(train_y, train_proba)\n",
    "t9 = roc_auc_score(test_y, test_proba)\n",
    "names = [\"total accuracy\", \"cv accuracy\", \"test accuracy\", \"train F1\", \"test F1\", \"train precision\", \"test precision\", \"train roc_auc\", \"test roc_auc\"]\n",
    "retlist=[t1, t2, t3, t4, t5, t6, t7, t8, t9]\n",
    "retdf = pd.DataFrame(retlist, index=names)\n"
   ]
  },
  {
   "cell_type": "code",
   "execution_count": 63,
   "id": "146e1279",
   "metadata": {},
   "outputs": [
    {
     "name": "stdout",
     "output_type": "stream",
     "text": [
      "total accuracy     0.830565\n",
      "cv accuracy        0.830393\n",
      "test accuracy      0.826848\n",
      "train F1           0.082013\n",
      "test F1            0.084108\n",
      "train precision    0.793587\n",
      "test precision     0.770370\n",
      "train roc_auc      0.756594\n",
      "test roc_auc       0.746956\n",
      "Name: 0, dtype: float64\n"
     ]
    }
   ],
   "source": [
    "print(retdf[0])"
   ]
  },
  {
   "cell_type": "markdown",
   "id": "59d081b4",
   "metadata": {},
   "source": [
    "### ROC_AUC curve"
   ]
  },
  {
   "cell_type": "code",
   "execution_count": 64,
   "id": "6e9bf959",
   "metadata": {},
   "outputs": [],
   "source": [
    "from sklearn.metrics import roc_curve\n",
    "import matplotlib.pyplot as plt\n",
    "\n",
    "def plot_roc_curve(true_y, y_prob):\n",
    "    \"\"\"\n",
    "    plots the roc curve based of the probabilities\n",
    "    \"\"\"\n",
    "\n",
    "    fpr, tpr, thresholds = roc_curve(true_y, y_prob)\n",
    "    plt.plot(fpr, tpr)\n",
    "    plt.xlabel('False Positive Rate')\n",
    "    plt.ylabel('True Positive Rate')"
   ]
  },
  {
   "cell_type": "code",
   "execution_count": 65,
   "id": "90f26d8d",
   "metadata": {},
   "outputs": [
    {
     "data": {
      "image/png": "[encoded data removed]",
      "text/plain": [
       "<Figure size 640x480 with 1 Axes>"
      ]
     },
     "metadata": {},
     "output_type": "display_data"
    }
   ],
   "source": [
    "plot_roc_curve(test_y, test_proba)"
   ]
  },
  {
   "cell_type": "markdown",
   "id": "3f1c3018",
   "metadata": {},
   "source": [
    "### 影響因子重要性"
   ]
  },
  {
   "cell_type": "code",
   "execution_count": 66,
   "id": "d82c4100",
   "metadata": {},
   "outputs": [],
   "source": [
    "fcolumns=['性別', '教育', '神智', '年齡', '每月採尿平均', '實際保管長度', '違規次數', '獎勵次數', '犯次',\n",
    "       '一年內次數', '二年內次數', '三年內次數', '四年內次數', '五年內次數', '首犯年齡']"
   ]
  },
  {
   "cell_type": "code",
   "execution_count": 67,
   "id": "a8f6729b",
   "metadata": {},
   "outputs": [],
   "source": [
    "factImportance = pd.DataFrame({'feature':fcolumns,\n",
    "                              'importance': model.feature_importances_}).sort_values('importance', ascending=False)"
   ]
  },
  {
   "cell_type": "code",
   "execution_count": 68,
   "id": "95314ce7",
   "metadata": {},
   "outputs": [
    {
     "name": "stdout",
     "output_type": "stream",
     "text": [
      "   feature  importance\n",
      "8       犯次    0.232185\n",
      "5   實際保管長度    0.194273\n",
      "2       神智    0.146287\n",
      "1       教育    0.102731\n",
      "4   每月採尿平均    0.072921\n",
      "9    一年內次數    0.055341\n",
      "11   三年內次數    0.043300\n",
      "10   二年內次數    0.041318\n",
      "7     獎勵次數    0.040771\n",
      "12   四年內次數    0.017233\n",
      "14    首犯年齡    0.016822\n",
      "13   五年內次數    0.013517\n",
      "3       年齡    0.012708\n",
      "0       性別    0.008465\n",
      "6     違規次數    0.002128\n"
     ]
    }
   ],
   "source": [
    "print(factImportance)"
   ]
  },
  {
   "cell_type": "markdown",
   "id": "a1765ff6",
   "metadata": {},
   "source": [
    "### 計算混淆矩陣confusion matrix"
   ]
  },
  {
   "cell_type": "code",
   "execution_count": 69,
   "id": "6ed411d9",
   "metadata": {},
   "outputs": [],
   "source": [
    "from sklearn.metrics import confusion_matrix\n",
    "cm = confusion_matrix(test_y, test_pred)"
   ]
  },
  {
   "cell_type": "code",
   "execution_count": 70,
   "id": "1aa5e844",
   "metadata": {},
   "outputs": [
    {
     "data": {
      "text/plain": [
       "array([[10712,    31],\n",
       "       [ 2234,   104]], dtype=int64)"
      ]
     },
     "execution_count": 70,
     "metadata": {},
     "output_type": "execute_result"
    }
   ],
   "source": [
    "cm #confusion matrix"
   ]
  },
  {
   "cell_type": "code",
   "execution_count": null,
   "id": "8fb127cf",
   "metadata": {},
   "outputs": [],
   "source": []
  }
 ],
 "metadata": {
  "kernelspec": {
   "display_name": "Python 3 (ipykernel)",
   "language": "python",
   "name": "python3"
  },
  "language_info": {
   "codemirror_mode": {
    "name": "ipython",
    "version": 3
   },
   "file_extension": ".py",
   "mimetype": "text/x-python",
   "name": "python",
   "nbconvert_exporter": "python",
   "pygments_lexer": "ipython3",
   "version": "3.9.13"
  }
 },
 "nbformat": 4,
 "nbformat_minor": 5
}
