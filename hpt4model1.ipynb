{
 "cells": [
  {
   "cell_type": "markdown",
   "id": "4e32fd50",
   "metadata": {},
   "source": [
    "## 毒品資料為基礎建立隨機森林模型\n",
    "1. 不處理資料不平衡分佈\n",
    "2. 超參數調教\n",
    "3. 計算效能指標\n",
    "4. ROC_AUC Curve\n",
    "5. factor importance\n",
    "6. confusion matrix"
   ]
  },
  {
   "cell_type": "code",
   "execution_count": 39,
   "id": "2850fdf9",
   "metadata": {},
   "outputs": [],
   "source": [
    "import numpy as np\n",
    "import pandas as pd\n",
    "import matplotlib.pyplot as plt\n",
    "from sklearn.model_selection import train_test_split\n",
    "from xgboost import XGBClassifier, plot_importance, plot_tree\n",
    "from sklearn.metrics import confusion_matrix, roc_curve, auc, roc_auc_score, classification_report\n",
    "from sklearn.metrics import accuracy_score, precision_score, recall_score, f1_score\n",
    "from sklearn.metrics import roc_auc_score\n",
    "from sklearn.model_selection import cross_val_score"
   ]
  },
  {
   "cell_type": "code",
   "execution_count": 40,
   "id": "676f6ec9",
   "metadata": {},
   "outputs": [],
   "source": [
    "plt.rcParams['font.sans-serif']=['Microsoft Jhenghei']\n",
    "plt.rcParams['axes.unicode_minus']=False"
   ]
  },
  {
   "cell_type": "markdown",
   "id": "ca7765a2",
   "metadata": {},
   "source": [
    "### 資料讀取"
   ]
  },
  {
   "cell_type": "code",
   "execution_count": 41,
   "id": "3bdcd267",
   "metadata": {},
   "outputs": [],
   "source": [
    "df = pd.read_csv(\"../data/traindrug.csv\", encoding=\"utf8\")"
   ]
  },
  {
   "cell_type": "code",
   "execution_count": 42,
   "id": "ee591142",
   "metadata": {},
   "outputs": [
    {
     "data": {
      "text/plain": [
       "(65402, 16)"
      ]
     },
     "execution_count": 42,
     "metadata": {},
     "output_type": "execute_result"
    }
   ],
   "source": [
    "df.shape"
   ]
  },
  {
   "cell_type": "code",
   "execution_count": 43,
   "id": "ec727c15",
   "metadata": {},
   "outputs": [
    {
     "data": {
      "text/plain": [
       "([0, 1], [Text(0, 0, ''), Text(0, 0, '')])"
      ]
     },
     "execution_count": 43,
     "metadata": {},
     "output_type": "execute_result"
    },
    {
     "data": {
      "image/png": "[encoded data removed]",
      "text/plain": [
       "<Figure size 640x480 with 1 Axes>"
      ]
     },
     "metadata": {},
     "output_type": "display_data"
    }
   ],
   "source": [
    "d1 = df['再犯註記'].value_counts()[0]\n",
    "d2 = df['再犯註記'].value_counts()[1]\n",
    "barplot=plt.bar([\"非再犯\", \"再犯\"], df['再犯註記'].value_counts(), fc=\"green\", ec=\"red\")\n",
    "plt.bar_label(barplot, labels=df['再犯註記'].value_counts(), label_type=\"center\", color='white', padding=3)\n",
    "plt.xticks(rotation=0)"
   ]
  },
  {
   "cell_type": "code",
   "execution_count": 7,
   "id": "c726ec12",
   "metadata": {
    "collapsed": true
   },
   "outputs": [
    {
     "data": {
      "text/plain": [
       "Text(0.5, 0, '再犯註記(1:再犯，0:非再犯)')"
      ]
     },
     "execution_count": 7,
     "metadata": {},
     "output_type": "execute_result"
    },
    {
     "data": {
      "image/png": "[encoded data removed]",
      "text/plain": [
       "<Figure size 640x480 with 1 Axes>"
      ]
     },
     "metadata": {},
     "output_type": "display_data"
    }
   ],
   "source": [
    "tgtn = df.groupby('再犯註記')\n",
    "ax = tgtn.size().plot.bar()\n",
    "ax.bar_label(ax.containers[0]) #顯示bar的資料數據 \n",
    "ax.set_ylabel(\"資料筆數\") #設定y軸標籤\n",
    "ax.set_xlabel(\"再犯註記(1:再犯，0:非再犯)\") #設定y軸標籤"
   ]
  },
  {
   "cell_type": "markdown",
   "id": "25247f35",
   "metadata": {},
   "source": [
    "### 建立訓練集與測試集(X, y)"
   ]
  },
  {
   "cell_type": "code",
   "execution_count": 44,
   "id": "b04bf46c",
   "metadata": {},
   "outputs": [],
   "source": [
    "#X = df.drop(labels=['再犯註記'], axis=1).values\n",
    "#y = df['再犯註記'].values\n",
    "X = df.drop(labels=['再犯註記'], axis=1)\n",
    "y = df['再犯註記']"
   ]
  },
  {
   "cell_type": "code",
   "execution_count": 45,
   "id": "ffdd0064",
   "metadata": {},
   "outputs": [],
   "source": [
    "X_train, X_test, y_train, y_test = train_test_split(X, y, test_size=0.2, random_state=0)"
   ]
  },
  {
   "cell_type": "markdown",
   "id": "da498db4",
   "metadata": {},
   "source": [
    "### 超參數調教"
   ]
  },
  {
   "cell_type": "code",
   "execution_count": 9,
   "id": "f9d27664",
   "metadata": {},
   "outputs": [],
   "source": [
    "# Import Random Forest model\n",
    "from sklearn.ensemble import RandomForestClassifier\n",
    "# Instantiate model with 1000 decision trees\n",
    "rf = RandomForestClassifier(class_weight=\"balanced\", random_state = 42)"
   ]
  },
  {
   "cell_type": "code",
   "execution_count": 11,
   "id": "645861b5",
   "metadata": {},
   "outputs": [
    {
     "data": {
      "text/plain": [
       "{'bootstrap': True,\n",
       " 'ccp_alpha': 0.0,\n",
       " 'class_weight': None,\n",
       " 'criterion': 'gini',\n",
       " 'max_depth': None,\n",
       " 'max_features': 'auto',\n",
       " 'max_leaf_nodes': None,\n",
       " 'max_samples': None,\n",
       " 'min_impurity_decrease': 0.0,\n",
       " 'min_samples_leaf': 1,\n",
       " 'min_samples_split': 2,\n",
       " 'min_weight_fraction_leaf': 0.0,\n",
       " 'n_estimators': 100,\n",
       " 'n_jobs': None,\n",
       " 'oob_score': False,\n",
       " 'random_state': 42,\n",
       " 'verbose': 0,\n",
       " 'warm_start': False}"
      ]
     },
     "execution_count": 11,
     "metadata": {},
     "output_type": "execute_result"
    }
   ],
   "source": [
    "rf.get_params() #get default params"
   ]
  },
  {
   "cell_type": "markdown",
   "id": "d236a560",
   "metadata": {},
   "source": [
    "### design of param grid"
   ]
  },
  {
   "cell_type": "code",
   "execution_count": 46,
   "id": "1f99241c",
   "metadata": {},
   "outputs": [],
   "source": [
    "n_estimators = np.arange(100, 2000, step=200)\n",
    "max_features = [\"auto\", \"sqrt\", \"log2\"]\n",
    "max_depth = np.arange(2, 100, step=10)\n",
    "min_samples_split = np.arange(2, 10, step=2)\n",
    "min_samples_leaf = [1, 2, 3, 4, 5]\n",
    "bootstrap = [True, False]"
   ]
  },
  {
   "cell_type": "code",
   "execution_count": 47,
   "id": "66926f25",
   "metadata": {},
   "outputs": [],
   "source": [
    "param_grid={\n",
    "    \"n_estimators\": n_estimators,\n",
    "    \"max_features\": max_features,\n",
    "    \"max_depth\": max_depth,\n",
    "    \"min_samples_split\": min_samples_split,\n",
    "    \"min_samples_leaf\": min_samples_leaf,\n",
    "    \"bootstrap\": bootstrap,\n",
    "}"
   ]
  },
  {
   "cell_type": "markdown",
   "id": "2951e166",
   "metadata": {},
   "source": [
    "### random search for hyperparameters"
   ]
  },
  {
   "cell_type": "code",
   "execution_count": 48,
   "id": "a57fdc57",
   "metadata": {},
   "outputs": [],
   "source": [
    "from sklearn.model_selection import RandomizedSearchCV\n",
    "forest = RandomForestClassifier(class_weight=\"balanced_subsample\", random_state = 42)\n",
    "rand_cv = RandomizedSearchCV(forest, param_grid, n_iter=100, cv=5, scoring=\"roc_auc\", n_jobs=-1)"
   ]
  },
  {
   "cell_type": "markdown",
   "id": "f3df2672",
   "metadata": {},
   "source": [
    "在機器學習模型中，需要人工選擇的參數稱爲超參數。"
   ]
  },
  {
   "cell_type": "code",
   "execution_count": 49,
   "id": "616a66c2",
   "metadata": {},
   "outputs": [
    {
     "data": {
      "text/plain": [
       "RandomizedSearchCV(cv=5,\n",
       "                   estimator=RandomForestClassifier(class_weight='balanced_subsample',\n",
       "                                                    random_state=42),\n",
       "                   n_iter=100, n_jobs=-1,\n",
       "                   param_distributions={'bootstrap': [True, False],\n",
       "                                        'max_depth': array([ 2, 12, 22, 32, 42, 52, 62, 72, 82, 92]),\n",
       "                                        'max_features': ['auto', 'sqrt',\n",
       "                                                         'log2'],\n",
       "                                        'min_samples_leaf': [1, 2, 3, 4, 5],\n",
       "                                        'min_samples_split': array([2, 4, 6, 8]),\n",
       "                                        'n_estimators': array([ 100,  300,  500,  700,  900, 1100, 1300, 1500, 1700, 1900])},\n",
       "                   scoring='roc_auc')"
      ]
     },
     "execution_count": 49,
     "metadata": {},
     "output_type": "execute_result"
    }
   ],
   "source": [
    "rand_cv.fit(X_train, y_train)"
   ]
  },
  {
   "cell_type": "code",
   "execution_count": 50,
   "id": "3905bfcc",
   "metadata": {},
   "outputs": [
    {
     "data": {
      "text/plain": [
       "0.7843464451073848"
      ]
     },
     "execution_count": 50,
     "metadata": {},
     "output_type": "execute_result"
    }
   ],
   "source": [
    "rand_cv.best_score_"
   ]
  },
  {
   "cell_type": "code",
   "execution_count": 51,
   "id": "d941c343",
   "metadata": {},
   "outputs": [
    {
     "name": "stdout",
     "output_type": "stream",
     "text": [
      "{'n_estimators': 1700, 'min_samples_split': 2, 'min_samples_leaf': 5, 'max_features': 'sqrt', 'max_depth': 22, 'bootstrap': True}\n"
     ]
    }
   ],
   "source": [
    "print(rand_cv.best_params_) # obtain params by random search"
   ]
  },
  {
   "cell_type": "code",
   "execution_count": 61,
   "id": "28735636",
   "metadata": {},
   "outputs": [],
   "source": [
    "new_params = {\n",
    "    \"n_estimators\": [1600, 1650, 1700, 1750, 1800],\n",
    "    \"max_features\": ['sqrt'],\n",
    "    \"max_depth\": [18, 20, 22, 24, 26],\n",
    "    \"min_samples_split\":[2,3,4],\n",
    "    \"min_samples_leaf\": [4, 5,6],\n",
    "    \"bootstrap\": [\"True\"],\n",
    "}"
   ]
  },
  {
   "cell_type": "markdown",
   "id": "845a4446",
   "metadata": {},
   "source": [
    "### fine turning hyperparameters by grid search"
   ]
  },
  {
   "cell_type": "code",
   "execution_count": 62,
   "id": "a3e4119b",
   "metadata": {},
   "outputs": [],
   "source": [
    "from sklearn.model_selection import GridSearchCV\n",
    "\n",
    "grid_cv = GridSearchCV(forest, new_params, cv=3, n_jobs=-1)"
   ]
  },
  {
   "cell_type": "code",
   "execution_count": 63,
   "id": "c5396d0e",
   "metadata": {},
   "outputs": [
    {
     "name": "stdout",
     "output_type": "stream",
     "text": [
      "90.11423066457112\n"
     ]
    }
   ],
   "source": [
    "import time\n",
    "start = time.time()\n",
    "grid_cv.fit(X_train, y_train)\n",
    "end = time.time()\n",
    "tt = end-start\n",
    "print(tt/60)"
   ]
  },
  {
   "cell_type": "code",
   "execution_count": 64,
   "id": "a2c1f807",
   "metadata": {},
   "outputs": [
    {
     "data": {
      "text/plain": [
       "0.8032147198058918"
      ]
     },
     "execution_count": 64,
     "metadata": {},
     "output_type": "execute_result"
    }
   ],
   "source": [
    "grid_cv.best_score_"
   ]
  },
  {
   "cell_type": "code",
   "execution_count": 65,
   "id": "d6c25ec5",
   "metadata": {},
   "outputs": [
    {
     "data": {
      "text/plain": [
       "{'bootstrap': 'True',\n",
       " 'max_depth': 26,\n",
       " 'max_features': 'sqrt',\n",
       " 'min_samples_leaf': 4,\n",
       " 'min_samples_split': 2,\n",
       " 'n_estimators': 1600}"
      ]
     },
     "execution_count": 65,
     "metadata": {},
     "output_type": "execute_result"
    }
   ],
   "source": [
    "grid_cv.best_params_ # obtain params by grid search"
   ]
  },
  {
   "cell_type": "code",
   "execution_count": 24,
   "id": "fcaf2370",
   "metadata": {},
   "outputs": [
    {
     "name": "stdout",
     "output_type": "stream",
     "text": [
      "{\n",
      "   \"bootstrap\": \"True\",\n",
      "   \"max_depth\": 8,\n",
      "   \"max_features\": \"auto\",\n",
      "   \"min_samples_leaf\": 1,\n",
      "   \"min_samples_split\": 4,\n",
      "   \"n_estimators\": 750\n",
      "}\n"
     ]
    }
   ],
   "source": [
    "# transfer best params to json format\n",
    "import json\n",
    "json_obj = json.dumps(grid_cv.best_params_, indent = 3) \n",
    "print(json_obj)"
   ]
  },
  {
   "cell_type": "code",
   "execution_count": 22,
   "id": "07246c48",
   "metadata": {},
   "outputs": [],
   "source": [
    "import json\n",
    "# save best params to json file\n",
    "with open(\"rfmodelBal.json\", \"w\") as file:\n",
    "    json.dump(grid_cv.best_params_, file)"
   ]
  },
  {
   "cell_type": "code",
   "execution_count": 26,
   "id": "dd17cb54",
   "metadata": {},
   "outputs": [
    {
     "name": "stdout",
     "output_type": "stream",
     "text": [
      "{'bootstrap': 'True', 'max_depth': 8, 'max_features': 'auto', 'min_samples_leaf': 1, 'min_samples_split': 4, 'n_estimators': 750}\n"
     ]
    }
   ],
   "source": [
    "fp = open(\"rf_config1.json\", \"r\")\n",
    "dd = json.load(fp)\n",
    "fp.close()\n",
    "print(dd)"
   ]
  },
  {
   "cell_type": "markdown",
   "id": "02ca7ab7",
   "metadata": {},
   "source": [
    "### 基於最佳模型組態之模型效能"
   ]
  },
  {
   "cell_type": "code",
   "execution_count": 47,
   "id": "c4b3ed17",
   "metadata": {},
   "outputs": [],
   "source": [
    "from sklearn.ensemble import RandomForestClassifier\n",
    "rf = RandomForestClassifier(\n",
    "    bootstrap=True,\n",
    "    max_depth=5,\n",
    "    max_features='auto',\n",
    "    min_samples_leaf=1,\n",
    "    min_samples_split=4,\n",
    "    n_estimators=750\n",
    ")"
   ]
  },
  {
   "cell_type": "code",
   "execution_count": 66,
   "id": "347a4211",
   "metadata": {},
   "outputs": [],
   "source": [
    "model = grid_cv.best_estimator_\n",
    "target_names = [\"非再犯\",\"再犯\"]"
   ]
  },
  {
   "cell_type": "markdown",
   "id": "617dd773",
   "metadata": {},
   "source": [
    "### 計算效能指標"
   ]
  },
  {
   "cell_type": "code",
   "execution_count": 67,
   "id": "6faa8a68",
   "metadata": {},
   "outputs": [
    {
     "name": "stdout",
     "output_type": "stream",
     "text": [
      "              precision    recall  f1-score   support\n",
      "\n",
      "         非再犯       0.89      0.86      0.88     10743\n",
      "          再犯       0.45      0.52      0.48      2338\n",
      "\n",
      "    accuracy                           0.80     13081\n",
      "   macro avg       0.67      0.69      0.68     13081\n",
      "weighted avg       0.81      0.80      0.81     13081\n",
      "\n"
     ]
    }
   ],
   "source": [
    "y_pred_proba = model.predict_proba(X_test)[:, 1]\n",
    "y_pred = model.predict(X_test)\n",
    "fpr, tpr, _ = roc_curve(y_test, y_pred_proba)\n",
    "auc = roc_auc_score(y_test, y_pred_proba)\n",
    "#aucs.append(auc4)\n",
    "print(classification_report(y_test, y_pred, target_names=target_names))"
   ]
  },
  {
   "cell_type": "code",
   "execution_count": 69,
   "id": "17259ddc",
   "metadata": {},
   "outputs": [],
   "source": [
    "results = pd.read_csv(\"output.csv\", encoding='utf8')\n",
    "results.drop(columns=results.columns[0], axis=1, inplace=True)"
   ]
  },
  {
   "cell_type": "code",
   "execution_count": 91,
   "id": "76a14d5e",
   "metadata": {},
   "outputs": [],
   "source": [
    "from sklearn.metrics import precision_recall_fscore_support\n",
    "#results = pd.DataFrame(columns=['模型','AUC','準確率','精確率', '招回率','f1_score', '非再犯案例數','精確率', '招回率','f1_score', '再犯案例數'])\n",
    "\n",
    "acc = accuracy_score(y_test, y_pred)\n",
    "prf = precision_recall_fscore_support(y_test, y_pred)\n",
    "data = ['model1', auc, acc]\n",
    "for item in prf:\n",
    "    data.append(item[0])\n",
    "for item2 in prf:\n",
    "    data.append(item2[1])\n",
    "results.loc[len(results)] = data"
   ]
  },
  {
   "cell_type": "markdown",
   "id": "59d081b4",
   "metadata": {},
   "source": [
    "### ROC_AUC curve"
   ]
  },
  {
   "cell_type": "code",
   "execution_count": 95,
   "id": "6e9bf959",
   "metadata": {},
   "outputs": [
    {
     "data": {
      "image/png": "[encoded data removed]",
      "text/plain": [
       "<Figure size 640x480 with 1 Axes>"
      ]
     },
     "metadata": {},
     "output_type": "display_data"
    }
   ],
   "source": [
    "# plot ROC_AUC graph\n",
    "import matplotlib.pyplot as plt\n",
    "plt.rcParams['font.sans-serif']=['Microsoft Jhenghei']\n",
    "plt.rcParams['axes.unicode_minus']=False\n",
    "plt.figure(0).clf()\n",
    "plt.style.use(\"ggplot\")\n",
    "\n",
    "plt.plot(fpr,tpr,label=\"base model, AUC=\"+str(round(auc,6)))\n",
    "\n",
    "\n",
    "plt.legend(loc=\"lower right\")\n",
    "plt.title(\"模型比較(AUC)\")\n",
    "plt.xlabel(\"fpr\")\n",
    "plt.ylabel(\"tpr\")\n",
    "plt.savefig(\"modelAUCs.png\")"
   ]
  },
  {
   "cell_type": "markdown",
   "id": "3f1c3018",
   "metadata": {},
   "source": [
    "### 影響因子重要性"
   ]
  },
  {
   "cell_type": "code",
   "execution_count": 96,
   "id": "d82c4100",
   "metadata": {},
   "outputs": [],
   "source": [
    "fcolumns=['性別', '教育', '神智', '年齡', '每月採尿平均', '實際保管長度', '違規次數', '獎勵次數', '犯次',\n",
    "       '一年內次數', '二年內次數', '三年內次數', '四年內次數', '五年內次數', '首犯年齡']"
   ]
  },
  {
   "cell_type": "code",
   "execution_count": 97,
   "id": "a8f6729b",
   "metadata": {},
   "outputs": [],
   "source": [
    "factImportance = pd.DataFrame({'feature':fcolumns,\n",
    "                              'importance': model.feature_importances_}).sort_values('importance', ascending=False)"
   ]
  },
  {
   "cell_type": "code",
   "execution_count": 98,
   "id": "95314ce7",
   "metadata": {},
   "outputs": [
    {
     "name": "stdout",
     "output_type": "stream",
     "text": [
      "   feature  importance\n",
      "4   每月採尿平均    0.173807\n",
      "8       犯次    0.124531\n",
      "5   實際保管長度    0.118738\n",
      "2       神智    0.069121\n",
      "12   四年內次數    0.066722\n",
      "11   三年內次數    0.066288\n",
      "13   五年內次數    0.061971\n",
      "3       年齡    0.059554\n",
      "1       教育    0.057938\n",
      "10   二年內次數    0.054978\n",
      "14    首犯年齡    0.041459\n",
      "9    一年內次數    0.039690\n",
      "7     獎勵次數    0.036923\n",
      "0       性別    0.015880\n",
      "6     違規次數    0.012399\n"
     ]
    }
   ],
   "source": [
    "print(factImportance)"
   ]
  },
  {
   "cell_type": "markdown",
   "id": "a1765ff6",
   "metadata": {},
   "source": [
    "### 計算混淆矩陣confusion matrix"
   ]
  },
  {
   "cell_type": "code",
   "execution_count": 99,
   "id": "6ed411d9",
   "metadata": {},
   "outputs": [],
   "source": [
    "from sklearn.metrics import confusion_matrix\n",
    "cm = confusion_matrix(y_test, y_pred)"
   ]
  },
  {
   "cell_type": "code",
   "execution_count": 100,
   "id": "1aa5e844",
   "metadata": {},
   "outputs": [
    {
     "data": {
      "text/plain": [
       "array([[9267, 1476],\n",
       "       [1125, 1213]], dtype=int64)"
      ]
     },
     "execution_count": 100,
     "metadata": {},
     "output_type": "execute_result"
    }
   ],
   "source": [
    "cm #confusion matrix"
   ]
  },
  {
   "cell_type": "code",
   "execution_count": 101,
   "id": "4929d585",
   "metadata": {},
   "outputs": [],
   "source": [
    "ftdf = pd.DataFrame({'fpr': fpr,\n",
    "                       'tpr': tpr})"
   ]
  },
  {
   "cell_type": "code",
   "execution_count": 102,
   "id": "e8a8f399",
   "metadata": {},
   "outputs": [
    {
     "data": {
      "text/html": [
       "<div>\n",
       "<style scoped>\n",
       "    .dataframe tbody tr th:only-of-type {\n",
       "        vertical-align: middle;\n",
       "    }\n",
       "\n",
       "    .dataframe tbody tr th {\n",
       "        vertical-align: top;\n",
       "    }\n",
       "\n",
       "    .dataframe thead th {\n",
       "        text-align: right;\n",
       "    }\n",
       "</style>\n",
       "<table border=\"1\" class=\"dataframe\">\n",
       "  <thead>\n",
       "    <tr style=\"text-align: right;\">\n",
       "      <th></th>\n",
       "      <th>fpr</th>\n",
       "      <th>tpr</th>\n",
       "    </tr>\n",
       "  </thead>\n",
       "  <tbody>\n",
       "    <tr>\n",
       "      <th>0</th>\n",
       "      <td>0.000000</td>\n",
       "      <td>0.000000</td>\n",
       "    </tr>\n",
       "    <tr>\n",
       "      <th>1</th>\n",
       "      <td>0.000000</td>\n",
       "      <td>0.000428</td>\n",
       "    </tr>\n",
       "    <tr>\n",
       "      <th>2</th>\n",
       "      <td>0.000000</td>\n",
       "      <td>0.000855</td>\n",
       "    </tr>\n",
       "    <tr>\n",
       "      <th>3</th>\n",
       "      <td>0.000093</td>\n",
       "      <td>0.000855</td>\n",
       "    </tr>\n",
       "    <tr>\n",
       "      <th>4</th>\n",
       "      <td>0.000093</td>\n",
       "      <td>0.003849</td>\n",
       "    </tr>\n",
       "    <tr>\n",
       "      <th>...</th>\n",
       "      <td>...</td>\n",
       "      <td>...</td>\n",
       "    </tr>\n",
       "    <tr>\n",
       "      <th>3409</th>\n",
       "      <td>0.996556</td>\n",
       "      <td>1.000000</td>\n",
       "    </tr>\n",
       "    <tr>\n",
       "      <th>3410</th>\n",
       "      <td>0.996742</td>\n",
       "      <td>1.000000</td>\n",
       "    </tr>\n",
       "    <tr>\n",
       "      <th>3411</th>\n",
       "      <td>0.997021</td>\n",
       "      <td>1.000000</td>\n",
       "    </tr>\n",
       "    <tr>\n",
       "      <th>3412</th>\n",
       "      <td>0.997301</td>\n",
       "      <td>1.000000</td>\n",
       "    </tr>\n",
       "    <tr>\n",
       "      <th>3413</th>\n",
       "      <td>1.000000</td>\n",
       "      <td>1.000000</td>\n",
       "    </tr>\n",
       "  </tbody>\n",
       "</table>\n",
       "<p>3414 rows × 2 columns</p>\n",
       "</div>"
      ],
      "text/plain": [
       "           fpr       tpr\n",
       "0     0.000000  0.000000\n",
       "1     0.000000  0.000428\n",
       "2     0.000000  0.000855\n",
       "3     0.000093  0.000855\n",
       "4     0.000093  0.003849\n",
       "...        ...       ...\n",
       "3409  0.996556  1.000000\n",
       "3410  0.996742  1.000000\n",
       "3411  0.997021  1.000000\n",
       "3412  0.997301  1.000000\n",
       "3413  1.000000  1.000000\n",
       "\n",
       "[3414 rows x 2 columns]"
      ]
     },
     "execution_count": 102,
     "metadata": {},
     "output_type": "execute_result"
    }
   ],
   "source": [
    "ftdf"
   ]
  },
  {
   "cell_type": "code",
   "execution_count": 103,
   "id": "4de99582",
   "metadata": {},
   "outputs": [],
   "source": [
    "ftdf.to_csv(\"ftr_ptr_sub.csv\", encoding=\"utf8\")"
   ]
  },
  {
   "cell_type": "code",
   "execution_count": 104,
   "id": "57c5f877",
   "metadata": {},
   "outputs": [
    {
     "data": {
      "text/html": [
       "<div>\n",
       "<style scoped>\n",
       "    .dataframe tbody tr th:only-of-type {\n",
       "        vertical-align: middle;\n",
       "    }\n",
       "\n",
       "    .dataframe tbody tr th {\n",
       "        vertical-align: top;\n",
       "    }\n",
       "\n",
       "    .dataframe thead th {\n",
       "        text-align: right;\n",
       "    }\n",
       "</style>\n",
       "<table border=\"1\" class=\"dataframe\">\n",
       "  <thead>\n",
       "    <tr style=\"text-align: right;\">\n",
       "      <th></th>\n",
       "      <th>模型</th>\n",
       "      <th>AUC</th>\n",
       "      <th>準確率</th>\n",
       "      <th>精確率</th>\n",
       "      <th>招回率</th>\n",
       "      <th>f1_score</th>\n",
       "      <th>非再犯案例數</th>\n",
       "      <th>精確率.1</th>\n",
       "      <th>招回率.1</th>\n",
       "      <th>f1_score.1</th>\n",
       "      <th>再犯案例數</th>\n",
       "    </tr>\n",
       "  </thead>\n",
       "  <tbody>\n",
       "    <tr>\n",
       "      <th>0</th>\n",
       "      <td>model1</td>\n",
       "      <td>0.778215</td>\n",
       "      <td>0.802156</td>\n",
       "      <td>0.891954</td>\n",
       "      <td>0.863725</td>\n",
       "      <td>0.877613</td>\n",
       "      <td>10743</td>\n",
       "      <td>0.453323</td>\n",
       "      <td>0.519247</td>\n",
       "      <td>0.484051</td>\n",
       "      <td>2338</td>\n",
       "    </tr>\n",
       "    <tr>\n",
       "      <th>1</th>\n",
       "      <td>model1</td>\n",
       "      <td>0.778185</td>\n",
       "      <td>0.801162</td>\n",
       "      <td>0.891744</td>\n",
       "      <td>0.862608</td>\n",
       "      <td>0.876934</td>\n",
       "      <td>10743</td>\n",
       "      <td>0.451097</td>\n",
       "      <td>0.518820</td>\n",
       "      <td>0.482594</td>\n",
       "      <td>2338</td>\n",
       "    </tr>\n",
       "  </tbody>\n",
       "</table>\n",
       "</div>"
      ],
      "text/plain": [
       "       模型       AUC       準確率       精確率       招回率  f1_score  非再犯案例數     精確率.1  \\\n",
       "0  model1  0.778215  0.802156  0.891954  0.863725  0.877613   10743  0.453323   \n",
       "1  model1  0.778185  0.801162  0.891744  0.862608  0.876934   10743  0.451097   \n",
       "\n",
       "      招回率.1  f1_score.1  再犯案例數  \n",
       "0  0.519247    0.484051   2338  \n",
       "1  0.518820    0.482594   2338  "
      ]
     },
     "execution_count": 104,
     "metadata": {},
     "output_type": "execute_result"
    }
   ],
   "source": [
    "results"
   ]
  },
  {
   "cell_type": "code",
   "execution_count": 37,
   "id": "f6ba5ce9",
   "metadata": {},
   "outputs": [],
   "source": [
    "results.to_csv(\"output.csv\", encoding=\"utf8\")"
   ]
  },
  {
   "cell_type": "code",
   "execution_count": 38,
   "id": "094ee355",
   "metadata": {},
   "outputs": [
    {
     "name": "stdout",
     "output_type": "stream",
     "text": [
      " 磁碟區 D 中的磁碟是 新增磁碟區\n",
      " 磁碟區序號:  8EC2-0442\n",
      "\n",
      " D:\\projects\\mojp2023\\src 的目錄\n",
      "\n",
      "2023/08/25  下午 01:43    <DIR>          .\n",
      "2023/07/31  下午 04:56    <DIR>          ..\n",
      "2023/08/25  上午 10:48    <DIR>          .ipynb_checkpoints\n",
      "2023/08/22  上午 10:45            42,101 drug_auc.png\n",
      "2023/08/22  上午 10:47            45,646 fraud_auc.png\n",
      "2023/08/25  下午 01:40           149,797 ftr_ptr.csv\n",
      "2023/08/22  下午 03:13             4,920 hpt1.ipynb\n",
      "2023/08/25  上午 10:45            83,101 hpt4model.ipynb\n",
      "2023/08/25  下午 01:42            88,488 hpt4model1.ipynb\n",
      "2023/08/21  下午 05:45            40,582 mcomp1.png\n",
      "2023/08/24  下午 05:17            93,880 modelAnalysis1.ipynb\n",
      "2023/08/25  下午 01:36            23,237 modelAUCs.png\n",
      "2023/08/21  下午 05:38             2,634 modelcompare.py\n",
      "2023/08/22  下午 05:36       140,618,247 modelfile.pkl\n",
      "2023/08/25  下午 01:41               289 output.csv\n",
      "2023/08/24  下午 12:49             6,260 output.xlsx\n",
      "2023/08/22  下午 06:29           107,930 rfdrug_comparsion.ipynb\n",
      "2023/08/22  上午 10:47            94,304 rffraud_comparsion.ipynb\n",
      "2023/08/25  下午 01:34               131 rfmodelBal.json\n",
      "2023/08/12  上午 11:31            80,600 rfmodelbuilder-balanced.ipynb\n",
      "2023/08/12  下午 05:46            68,430 rfmodelbuilder-smote.ipynb\n",
      "2023/08/09  下午 05:09            68,348 rfmodelbuilder-subbalanced.ipynb\n",
      "2023/08/22  上午 09:33            89,125 rfmodelbuilder_comparsion.ipynb\n",
      "2023/08/22  上午 10:51            91,098 rfsex_comparsion.ipynb\n",
      "2023/08/01  下午 09:52               130 rf_config0.json\n",
      "2023/08/09  上午 11:51               129 rf_config1.json\n",
      "2023/08/21  下午 10:32             3,431 smotesearch.py\n",
      "2023/08/22  上午 10:51            41,908 sv_auc.png\n",
      "2023/08/09  上午 11:00    <DIR>          Untitled Folder\n",
      "2023/08/12  下午 06:58            26,821 Untitled.ipynb\n",
      "2023/08/01  下午 04:50           193,680 xgbModelBuilder.ipynb\n",
      "              27 個檔案     142,065,247 位元組\n",
      "               4 個目錄  1,994,562,932,736 位元組可用\n"
     ]
    }
   ],
   "source": [
    "!dir"
   ]
  },
  {
   "cell_type": "code",
   "execution_count": null,
   "id": "f3e2a18b",
   "metadata": {},
   "outputs": [],
   "source": []
  }
 ],
 "metadata": {
  "kernelspec": {
   "display_name": "Python 3 (ipykernel)",
   "language": "python",
   "name": "python3"
  },
  "language_info": {
   "codemirror_mode": {
    "name": "ipython",
    "version": 3
   },
   "file_extension": ".py",
   "mimetype": "text/x-python",
   "name": "python",
   "nbconvert_exporter": "python",
   "pygments_lexer": "ipython3",
   "version": "3.9.13"
  }
 },
 "nbformat": 4,
 "nbformat_minor": 5
}
