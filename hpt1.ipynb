{
 "cells": [
  {
   "cell_type": "markdown",
   "id": "8b102dc5",
   "metadata": {},
   "source": [
    "Hyperparameter Turing for rf with drug dataset"
   ]
  },
  {
   "cell_type": "code",
   "execution_count": 1,
   "id": "cbbe1851",
   "metadata": {},
   "outputs": [],
   "source": [
    "import numpy as np\n",
    "import pandas as pd\n",
    "import matplotlib.pyplot as plt\n",
    "from sklearn.model_selection import train_test_split\n",
    "from xgboost import XGBClassifier, plot_importance, plot_tree\n",
    "from sklearn.ensemble import RandomForestClassifier\n",
    "from sklearn.metrics import confusion_matrix, roc_curve, auc, roc_auc_score, classification_report\n",
    "from sklearn.metrics import accuracy_score, precision_score, recall_score, f1_score\n",
    "from sklearn.metrics import roc_auc_score\n",
    "from sklearn.model_selection import cross_val_score\n",
    "from imblearn.over_sampling import SMOTE"
   ]
  },
  {
   "cell_type": "code",
   "execution_count": 2,
   "id": "417ea4e9",
   "metadata": {},
   "outputs": [],
   "source": [
    "df = pd.read_csv(\"../data/trainDRUG.csv\", encoding=\"utf8\")\n",
    "X = df.drop(labels=['再犯註記'], axis=1).values\n",
    "y = df['再犯註記'].values\n",
    "train_X, test_X, train_y, test_y = train_test_split(X, y, test_size=0.2, random_state=0)"
   ]
  },
  {
   "cell_type": "code",
   "execution_count": 3,
   "id": "f43d12d1",
   "metadata": {},
   "outputs": [],
   "source": [
    "model1 = RandomForestClassifier(random_state=42, n_jobs=-1)"
   ]
  },
  {
   "cell_type": "code",
   "execution_count": 4,
   "id": "d1d62232",
   "metadata": {},
   "outputs": [],
   "source": [
    "n_estimators = np.arange(100, 2000, step=200)\n",
    "max_features = [\"auto\", \"sqrt\", \"log2\"]\n",
    "max_depth = [2,4,6,8]\n",
    "min_samples_split = np.arange(2, 10, step=2)\n",
    "min_samples_leaf = [1, 2, 3, 4, 5]\n",
    "bootstrap = [True, False]"
   ]
  },
  {
   "cell_type": "code",
   "execution_count": 5,
   "id": "70cf62b4",
   "metadata": {},
   "outputs": [],
   "source": [
    "param_grid={\n",
    "    \"n_estimators\": n_estimators,\n",
    "    \"max_features\": max_features,\n",
    "    \"max_depth\": max_depth,\n",
    "    \"min_samples_split\": min_samples_split,\n",
    "    \"min_samples_leaf\": min_samples_leaf,\n",
    "    \"bootstrap\": bootstrap,\n",
    "}"
   ]
  },
  {
   "cell_type": "code",
   "execution_count": 6,
   "id": "a815bf8f",
   "metadata": {},
   "outputs": [
    {
     "name": "stdout",
     "output_type": "stream",
     "text": [
      "0.7696156105583729\n",
      "{'n_estimators': 300, 'min_samples_split': 4, 'min_samples_leaf': 3, 'max_features': 'auto', 'max_depth': 8, 'bootstrap': True}\n"
     ]
    }
   ],
   "source": [
    "from sklearn.model_selection import RandomizedSearchCV\n",
    "rand_cv = RandomizedSearchCV(model1, param_grid, n_iter=100, cv=5, scoring=\"roc_auc\", n_jobs=-1)\n",
    "rand_cv.fit(train_X, train_y)\n",
    "print(rand_cv.best_score_)\n",
    "print(rand_cv.best_params_) # obtain params by random search"
   ]
  },
  {
   "cell_type": "code",
   "execution_count": null,
   "id": "c9c5ea50",
   "metadata": {},
   "outputs": [],
   "source": [
    "from sklearn.model_selection import RepeatedStratifiedKFold\n",
    "cv = RepeatedStratifiedKFold(n_splits=10, n_repeats=5, random_state=1)\n",
    "for d in [2,3,4,5,6,7,8]:\n",
    "    rand_cv.best_param_['max_depth'] = d\n",
    "    print(\"auc score of max depth[%d] is %f\" % (d, round(np.mean(cross_val_score(rand_cv, test_X, test_y, scoring='roc_auc', cv=cv, n_jobs=-1)), 6)))"
   ]
  },
  {
   "cell_type": "code",
   "execution_count": 9,
   "id": "29a56cad",
   "metadata": {},
   "outputs": [],
   "source": [
    "rand_cv.best_params_['max_depth']=5"
   ]
  },
  {
   "cell_type": "code",
   "execution_count": 10,
   "id": "cb7e24bf",
   "metadata": {},
   "outputs": [
    {
     "data": {
      "text/plain": [
       "{'n_estimators': 300,\n",
       " 'min_samples_split': 4,\n",
       " 'min_samples_leaf': 3,\n",
       " 'max_features': 'auto',\n",
       " 'max_depth': 5,\n",
       " 'bootstrap': True}"
      ]
     },
     "execution_count": 10,
     "metadata": {},
     "output_type": "execute_result"
    }
   ],
   "source": [
    "rand_cv.best_params_"
   ]
  },
  {
   "cell_type": "code",
   "execution_count": null,
   "id": "01eb207b",
   "metadata": {},
   "outputs": [],
   "source": []
  }
 ],
 "metadata": {
  "kernelspec": {
   "display_name": "Python 3 (ipykernel)",
   "language": "python",
   "name": "python3"
  },
  "language_info": {
   "codemirror_mode": {
    "name": "ipython",
    "version": 3
   },
   "file_extension": ".py",
   "mimetype": "text/x-python",
   "name": "python",
   "nbconvert_exporter": "python",
   "pygments_lexer": "ipython3",
   "version": "3.9.13"
  }
 },
 "nbformat": 4,
 "nbformat_minor": 5
}
