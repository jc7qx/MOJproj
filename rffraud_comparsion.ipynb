{
 "cells": [
  {
   "cell_type": "markdown",
   "id": "4e32fd50",
   "metadata": {},
   "source": [
    "## 詐欺隨機森林模型\n",
    "1. 不處理資料不平衡分佈\n",
    "2. 超參數調教\n",
    "3. 計算效能指標\n",
    "4. ROC_AUC Curve\n",
    "5. factor importance\n",
    "6. confusion matrix"
   ]
  },
  {
   "cell_type": "code",
   "execution_count": 1,
   "id": "2850fdf9",
   "metadata": {},
   "outputs": [],
   "source": [
    "import numpy as np\n",
    "import pandas as pd\n",
    "import matplotlib.pyplot as plt\n",
    "from sklearn.model_selection import train_test_split\n",
    "from xgboost import XGBClassifier, plot_importance, plot_tree\n",
    "from sklearn.ensemble import RandomForestClassifier\n",
    "from sklearn.metrics import confusion_matrix, roc_curve, auc, roc_auc_score, classification_report\n",
    "from sklearn.metrics import accuracy_score, precision_score, recall_score, f1_score\n",
    "from sklearn.metrics import roc_auc_score\n",
    "from sklearn.model_selection import cross_val_score\n",
    "from imblearn.over_sampling import SMOTE"
   ]
  },
  {
   "cell_type": "code",
   "execution_count": 2,
   "id": "676f6ec9",
   "metadata": {},
   "outputs": [],
   "source": [
    "plt.rcParams['font.sans-serif']=['Microsoft Jhenghei']\n",
    "plt.rcParams['axes.unicode_minus']=False"
   ]
  },
  {
   "cell_type": "markdown",
   "id": "ca7765a2",
   "metadata": {},
   "source": [
    "### 資料讀取"
   ]
  },
  {
   "cell_type": "code",
   "execution_count": 3,
   "id": "3bdcd267",
   "metadata": {},
   "outputs": [],
   "source": [
    "df = pd.read_csv(\"../data/trainFRAUD.csv\", encoding=\"utf8\")"
   ]
  },
  {
   "cell_type": "code",
   "execution_count": 4,
   "id": "ed9fc3c1",
   "metadata": {
    "scrolled": true
   },
   "outputs": [
    {
     "data": {
      "text/html": [
       "<div>\n",
       "<style scoped>\n",
       "    .dataframe tbody tr th:only-of-type {\n",
       "        vertical-align: middle;\n",
       "    }\n",
       "\n",
       "    .dataframe tbody tr th {\n",
       "        vertical-align: top;\n",
       "    }\n",
       "\n",
       "    .dataframe thead th {\n",
       "        text-align: right;\n",
       "    }\n",
       "</style>\n",
       "<table border=\"1\" class=\"dataframe\">\n",
       "  <thead>\n",
       "    <tr style=\"text-align: right;\">\n",
       "      <th></th>\n",
       "      <th>性別</th>\n",
       "      <th>教育</th>\n",
       "      <th>神智</th>\n",
       "      <th>年齡</th>\n",
       "      <th>每月採尿平均</th>\n",
       "      <th>實際保管長度</th>\n",
       "      <th>違規次數</th>\n",
       "      <th>獎勵次數</th>\n",
       "      <th>犯次</th>\n",
       "      <th>一年內次數</th>\n",
       "      <th>二年內次數</th>\n",
       "      <th>三年內次數</th>\n",
       "      <th>四年內次數</th>\n",
       "      <th>五年內次數</th>\n",
       "      <th>首犯年齡</th>\n",
       "      <th>再犯註記</th>\n",
       "    </tr>\n",
       "  </thead>\n",
       "  <tbody>\n",
       "    <tr>\n",
       "      <th>0</th>\n",
       "      <td>1</td>\n",
       "      <td>1</td>\n",
       "      <td>0</td>\n",
       "      <td>4</td>\n",
       "      <td>0.0</td>\n",
       "      <td>1</td>\n",
       "      <td>0</td>\n",
       "      <td>0</td>\n",
       "      <td>4</td>\n",
       "      <td>0</td>\n",
       "      <td>0</td>\n",
       "      <td>0</td>\n",
       "      <td>1</td>\n",
       "      <td>0</td>\n",
       "      <td>0</td>\n",
       "      <td>0</td>\n",
       "    </tr>\n",
       "    <tr>\n",
       "      <th>1</th>\n",
       "      <td>1</td>\n",
       "      <td>2</td>\n",
       "      <td>0</td>\n",
       "      <td>4</td>\n",
       "      <td>0.0</td>\n",
       "      <td>6</td>\n",
       "      <td>0</td>\n",
       "      <td>1</td>\n",
       "      <td>2</td>\n",
       "      <td>0</td>\n",
       "      <td>0</td>\n",
       "      <td>0</td>\n",
       "      <td>0</td>\n",
       "      <td>0</td>\n",
       "      <td>2</td>\n",
       "      <td>0</td>\n",
       "    </tr>\n",
       "    <tr>\n",
       "      <th>2</th>\n",
       "      <td>1</td>\n",
       "      <td>2</td>\n",
       "      <td>0</td>\n",
       "      <td>4</td>\n",
       "      <td>0.0</td>\n",
       "      <td>6</td>\n",
       "      <td>0</td>\n",
       "      <td>1</td>\n",
       "      <td>2</td>\n",
       "      <td>0</td>\n",
       "      <td>0</td>\n",
       "      <td>0</td>\n",
       "      <td>0</td>\n",
       "      <td>0</td>\n",
       "      <td>2</td>\n",
       "      <td>0</td>\n",
       "    </tr>\n",
       "    <tr>\n",
       "      <th>3</th>\n",
       "      <td>1</td>\n",
       "      <td>2</td>\n",
       "      <td>1</td>\n",
       "      <td>4</td>\n",
       "      <td>0.0</td>\n",
       "      <td>5</td>\n",
       "      <td>0</td>\n",
       "      <td>0</td>\n",
       "      <td>2</td>\n",
       "      <td>0</td>\n",
       "      <td>1</td>\n",
       "      <td>0</td>\n",
       "      <td>0</td>\n",
       "      <td>0</td>\n",
       "      <td>1</td>\n",
       "      <td>0</td>\n",
       "    </tr>\n",
       "    <tr>\n",
       "      <th>4</th>\n",
       "      <td>1</td>\n",
       "      <td>1</td>\n",
       "      <td>0</td>\n",
       "      <td>3</td>\n",
       "      <td>0.0</td>\n",
       "      <td>1</td>\n",
       "      <td>0</td>\n",
       "      <td>1</td>\n",
       "      <td>4</td>\n",
       "      <td>0</td>\n",
       "      <td>0</td>\n",
       "      <td>0</td>\n",
       "      <td>0</td>\n",
       "      <td>2</td>\n",
       "      <td>1</td>\n",
       "      <td>0</td>\n",
       "    </tr>\n",
       "  </tbody>\n",
       "</table>\n",
       "</div>"
      ],
      "text/plain": [
       "   性別  教育  神智  年齡  每月採尿平均  實際保管長度  違規次數  獎勵次數  犯次  一年內次數  二年內次數  三年內次數  四年內次數  \\\n",
       "0   1   1   0   4     0.0       1     0     0   4      0      0      0      1   \n",
       "1   1   2   0   4     0.0       6     0     1   2      0      0      0      0   \n",
       "2   1   2   0   4     0.0       6     0     1   2      0      0      0      0   \n",
       "3   1   2   1   4     0.0       5     0     0   2      0      1      0      0   \n",
       "4   1   1   0   3     0.0       1     0     1   4      0      0      0      0   \n",
       "\n",
       "   五年內次數  首犯年齡  再犯註記  \n",
       "0      0     0     0  \n",
       "1      0     2     0  \n",
       "2      0     2     0  \n",
       "3      0     1     0  \n",
       "4      2     1     0  "
      ]
     },
     "execution_count": 4,
     "metadata": {},
     "output_type": "execute_result"
    }
   ],
   "source": [
    "df.head()"
   ]
  },
  {
   "cell_type": "code",
   "execution_count": 5,
   "id": "a09b3a88",
   "metadata": {},
   "outputs": [
    {
     "data": {
      "text/plain": [
       "Index(['性別', '教育', '神智', '年齡', '每月採尿平均', '實際保管長度', '違規次數', '獎勵次數', '犯次',\n",
       "       '一年內次數', '二年內次數', '三年內次數', '四年內次數', '五年內次數', '首犯年齡', '再犯註記'],\n",
       "      dtype='object')"
      ]
     },
     "execution_count": 5,
     "metadata": {},
     "output_type": "execute_result"
    }
   ],
   "source": [
    "df.columns"
   ]
  },
  {
   "cell_type": "code",
   "execution_count": 6,
   "id": "ee591142",
   "metadata": {},
   "outputs": [
    {
     "data": {
      "text/plain": [
       "(14199, 16)"
      ]
     },
     "execution_count": 6,
     "metadata": {},
     "output_type": "execute_result"
    }
   ],
   "source": [
    "df.shape"
   ]
  },
  {
   "cell_type": "code",
   "execution_count": 7,
   "id": "c726ec12",
   "metadata": {},
   "outputs": [
    {
     "data": {
      "text/plain": [
       "Text(0.5, 0, '再犯註記(1:再犯，0:非再犯)')"
      ]
     },
     "execution_count": 7,
     "metadata": {},
     "output_type": "execute_result"
    },
    {
     "data": {
      "image/png": "[encoded data removed]",
      "text/plain": [
       "<Figure size 640x480 with 1 Axes>"
      ]
     },
     "metadata": {},
     "output_type": "display_data"
    }
   ],
   "source": [
    "tgtn = df.groupby('再犯註記')\n",
    "ax = tgtn.size().plot.bar()\n",
    "ax.bar_label(ax.containers[0]) #顯示bar的資料數據 \n",
    "ax.set_ylabel(\"資料筆數\") #設定y軸標籤\n",
    "ax.set_xlabel(\"再犯註記(1:再犯，0:非再犯)\") #設定y軸標籤"
   ]
  },
  {
   "cell_type": "markdown",
   "id": "25247f35",
   "metadata": {},
   "source": [
    "### 建立訓練集與測試集(X, y)"
   ]
  },
  {
   "cell_type": "code",
   "execution_count": 8,
   "id": "b04bf46c",
   "metadata": {},
   "outputs": [],
   "source": [
    "X = df.drop(labels=['再犯註記'], axis=1).values\n",
    "y = df['再犯註記'].values"
   ]
  },
  {
   "cell_type": "code",
   "execution_count": 9,
   "id": "ffdd0064",
   "metadata": {},
   "outputs": [],
   "source": [
    "train_X, test_X, train_y, test_y = train_test_split(X, y, test_size=0.2, random_state=0)"
   ]
  },
  {
   "cell_type": "code",
   "execution_count": 10,
   "id": "f5bee5bd",
   "metadata": {},
   "outputs": [],
   "source": [
    "target_names = ['非再犯','再犯']"
   ]
  },
  {
   "cell_type": "code",
   "execution_count": 11,
   "id": "bd8840d4",
   "metadata": {},
   "outputs": [
    {
     "name": "stdout",
     "output_type": "stream",
     "text": [
      "              precision    recall  f1-score   support\n",
      "\n",
      "         非再犯       0.92      0.98      0.95      2554\n",
      "          再犯       0.55      0.20      0.30       286\n",
      "\n",
      "    accuracy                           0.90      2840\n",
      "   macro avg       0.73      0.59      0.62      2840\n",
      "weighted avg       0.88      0.90      0.88      2840\n",
      "\n"
     ]
    }
   ],
   "source": [
    "# 基本模型/原始資料\n",
    "model1 = RandomForestClassifier(random_state=42, n_jobs=-1)\n",
    "model1.fit(train_X, train_y)\n",
    "y_pred = model1.predict_proba(test_X)[:, 1]\n",
    "predict_y = model1.predict(test_X)\n",
    "fpr1, tpr1, _ = roc_curve(test_y, y_pred)\n",
    "auc1 = round(roc_auc_score(test_y, y_pred), 4)\n",
    "print(classification_report(test_y, predict_y, target_names=target_names))"
   ]
  },
  {
   "cell_type": "code",
   "execution_count": 12,
   "id": "4b95c8c7",
   "metadata": {},
   "outputs": [
    {
     "name": "stdout",
     "output_type": "stream",
     "text": [
      "              precision    recall  f1-score   support\n",
      "\n",
      "         非再犯       0.92      0.95      0.94      2554\n",
      "          再犯       0.39      0.26      0.31       286\n",
      "\n",
      "    accuracy                           0.88      2840\n",
      "   macro avg       0.65      0.61      0.62      2840\n",
      "weighted avg       0.87      0.88      0.87      2840\n",
      "\n"
     ]
    }
   ],
   "source": [
    "# RF model with balanced class weight\n",
    "model2 = RandomForestClassifier(class_weight='balanced', random_state=42, n_jobs=-1)\n",
    "model2.fit(train_X, train_y)\n",
    "y_pred = model2.predict_proba(test_X)[:, 1]\n",
    "predict_y = model2.predict(test_X)\n",
    "fpr2, tpr2, _ = roc_curve(test_y, y_pred)\n",
    "auc2 = round(roc_auc_score(test_y, y_pred), 4)\n",
    "print(classification_report(test_y, predict_y, target_names=target_names))"
   ]
  },
  {
   "cell_type": "code",
   "execution_count": 13,
   "id": "46c5378d",
   "metadata": {},
   "outputs": [
    {
     "name": "stdout",
     "output_type": "stream",
     "text": [
      "              precision    recall  f1-score   support\n",
      "\n",
      "         非再犯       0.92      0.95      0.94      2554\n",
      "          再犯       0.39      0.27      0.32       286\n",
      "\n",
      "    accuracy                           0.88      2840\n",
      "   macro avg       0.66      0.61      0.63      2840\n",
      "weighted avg       0.87      0.88      0.87      2840\n",
      "\n"
     ]
    }
   ],
   "source": [
    "# RF model with balanced subsample class weight\n",
    "model3 = RandomForestClassifier(class_weight='balanced_subsample', random_state=42, n_jobs=-1)\n",
    "model3.fit(train_X, train_y)\n",
    "y_pred = model3.predict_proba(test_X)[:, 1]\n",
    "predict_y = model3.predict(test_X)\n",
    "fpr3, tpr3, _ = roc_curve(test_y, y_pred)\n",
    "auc3 = round(roc_auc_score(test_y, y_pred), 4)\n",
    "print(classification_report(test_y, predict_y, target_names=target_names))"
   ]
  },
  {
   "cell_type": "code",
   "execution_count": 14,
   "id": "9fb24c7f",
   "metadata": {},
   "outputs": [
    {
     "name": "stdout",
     "output_type": "stream",
     "text": [
      "              precision    recall  f1-score   support\n",
      "\n",
      "         非再犯       0.92      0.95      0.94      2554\n",
      "          再犯       0.38      0.27      0.31       286\n",
      "\n",
      "    accuracy                           0.88      2840\n",
      "   macro avg       0.65      0.61      0.62      2840\n",
      "weighted avg       0.87      0.88      0.87      2840\n",
      "\n"
     ]
    }
   ],
   "source": [
    "# RF with SMOTE\n",
    "oversample = SMOTE()\n",
    "X_over, y_over = oversample.fit_resample(train_X, train_y) #X, y\n",
    "model4 = RandomForestClassifier(random_state=42, n_jobs=-1)\n",
    "model4.fit(X_over, y_over)\n",
    "y_pred = model4.predict_proba(test_X)[:, 1]\n",
    "predict_y = model4.predict(test_X)\n",
    "fpr4, tpr4, _ = roc_curve(test_y, y_pred)\n",
    "auc4 = round(roc_auc_score(test_y, y_pred), 4)\n",
    "print(classification_report(test_y, predict_y, target_names=target_names))"
   ]
  },
  {
   "cell_type": "code",
   "execution_count": 15,
   "id": "ee1fd3b5",
   "metadata": {},
   "outputs": [
    {
     "data": {
      "text/plain": [
       "Text(0, 0.5, 'tpr')"
      ]
     },
     "execution_count": 15,
     "metadata": {},
     "output_type": "execute_result"
    },
    {
     "data": {
      "image/png": "[encoded data removed]",
      "text/plain": [
       "<Figure size 640x480 with 1 Axes>"
      ]
     },
     "metadata": {},
     "output_type": "display_data"
    }
   ],
   "source": [
    "# plot ROC_AUC graph\n",
    "plt.figure(0).clf()\n",
    "plt.style.use(\"ggplot\")\n",
    "\n",
    "plt.plot(fpr1,tpr1,label=\"base model, AUC=\"+str(auc1))\n",
    "plt.plot(fpr2,tpr2,label=\"balanced weight, AUC=\"+str(auc2))\n",
    "plt.plot(fpr3,tpr3,label=\"balanced_subsample weight, AUC=\"+str(auc3))\n",
    "plt.plot(fpr4,tpr4,label=\"oversampling with SMOTE, AUC=\"+str(auc4))\n",
    "\n",
    "plt.legend(loc=0)\n",
    "plt.title(\"模型比較(AUC)\")\n",
    "plt.xlabel(\"fpr\")\n",
    "plt.ylabel(\"tpr\")\n",
    "plt.savefig(\"fraud_auc.png\")"
   ]
  },
  {
   "cell_type": "code",
   "execution_count": null,
   "id": "5496b676",
   "metadata": {},
   "outputs": [],
   "source": []
  }
 ],
 "metadata": {
  "kernelspec": {
   "display_name": "Python 3 (ipykernel)",
   "language": "python",
   "name": "python3"
  },
  "language_info": {
   "codemirror_mode": {
    "name": "ipython",
    "version": 3
   },
   "file_extension": ".py",
   "mimetype": "text/x-python",
   "name": "python",
   "nbconvert_exporter": "python",
   "pygments_lexer": "ipython3",
   "version": "3.9.13"
  }
 },
 "nbformat": 4,
 "nbformat_minor": 5
}
