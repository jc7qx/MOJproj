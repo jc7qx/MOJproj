{
 "cells": [
  {
   "cell_type": "code",
   "execution_count": 1,
   "id": "c4a41b97",
   "metadata": {},
   "outputs": [],
   "source": [
    "import numpy as np\n",
    "import pandas as pd\n",
    "import matplotlib.pyplot as plt\n",
    "from sklearn.model_selection import train_test_split\n",
    "from xgboost import XGBClassifier, plot_importance, plot_tree\n",
    "from sklearn.metrics import confusion_matrix, roc_curve, auc, roc_auc_score, classification_report\n",
    "from sklearn.metrics import accuracy_score, precision_score, recall_score, f1_score\n",
    "from sklearn.metrics import roc_auc_score\n",
    "from sklearn.model_selection import cross_val_score\n",
    "from sklearn.preprocessing import LabelEncoder"
   ]
  },
  {
   "cell_type": "code",
   "execution_count": 10,
   "id": "bcb19d8d",
   "metadata": {},
   "outputs": [],
   "source": [
    "plt.rcParams['font.sans-serif']=['Microsoft Jhenghei']\n",
    "plt.rcParams['axes.unicode_minus']=False\n"
   ]
  },
  {
   "cell_type": "code",
   "execution_count": 2,
   "id": "43325967",
   "metadata": {},
   "outputs": [],
   "source": [
    "df = pd.read_csv(\"../data/traindrug.csv\", encoding=\"utf8\")"
   ]
  },
  {
   "cell_type": "code",
   "execution_count": 3,
   "id": "0b4dee97",
   "metadata": {},
   "outputs": [
    {
     "data": {
      "text/html": [
       "<div>\n",
       "<style scoped>\n",
       "    .dataframe tbody tr th:only-of-type {\n",
       "        vertical-align: middle;\n",
       "    }\n",
       "\n",
       "    .dataframe tbody tr th {\n",
       "        vertical-align: top;\n",
       "    }\n",
       "\n",
       "    .dataframe thead th {\n",
       "        text-align: right;\n",
       "    }\n",
       "</style>\n",
       "<table border=\"1\" class=\"dataframe\">\n",
       "  <thead>\n",
       "    <tr style=\"text-align: right;\">\n",
       "      <th></th>\n",
       "      <th>性別</th>\n",
       "      <th>教育</th>\n",
       "      <th>神智</th>\n",
       "      <th>年齡</th>\n",
       "      <th>每月採尿平均</th>\n",
       "      <th>實際保管長度</th>\n",
       "      <th>違規次數</th>\n",
       "      <th>獎勵次數</th>\n",
       "      <th>犯次</th>\n",
       "      <th>一年內次數</th>\n",
       "      <th>二年內次數</th>\n",
       "      <th>三年內次數</th>\n",
       "      <th>四年內次數</th>\n",
       "      <th>五年內次數</th>\n",
       "      <th>首犯年齡</th>\n",
       "      <th>再犯註記</th>\n",
       "    </tr>\n",
       "  </thead>\n",
       "  <tbody>\n",
       "    <tr>\n",
       "      <th>0</th>\n",
       "      <td>1</td>\n",
       "      <td>4</td>\n",
       "      <td>3</td>\n",
       "      <td>3</td>\n",
       "      <td>2.333</td>\n",
       "      <td>1</td>\n",
       "      <td>0</td>\n",
       "      <td>0</td>\n",
       "      <td>5</td>\n",
       "      <td>0</td>\n",
       "      <td>0</td>\n",
       "      <td>0</td>\n",
       "      <td>3</td>\n",
       "      <td>4</td>\n",
       "      <td>0</td>\n",
       "      <td>0</td>\n",
       "    </tr>\n",
       "    <tr>\n",
       "      <th>1</th>\n",
       "      <td>1</td>\n",
       "      <td>3</td>\n",
       "      <td>2</td>\n",
       "      <td>3</td>\n",
       "      <td>0.000</td>\n",
       "      <td>1</td>\n",
       "      <td>0</td>\n",
       "      <td>0</td>\n",
       "      <td>2</td>\n",
       "      <td>0</td>\n",
       "      <td>0</td>\n",
       "      <td>0</td>\n",
       "      <td>1</td>\n",
       "      <td>0</td>\n",
       "      <td>0</td>\n",
       "      <td>0</td>\n",
       "    </tr>\n",
       "    <tr>\n",
       "      <th>2</th>\n",
       "      <td>1</td>\n",
       "      <td>3</td>\n",
       "      <td>2</td>\n",
       "      <td>3</td>\n",
       "      <td>1.000</td>\n",
       "      <td>3</td>\n",
       "      <td>0</td>\n",
       "      <td>2</td>\n",
       "      <td>4</td>\n",
       "      <td>0</td>\n",
       "      <td>0</td>\n",
       "      <td>0</td>\n",
       "      <td>0</td>\n",
       "      <td>0</td>\n",
       "      <td>1</td>\n",
       "      <td>0</td>\n",
       "    </tr>\n",
       "    <tr>\n",
       "      <th>3</th>\n",
       "      <td>1</td>\n",
       "      <td>3</td>\n",
       "      <td>0</td>\n",
       "      <td>4</td>\n",
       "      <td>1.714</td>\n",
       "      <td>1</td>\n",
       "      <td>0</td>\n",
       "      <td>0</td>\n",
       "      <td>5</td>\n",
       "      <td>0</td>\n",
       "      <td>0</td>\n",
       "      <td>0</td>\n",
       "      <td>0</td>\n",
       "      <td>0</td>\n",
       "      <td>1</td>\n",
       "      <td>1</td>\n",
       "    </tr>\n",
       "    <tr>\n",
       "      <th>4</th>\n",
       "      <td>1</td>\n",
       "      <td>3</td>\n",
       "      <td>0</td>\n",
       "      <td>3</td>\n",
       "      <td>0.871</td>\n",
       "      <td>4</td>\n",
       "      <td>0</td>\n",
       "      <td>1</td>\n",
       "      <td>2</td>\n",
       "      <td>0</td>\n",
       "      <td>0</td>\n",
       "      <td>0</td>\n",
       "      <td>0</td>\n",
       "      <td>0</td>\n",
       "      <td>0</td>\n",
       "      <td>0</td>\n",
       "    </tr>\n",
       "  </tbody>\n",
       "</table>\n",
       "</div>"
      ],
      "text/plain": [
       "   性別  教育  神智  年齡  每月採尿平均  實際保管長度  違規次數  獎勵次數  犯次  一年內次數  二年內次數  三年內次數  四年內次數  \\\n",
       "0   1   4   3   3   2.333       1     0     0   5      0      0      0      3   \n",
       "1   1   3   2   3   0.000       1     0     0   2      0      0      0      1   \n",
       "2   1   3   2   3   1.000       3     0     2   4      0      0      0      0   \n",
       "3   1   3   0   4   1.714       1     0     0   5      0      0      0      0   \n",
       "4   1   3   0   3   0.871       4     0     1   2      0      0      0      0   \n",
       "\n",
       "   五年內次數  首犯年齡  再犯註記  \n",
       "0      4     0     0  \n",
       "1      0     0     0  \n",
       "2      0     1     0  \n",
       "3      0     1     1  \n",
       "4      0     0     0  "
      ]
     },
     "execution_count": 3,
     "metadata": {},
     "output_type": "execute_result"
    }
   ],
   "source": [
    "df.head()"
   ]
  },
  {
   "cell_type": "code",
   "execution_count": 8,
   "id": "22b261f6",
   "metadata": {},
   "outputs": [
    {
     "name": "stdout",
     "output_type": "stream",
     "text": [
      "<class 'pandas.core.frame.DataFrame'>\n",
      "RangeIndex: 65402 entries, 0 to 65401\n",
      "Data columns (total 16 columns):\n",
      " #   Column  Non-Null Count  Dtype  \n",
      "---  ------  --------------  -----  \n",
      " 0   性別      65402 non-null  int64  \n",
      " 1   教育      65402 non-null  int64  \n",
      " 2   神智      65402 non-null  int64  \n",
      " 3   年齡      65402 non-null  int64  \n",
      " 4   每月採尿平均  65402 non-null  float64\n",
      " 5   實際保管長度  65402 non-null  int64  \n",
      " 6   違規次數    65402 non-null  int64  \n",
      " 7   獎勵次數    65402 non-null  int64  \n",
      " 8   犯次      65402 non-null  int64  \n",
      " 9   一年內次數   65402 non-null  int64  \n",
      " 10  二年內次數   65402 non-null  int64  \n",
      " 11  三年內次數   65402 non-null  int64  \n",
      " 12  四年內次數   65402 non-null  int64  \n",
      " 13  五年內次數   65402 non-null  int64  \n",
      " 14  首犯年齡    65402 non-null  int64  \n",
      " 15  再犯註記    65402 non-null  int64  \n",
      "dtypes: float64(1), int64(15)\n",
      "memory usage: 8.0 MB\n"
     ]
    }
   ],
   "source": [
    "df.info()"
   ]
  },
  {
   "cell_type": "markdown",
   "id": "b1d528ad",
   "metadata": {},
   "source": [
    "**資料編碼參考結案報告表7**"
   ]
  },
  {
   "cell_type": "code",
   "execution_count": 22,
   "id": "d3d20207",
   "metadata": {},
   "outputs": [
    {
     "data": {
      "text/plain": [
       "count    65402.000000\n",
       "mean         1.411625\n",
       "std          1.093908\n",
       "min          0.000000\n",
       "25%          0.667000\n",
       "50%          1.286000\n",
       "75%          2.000000\n",
       "max         10.000000\n",
       "Name: 每月採尿平均, dtype: float64"
      ]
     },
     "execution_count": 22,
     "metadata": {},
     "output_type": "execute_result"
    }
   ],
   "source": [
    "urn=df.每月採尿平均\n",
    "urn.describe()"
   ]
  },
  {
   "cell_type": "code",
   "execution_count": 72,
   "id": "721d6f9f",
   "metadata": {},
   "outputs": [
    {
     "data": {
      "text/plain": [
       "<AxesSubplot:ylabel='Density'>"
      ]
     },
     "execution_count": 72,
     "metadata": {},
     "output_type": "execute_result"
    },
    {
     "data": {
      "image/png": "[encoded data removed]",
      "text/plain": [
       "<Figure size 640x480 with 1 Axes>"
      ]
     },
     "metadata": {},
     "output_type": "display_data"
    }
   ],
   "source": [
    "urn.plot.kde()"
   ]
  },
  {
   "cell_type": "code",
   "execution_count": 89,
   "id": "db94d5fc",
   "metadata": {},
   "outputs": [
    {
     "name": "stderr",
     "output_type": "stream",
     "text": [
      "C:\\Users\\User\\AppData\\Local\\Temp\\ipykernel_11872\\3174808323.py:10: UserWarning: color is redundantly defined by the 'color' keyword argument and the fmt string \"k\" (-> color=(0.0, 0.0, 0.0, 1)). The keyword argument will take precedence.\n",
      "  plt.plot(x, p, 'k', linewidth=2, color='r')\n"
     ]
    },
    {
     "data": {
      "text/plain": [
       "[<matplotlib.lines.Line2D at 0x21ffdff26d0>]"
      ]
     },
     "execution_count": 89,
     "metadata": {},
     "output_type": "execute_result"
    },
    {
     "data": {
      "image/png": "[encoded data removed]",
      "text/plain": [
       "<Figure size 640x480 with 1 Axes>"
      ]
     },
     "metadata": {},
     "output_type": "display_data"
    }
   ],
   "source": [
    "from scipy.stats import norm\n",
    "plt.hist(urn, bins=25, density=True, alpha=0.6, color='b')\n",
    "mu, std = norm.fit(urn)\n",
    "xmin, xmax = plt.xlim()\n",
    "x = np.linspace(xmin, xmax, 100)\n",
    "p = norm.pdf(x, mu, std)\n",
    "plt.plot(x, p, 'k', linewidth=2, color='r')"
   ]
  },
  {
   "cell_type": "code",
   "execution_count": 6,
   "id": "9d767f7c",
   "metadata": {},
   "outputs": [
    {
     "data": {
      "image/png": "[encoded data removed]",
      "text/plain": [
       "<Figure size 640x480 with 1 Axes>"
      ]
     },
     "metadata": {},
     "output_type": "display_data"
    }
   ],
   "source": [
    "plt.show()"
   ]
  },
  {
   "cell_type": "code",
   "execution_count": 21,
   "id": "a81dc218",
   "metadata": {},
   "outputs": [
    {
     "data": {
      "text/plain": [
       "<AxesSubplot:>"
      ]
     },
     "execution_count": 21,
     "metadata": {},
     "output_type": "execute_result"
    }
   ],
   "source": [
    "df[['四年內次數']].boxplot()"
   ]
  },
  {
   "cell_type": "code",
   "execution_count": 22,
   "id": "d41a9ba6",
   "metadata": {},
   "outputs": [
    {
     "data": {
      "image/png": "[encoded data removed]",
      "text/plain": [
       "<Figure size 640x480 with 1 Axes>"
      ]
     },
     "metadata": {},
     "output_type": "display_data"
    }
   ],
   "source": [
    "plt.show()"
   ]
  },
  {
   "cell_type": "code",
   "execution_count": 12,
   "id": "6bf6bf32",
   "metadata": {},
   "outputs": [
    {
     "data": {
      "text/plain": [
       "Index(['性別', '教育', '神智', '年齡', '每月採尿平均', '實際保管長度', '違規次數', '獎勵次數', '犯次',\n",
       "       '一年內次數', '二年內次數', '三年內次數', '四年內次數', '五年內次數', '首犯年齡', '再犯註記'],\n",
       "      dtype='object')"
      ]
     },
     "execution_count": 12,
     "metadata": {},
     "output_type": "execute_result"
    }
   ],
   "source": [
    "df.columns"
   ]
  },
  {
   "cell_type": "code",
   "execution_count": 28,
   "id": "25e9654f",
   "metadata": {},
   "outputs": [
    {
     "data": {
      "text/html": [
       "<div>\n",
       "<style scoped>\n",
       "    .dataframe tbody tr th:only-of-type {\n",
       "        vertical-align: middle;\n",
       "    }\n",
       "\n",
       "    .dataframe tbody tr th {\n",
       "        vertical-align: top;\n",
       "    }\n",
       "\n",
       "    .dataframe thead th {\n",
       "        text-align: right;\n",
       "    }\n",
       "</style>\n",
       "<table border=\"1\" class=\"dataframe\">\n",
       "  <thead>\n",
       "    <tr style=\"text-align: right;\">\n",
       "      <th></th>\n",
       "      <th>性別</th>\n",
       "      <th>教育</th>\n",
       "      <th>神智</th>\n",
       "      <th>年齡</th>\n",
       "      <th>每月採尿平均</th>\n",
       "      <th>實際保管長度</th>\n",
       "      <th>違規次數</th>\n",
       "      <th>獎勵次數</th>\n",
       "      <th>犯次</th>\n",
       "      <th>一年內次數</th>\n",
       "      <th>二年內次數</th>\n",
       "      <th>三年內次數</th>\n",
       "      <th>四年內次數</th>\n",
       "      <th>五年內次數</th>\n",
       "      <th>首犯年齡</th>\n",
       "      <th>再犯註記</th>\n",
       "    </tr>\n",
       "  </thead>\n",
       "  <tbody>\n",
       "    <tr>\n",
       "      <th>42487</th>\n",
       "      <td>1</td>\n",
       "      <td>1</td>\n",
       "      <td>2</td>\n",
       "      <td>3</td>\n",
       "      <td>1.833</td>\n",
       "      <td>1</td>\n",
       "      <td>0</td>\n",
       "      <td>1</td>\n",
       "      <td>4</td>\n",
       "      <td>0</td>\n",
       "      <td>42</td>\n",
       "      <td>4</td>\n",
       "      <td>0</td>\n",
       "      <td>0</td>\n",
       "      <td>3</td>\n",
       "      <td>0</td>\n",
       "    </tr>\n",
       "    <tr>\n",
       "      <th>53595</th>\n",
       "      <td>1</td>\n",
       "      <td>1</td>\n",
       "      <td>3</td>\n",
       "      <td>1</td>\n",
       "      <td>3.000</td>\n",
       "      <td>1</td>\n",
       "      <td>0</td>\n",
       "      <td>0</td>\n",
       "      <td>5</td>\n",
       "      <td>2</td>\n",
       "      <td>22</td>\n",
       "      <td>4</td>\n",
       "      <td>4</td>\n",
       "      <td>0</td>\n",
       "      <td>1</td>\n",
       "      <td>0</td>\n",
       "    </tr>\n",
       "    <tr>\n",
       "      <th>60352</th>\n",
       "      <td>1</td>\n",
       "      <td>4</td>\n",
       "      <td>3</td>\n",
       "      <td>0</td>\n",
       "      <td>0.000</td>\n",
       "      <td>1</td>\n",
       "      <td>0</td>\n",
       "      <td>0</td>\n",
       "      <td>5</td>\n",
       "      <td>0</td>\n",
       "      <td>37</td>\n",
       "      <td>2</td>\n",
       "      <td>3</td>\n",
       "      <td>1</td>\n",
       "      <td>0</td>\n",
       "      <td>0</td>\n",
       "    </tr>\n",
       "    <tr>\n",
       "      <th>60666</th>\n",
       "      <td>1</td>\n",
       "      <td>2</td>\n",
       "      <td>0</td>\n",
       "      <td>0</td>\n",
       "      <td>0.000</td>\n",
       "      <td>1</td>\n",
       "      <td>0</td>\n",
       "      <td>0</td>\n",
       "      <td>1</td>\n",
       "      <td>1</td>\n",
       "      <td>22</td>\n",
       "      <td>1</td>\n",
       "      <td>1</td>\n",
       "      <td>0</td>\n",
       "      <td>0</td>\n",
       "      <td>1</td>\n",
       "    </tr>\n",
       "    <tr>\n",
       "      <th>61352</th>\n",
       "      <td>1</td>\n",
       "      <td>4</td>\n",
       "      <td>3</td>\n",
       "      <td>1</td>\n",
       "      <td>1.000</td>\n",
       "      <td>1</td>\n",
       "      <td>0</td>\n",
       "      <td>0</td>\n",
       "      <td>5</td>\n",
       "      <td>0</td>\n",
       "      <td>60</td>\n",
       "      <td>3</td>\n",
       "      <td>0</td>\n",
       "      <td>0</td>\n",
       "      <td>1</td>\n",
       "      <td>0</td>\n",
       "    </tr>\n",
       "    <tr>\n",
       "      <th>63363</th>\n",
       "      <td>1</td>\n",
       "      <td>3</td>\n",
       "      <td>3</td>\n",
       "      <td>0</td>\n",
       "      <td>1.000</td>\n",
       "      <td>6</td>\n",
       "      <td>0</td>\n",
       "      <td>0</td>\n",
       "      <td>5</td>\n",
       "      <td>1</td>\n",
       "      <td>22</td>\n",
       "      <td>0</td>\n",
       "      <td>0</td>\n",
       "      <td>0</td>\n",
       "      <td>0</td>\n",
       "      <td>0</td>\n",
       "    </tr>\n",
       "  </tbody>\n",
       "</table>\n",
       "</div>"
      ],
      "text/plain": [
       "       性別  教育  神智  年齡  每月採尿平均  實際保管長度  違規次數  獎勵次數  犯次  一年內次數  二年內次數  三年內次數  \\\n",
       "42487   1   1   2   3   1.833       1     0     1   4      0     42      4   \n",
       "53595   1   1   3   1   3.000       1     0     0   5      2     22      4   \n",
       "60352   1   4   3   0   0.000       1     0     0   5      0     37      2   \n",
       "60666   1   2   0   0   0.000       1     0     0   1      1     22      1   \n",
       "61352   1   4   3   1   1.000       1     0     0   5      0     60      3   \n",
       "63363   1   3   3   0   1.000       6     0     0   5      1     22      0   \n",
       "\n",
       "       四年內次數  五年內次數  首犯年齡  再犯註記  \n",
       "42487      0      0     3     0  \n",
       "53595      4      0     1     0  \n",
       "60352      3      1     0     0  \n",
       "60666      1      0     0     1  \n",
       "61352      0      0     1     0  \n",
       "63363      0      0     0     0  "
      ]
     },
     "execution_count": 28,
     "metadata": {},
     "output_type": "execute_result"
    }
   ],
   "source": [
    "df[df['二年內次數']>20]"
   ]
  },
  {
   "cell_type": "code",
   "execution_count": 49,
   "id": "ae5e124b",
   "metadata": {},
   "outputs": [
    {
     "data": {
      "text/plain": [
       "<AxesSubplot:>"
      ]
     },
     "execution_count": 49,
     "metadata": {},
     "output_type": "execute_result"
    }
   ],
   "source": [
    "df['四年內次數'].hist(bins=30)"
   ]
  },
  {
   "cell_type": "code",
   "execution_count": 50,
   "id": "efbe4431",
   "metadata": {},
   "outputs": [
    {
     "data": {
      "image/png": "[encoded data removed]",
      "text/plain": [
       "<Figure size 640x480 with 1 Axes>"
      ]
     },
     "metadata": {},
     "output_type": "display_data"
    }
   ],
   "source": [
    "plt.show()"
   ]
  },
  {
   "cell_type": "code",
   "execution_count": 56,
   "id": "3da744c0",
   "metadata": {},
   "outputs": [
    {
     "data": {
      "text/plain": [
       "(65402, 16)"
      ]
     },
     "execution_count": 56,
     "metadata": {},
     "output_type": "execute_result"
    }
   ],
   "source": [
    "df.shape"
   ]
  },
  {
   "cell_type": "code",
   "execution_count": 6,
   "id": "cd02fe72",
   "metadata": {},
   "outputs": [],
   "source": [
    "nnn=df.groupby('再犯註記')"
   ]
  },
  {
   "cell_type": "code",
   "execution_count": 7,
   "id": "ce2d0602",
   "metadata": {},
   "outputs": [
    {
     "data": {
      "text/plain": [
       "再犯註記\n",
       "0    53906\n",
       "1    11496\n",
       "dtype: int64"
      ]
     },
     "execution_count": 7,
     "metadata": {},
     "output_type": "execute_result"
    }
   ],
   "source": [
    "nnn.size()"
   ]
  },
  {
   "cell_type": "code",
   "execution_count": 11,
   "id": "d0e172a0",
   "metadata": {},
   "outputs": [
    {
     "data": {
      "text/plain": [
       "<AxesSubplot:xlabel='再犯註記'>"
      ]
     },
     "execution_count": 11,
     "metadata": {},
     "output_type": "execute_result"
    },
    {
     "data": {
      "image/png": "[encoded data removed]",
      "text/plain": [
       "<Figure size 640x480 with 1 Axes>"
      ]
     },
     "metadata": {},
     "output_type": "display_data"
    }
   ],
   "source": [
    "nnn.size().plot.bar()"
   ]
  },
  {
   "cell_type": "code",
   "execution_count": 21,
   "id": "8741cbed",
   "metadata": {},
   "outputs": [
    {
     "data": {
      "text/plain": [
       "Text(0.5, 0, '再犯註記(1:再犯，0:非再犯)')"
      ]
     },
     "execution_count": 21,
     "metadata": {},
     "output_type": "execute_result"
    },
    {
     "data": {
      "image/png": "[encoded data removed]",
      "text/plain": [
       "<Figure size 640x480 with 1 Axes>"
      ]
     },
     "metadata": {},
     "output_type": "display_data"
    }
   ],
   "source": [
    "ax = nnn.size().plot.bar()\n",
    "ax.bar_label(ax.containers[0]) #顯示bar的資料數據 \n",
    "ax.set_ylabel(\"資料筆數\") #設定y軸標籤\n",
    "ax.set_xlabel(\"再犯註記(1:再犯，0:非再犯)\") #設定y軸標籤"
   ]
  },
  {
   "cell_type": "code",
   "execution_count": 24,
   "id": "3d838690",
   "metadata": {},
   "outputs": [],
   "source": [
    "X = df.drop(labels=['再犯註記'], axis=1).values"
   ]
  },
  {
   "cell_type": "code",
   "execution_count": 26,
   "id": "785d03c6",
   "metadata": {},
   "outputs": [
    {
     "data": {
      "text/plain": [
       "array([[1., 4., 3., ..., 3., 4., 0.],\n",
       "       [1., 3., 2., ..., 1., 0., 0.],\n",
       "       [1., 3., 2., ..., 0., 0., 1.],\n",
       "       ...,\n",
       "       [1., 3., 0., ..., 0., 0., 0.],\n",
       "       [0., 3., 0., ..., 2., 0., 0.],\n",
       "       [0., 3., 0., ..., 0., 0., 0.]])"
      ]
     },
     "execution_count": 26,
     "metadata": {},
     "output_type": "execute_result"
    }
   ],
   "source": [
    "X"
   ]
  },
  {
   "cell_type": "code",
   "execution_count": 27,
   "id": "7f59348d",
   "metadata": {},
   "outputs": [],
   "source": [
    "y = df['再犯註記'].values"
   ]
  },
  {
   "cell_type": "code",
   "execution_count": 28,
   "id": "3ff8fc12",
   "metadata": {},
   "outputs": [
    {
     "data": {
      "text/plain": [
       "array([0, 0, 0, ..., 0, 0, 0], dtype=int64)"
      ]
     },
     "execution_count": 28,
     "metadata": {},
     "output_type": "execute_result"
    }
   ],
   "source": [
    "y"
   ]
  },
  {
   "cell_type": "code",
   "execution_count": 33,
   "id": "97abcd4e",
   "metadata": {},
   "outputs": [],
   "source": [
    "train_X, test_X, train_y, test_y = train_test_split(X, y, test_size=0.2, random_state=0)"
   ]
  },
  {
   "cell_type": "code",
   "execution_count": 32,
   "id": "dbcb75cf",
   "metadata": {},
   "outputs": [],
   "source": [
    "xgbModel = XGBClassifier(\n",
    "        n_estimators=7000, \n",
    "        learning_rate= 0.003, \n",
    "        max_depth=9,\n",
    "        min_child_weight=0,\n",
    "        gamma=0,                                      \n",
    "        subsample=0.5,                               \n",
    "        colsample_bytree=0.9,                         \n",
    "        objective= 'binary:logistic',\n",
    "        scale_pos_weight=1,                         \n",
    "        seed=1440\n",
    ")  "
   ]
  },
  {
   "cell_type": "code",
   "execution_count": 34,
   "id": "d3a83b3b",
   "metadata": {},
   "outputs": [],
   "source": [
    "scores = cross_val_score(xgbModel, train_X, train_y, cv=5, scoring='accuracy')"
   ]
  },
  {
   "cell_type": "code",
   "execution_count": 36,
   "id": "69a0969d",
   "metadata": {},
   "outputs": [
    {
     "data": {
      "text/plain": [
       "XGBClassifier(base_score=None, booster=None, callbacks=None,\n",
       "              colsample_bylevel=None, colsample_bynode=None,\n",
       "              colsample_bytree=0.9, early_stopping_rounds=None,\n",
       "              enable_categorical=False, eval_metric=None, feature_types=None,\n",
       "              gamma=0, gpu_id=None, grow_policy=None, importance_type=None,\n",
       "              interaction_constraints=None, learning_rate=0.003, max_bin=None,\n",
       "              max_cat_threshold=None, max_cat_to_onehot=None,\n",
       "              max_delta_step=None, max_depth=9, max_leaves=None,\n",
       "              min_child_weight=0, missing=nan, monotone_constraints=None,\n",
       "              n_estimators=7000, n_jobs=None, num_parallel_tree=None,\n",
       "              predictor=None, random_state=None, ...)"
      ]
     },
     "execution_count": 36,
     "metadata": {},
     "output_type": "execute_result"
    }
   ],
   "source": [
    "xgbModel.fit(train_X, train_y)"
   ]
  },
  {
   "cell_type": "code",
   "execution_count": 42,
   "id": "45b6203b",
   "metadata": {},
   "outputs": [
    {
     "data": {
      "text/plain": [
       "0.8449379155945769"
      ]
     },
     "execution_count": 42,
     "metadata": {},
     "output_type": "execute_result"
    }
   ],
   "source": [
    "scores.mean()"
   ]
  },
  {
   "cell_type": "code",
   "execution_count": 38,
   "id": "3157b2cf",
   "metadata": {},
   "outputs": [],
   "source": [
    "train_pred = xgbModel.predict(train_X)"
   ]
  },
  {
   "cell_type": "code",
   "execution_count": 40,
   "id": "92ee7c2e",
   "metadata": {},
   "outputs": [],
   "source": [
    "test_pred = xgbModel.predict(test_X)"
   ]
  },
  {
   "cell_type": "code",
   "execution_count": 41,
   "id": "3ee6a53d",
   "metadata": {},
   "outputs": [
    {
     "data": {
      "text/plain": [
       "array([0, 0, 0, ..., 0, 0, 0])"
      ]
     },
     "execution_count": 41,
     "metadata": {},
     "output_type": "execute_result"
    }
   ],
   "source": [
    "test_pred"
   ]
  },
  {
   "cell_type": "code",
   "execution_count": 45,
   "id": "957f197a",
   "metadata": {},
   "outputs": [],
   "source": [
    "t1 = xgbModel.score(train_X, train_y)"
   ]
  },
  {
   "cell_type": "code",
   "execution_count": 46,
   "id": "541fe466",
   "metadata": {},
   "outputs": [
    {
     "data": {
      "text/plain": [
       "0.899963685709371"
      ]
     },
     "execution_count": 46,
     "metadata": {},
     "output_type": "execute_result"
    }
   ],
   "source": [
    "t1"
   ]
  },
  {
   "cell_type": "code",
   "execution_count": 47,
   "id": "e16513b8",
   "metadata": {},
   "outputs": [],
   "source": [
    "t3 = xgbModel.score(test_X, test_y)"
   ]
  },
  {
   "cell_type": "code",
   "execution_count": 48,
   "id": "75898bb3",
   "metadata": {},
   "outputs": [
    {
     "data": {
      "text/plain": [
       "0.8412200902071707"
      ]
     },
     "execution_count": 48,
     "metadata": {},
     "output_type": "execute_result"
    }
   ],
   "source": [
    "t3"
   ]
  },
  {
   "cell_type": "code",
   "execution_count": 49,
   "id": "4211a610",
   "metadata": {},
   "outputs": [],
   "source": [
    "t4 = f1_score(train_y, train_pred)"
   ]
  },
  {
   "cell_type": "code",
   "execution_count": 50,
   "id": "9ac55840",
   "metadata": {},
   "outputs": [
    {
     "data": {
      "text/plain": [
       "0.6322372119168072"
      ]
     },
     "execution_count": 50,
     "metadata": {},
     "output_type": "execute_result"
    }
   ],
   "source": [
    "t4"
   ]
  },
  {
   "cell_type": "code",
   "execution_count": 51,
   "id": "d2929229",
   "metadata": {},
   "outputs": [],
   "source": [
    "t5 = f1_score(test_y, test_pred)"
   ]
  },
  {
   "cell_type": "code",
   "execution_count": 52,
   "id": "1c3b772e",
   "metadata": {},
   "outputs": [
    {
     "data": {
      "text/plain": [
       "0.37155824508320723"
      ]
     },
     "execution_count": 52,
     "metadata": {},
     "output_type": "execute_result"
    }
   ],
   "source": [
    "t5"
   ]
  },
  {
   "cell_type": "code",
   "execution_count": 53,
   "id": "fdef3538",
   "metadata": {},
   "outputs": [],
   "source": [
    "t6 = precision_score(train_y, train_pred)"
   ]
  },
  {
   "cell_type": "code",
   "execution_count": 54,
   "id": "c98a6fa8",
   "metadata": {},
   "outputs": [
    {
     "data": {
      "text/plain": [
       "0.8866771777690186"
      ]
     },
     "execution_count": 54,
     "metadata": {},
     "output_type": "execute_result"
    }
   ],
   "source": [
    "t6"
   ]
  },
  {
   "cell_type": "code",
   "execution_count": 55,
   "id": "e857ebcb",
   "metadata": {},
   "outputs": [],
   "source": [
    "t7 = precision_score(test_y, test_pred)"
   ]
  },
  {
   "cell_type": "code",
   "execution_count": 56,
   "id": "2d4d4afd",
   "metadata": {},
   "outputs": [
    {
     "data": {
      "text/plain": [
       "0.6349534643226473"
      ]
     },
     "execution_count": 56,
     "metadata": {},
     "output_type": "execute_result"
    }
   ],
   "source": [
    "t7"
   ]
  },
  {
   "cell_type": "code",
   "execution_count": 58,
   "id": "fb183e87",
   "metadata": {},
   "outputs": [],
   "source": [
    "train_proba = xgbModel.predict_proba(train_X)[:, 1]"
   ]
  },
  {
   "cell_type": "code",
   "execution_count": 59,
   "id": "13ff55ea",
   "metadata": {},
   "outputs": [],
   "source": [
    "test_proba = xgbModel.predict_proba(test_X)[:, 1]"
   ]
  },
  {
   "cell_type": "code",
   "execution_count": 61,
   "id": "03601dec",
   "metadata": {},
   "outputs": [],
   "source": [
    "t8 = roc_auc_score(train_y, train_proba)"
   ]
  },
  {
   "cell_type": "code",
   "execution_count": 62,
   "id": "c5d93906",
   "metadata": {},
   "outputs": [
    {
     "data": {
      "text/plain": [
       "0.9402064545274392"
      ]
     },
     "execution_count": 62,
     "metadata": {},
     "output_type": "execute_result"
    }
   ],
   "source": [
    "t8"
   ]
  },
  {
   "cell_type": "code",
   "execution_count": 63,
   "id": "5324b1bc",
   "metadata": {},
   "outputs": [],
   "source": [
    "t9 = roc_auc_score(test_y, test_proba)"
   ]
  },
  {
   "cell_type": "code",
   "execution_count": 64,
   "id": "0f5087f5",
   "metadata": {},
   "outputs": [
    {
     "data": {
      "text/plain": [
       "0.7748770022885572"
      ]
     },
     "execution_count": 64,
     "metadata": {},
     "output_type": "execute_result"
    }
   ],
   "source": [
    "t9"
   ]
  },
  {
   "cell_type": "code",
   "execution_count": 65,
   "id": "0e1754af",
   "metadata": {},
   "outputs": [],
   "source": [
    "retList = [t1, scores.mean(), t3, t4, t5, t6, t7, t8, t9]"
   ]
  },
  {
   "cell_type": "code",
   "execution_count": 66,
   "id": "8bcc1d52",
   "metadata": {
    "scrolled": true
   },
   "outputs": [
    {
     "data": {
      "text/plain": [
       "[0.899963685709371,\n",
       " 0.8449379155945769,\n",
       " 0.8412200902071707,\n",
       " 0.6322372119168072,\n",
       " 0.37155824508320723,\n",
       " 0.8866771777690186,\n",
       " 0.6349534643226473,\n",
       " 0.9402064545274392,\n",
       " 0.7748770022885572]"
      ]
     },
     "execution_count": 66,
     "metadata": {},
     "output_type": "execute_result"
    }
   ],
   "source": [
    "retList"
   ]
  },
  {
   "cell_type": "code",
   "execution_count": 73,
   "id": "f8a02f6b",
   "metadata": {},
   "outputs": [],
   "source": [
    "names = [\"total accuracy\", \"cv accuracy\", \"test accuracy\", \"train F1\", \"test F1\", \"train precision\", \"test precision\", \"train roc_auc\", \"test roc_auc\"]"
   ]
  },
  {
   "cell_type": "code",
   "execution_count": 74,
   "id": "2196cd25",
   "metadata": {},
   "outputs": [],
   "source": [
    "retdf = pd.DataFrame(retList, index=names)"
   ]
  },
  {
   "cell_type": "code",
   "execution_count": 75,
   "id": "b0c6c167",
   "metadata": {},
   "outputs": [
    {
     "data": {
      "text/html": [
       "<div>\n",
       "<style scoped>\n",
       "    .dataframe tbody tr th:only-of-type {\n",
       "        vertical-align: middle;\n",
       "    }\n",
       "\n",
       "    .dataframe tbody tr th {\n",
       "        vertical-align: top;\n",
       "    }\n",
       "\n",
       "    .dataframe thead th {\n",
       "        text-align: right;\n",
       "    }\n",
       "</style>\n",
       "<table border=\"1\" class=\"dataframe\">\n",
       "  <thead>\n",
       "    <tr style=\"text-align: right;\">\n",
       "      <th></th>\n",
       "      <th>0</th>\n",
       "    </tr>\n",
       "  </thead>\n",
       "  <tbody>\n",
       "    <tr>\n",
       "      <th>total accuracy</th>\n",
       "      <td>0.899964</td>\n",
       "    </tr>\n",
       "    <tr>\n",
       "      <th>cv accuracy</th>\n",
       "      <td>0.844938</td>\n",
       "    </tr>\n",
       "    <tr>\n",
       "      <th>test accuracy</th>\n",
       "      <td>0.841220</td>\n",
       "    </tr>\n",
       "    <tr>\n",
       "      <th>train F1</th>\n",
       "      <td>0.632237</td>\n",
       "    </tr>\n",
       "    <tr>\n",
       "      <th>test F1</th>\n",
       "      <td>0.371558</td>\n",
       "    </tr>\n",
       "    <tr>\n",
       "      <th>train precision</th>\n",
       "      <td>0.886677</td>\n",
       "    </tr>\n",
       "    <tr>\n",
       "      <th>test precision</th>\n",
       "      <td>0.634953</td>\n",
       "    </tr>\n",
       "    <tr>\n",
       "      <th>train roc_auc</th>\n",
       "      <td>0.940206</td>\n",
       "    </tr>\n",
       "    <tr>\n",
       "      <th>test roc_auc</th>\n",
       "      <td>0.774877</td>\n",
       "    </tr>\n",
       "  </tbody>\n",
       "</table>\n",
       "</div>"
      ],
      "text/plain": [
       "                        0\n",
       "total accuracy   0.899964\n",
       "cv accuracy      0.844938\n",
       "test accuracy    0.841220\n",
       "train F1         0.632237\n",
       "test F1          0.371558\n",
       "train precision  0.886677\n",
       "test precision   0.634953\n",
       "train roc_auc    0.940206\n",
       "test roc_auc     0.774877"
      ]
     },
     "execution_count": 75,
     "metadata": {},
     "output_type": "execute_result"
    }
   ],
   "source": [
    "retdf"
   ]
  },
  {
   "cell_type": "code",
   "execution_count": 76,
   "id": "53795a02",
   "metadata": {},
   "outputs": [],
   "source": [
    "fcolumns=['性別', '教育', '神智', '年齡', '每月採尿平均', '實際保管長度', '違規次數', '獎勵次數', '犯次',\n",
    "       '一年內次數', '二年內次數', '三年內次數', '四年內次數', '五年內次數', '首犯年齡']"
   ]
  },
  {
   "cell_type": "code",
   "execution_count": 77,
   "id": "7b64c5be",
   "metadata": {},
   "outputs": [],
   "source": [
    "factImportance = pd.DataFrame({'feature':fcolumns,\n",
    "                              'importance': xgbModel.feature_importances_}).sort_values('importance', ascending=False)"
   ]
  },
  {
   "cell_type": "code",
   "execution_count": 78,
   "id": "65088242",
   "metadata": {},
   "outputs": [
    {
     "data": {
      "text/html": [
       "<div>\n",
       "<style scoped>\n",
       "    .dataframe tbody tr th:only-of-type {\n",
       "        vertical-align: middle;\n",
       "    }\n",
       "\n",
       "    .dataframe tbody tr th {\n",
       "        vertical-align: top;\n",
       "    }\n",
       "\n",
       "    .dataframe thead th {\n",
       "        text-align: right;\n",
       "    }\n",
       "</style>\n",
       "<table border=\"1\" class=\"dataframe\">\n",
       "  <thead>\n",
       "    <tr style=\"text-align: right;\">\n",
       "      <th></th>\n",
       "      <th>feature</th>\n",
       "      <th>importance</th>\n",
       "    </tr>\n",
       "  </thead>\n",
       "  <tbody>\n",
       "    <tr>\n",
       "      <th>8</th>\n",
       "      <td>犯次</td>\n",
       "      <td>0.138105</td>\n",
       "    </tr>\n",
       "    <tr>\n",
       "      <th>5</th>\n",
       "      <td>實際保管長度</td>\n",
       "      <td>0.102236</td>\n",
       "    </tr>\n",
       "    <tr>\n",
       "      <th>4</th>\n",
       "      <td>每月採尿平均</td>\n",
       "      <td>0.074484</td>\n",
       "    </tr>\n",
       "    <tr>\n",
       "      <th>9</th>\n",
       "      <td>一年內次數</td>\n",
       "      <td>0.072342</td>\n",
       "    </tr>\n",
       "    <tr>\n",
       "      <th>2</th>\n",
       "      <td>神智</td>\n",
       "      <td>0.062089</td>\n",
       "    </tr>\n",
       "    <tr>\n",
       "      <th>10</th>\n",
       "      <td>二年內次數</td>\n",
       "      <td>0.060450</td>\n",
       "    </tr>\n",
       "    <tr>\n",
       "      <th>12</th>\n",
       "      <td>四年內次數</td>\n",
       "      <td>0.060215</td>\n",
       "    </tr>\n",
       "    <tr>\n",
       "      <th>11</th>\n",
       "      <td>三年內次數</td>\n",
       "      <td>0.060192</td>\n",
       "    </tr>\n",
       "    <tr>\n",
       "      <th>13</th>\n",
       "      <td>五年內次數</td>\n",
       "      <td>0.058911</td>\n",
       "    </tr>\n",
       "    <tr>\n",
       "      <th>7</th>\n",
       "      <td>獎勵次數</td>\n",
       "      <td>0.058015</td>\n",
       "    </tr>\n",
       "    <tr>\n",
       "      <th>14</th>\n",
       "      <td>首犯年齡</td>\n",
       "      <td>0.056635</td>\n",
       "    </tr>\n",
       "    <tr>\n",
       "      <th>3</th>\n",
       "      <td>年齡</td>\n",
       "      <td>0.052129</td>\n",
       "    </tr>\n",
       "    <tr>\n",
       "      <th>6</th>\n",
       "      <td>違規次數</td>\n",
       "      <td>0.051809</td>\n",
       "    </tr>\n",
       "    <tr>\n",
       "      <th>0</th>\n",
       "      <td>性別</td>\n",
       "      <td>0.046383</td>\n",
       "    </tr>\n",
       "    <tr>\n",
       "      <th>1</th>\n",
       "      <td>教育</td>\n",
       "      <td>0.046005</td>\n",
       "    </tr>\n",
       "  </tbody>\n",
       "</table>\n",
       "</div>"
      ],
      "text/plain": [
       "   feature  importance\n",
       "8       犯次    0.138105\n",
       "5   實際保管長度    0.102236\n",
       "4   每月採尿平均    0.074484\n",
       "9    一年內次數    0.072342\n",
       "2       神智    0.062089\n",
       "10   二年內次數    0.060450\n",
       "12   四年內次數    0.060215\n",
       "11   三年內次數    0.060192\n",
       "13   五年內次數    0.058911\n",
       "7     獎勵次數    0.058015\n",
       "14    首犯年齡    0.056635\n",
       "3       年齡    0.052129\n",
       "6     違規次數    0.051809\n",
       "0       性別    0.046383\n",
       "1       教育    0.046005"
      ]
     },
     "execution_count": 78,
     "metadata": {},
     "output_type": "execute_result"
    }
   ],
   "source": [
    "factImportance"
   ]
  },
  {
   "cell_type": "code",
   "execution_count": 79,
   "id": "5b08224e",
   "metadata": {},
   "outputs": [],
   "source": [
    "from sklearn.metrics import confusion_matrix\n",
    "cm = confusion_matrix(test_y, test_pred)"
   ]
  },
  {
   "cell_type": "code",
   "execution_count": 80,
   "id": "80cd40ee",
   "metadata": {},
   "outputs": [
    {
     "data": {
      "text/plain": [
       "array([[10390,   353],\n",
       "       [ 1724,   614]], dtype=int64)"
      ]
     },
     "execution_count": 80,
     "metadata": {},
     "output_type": "execute_result"
    }
   ],
   "source": [
    "cm"
   ]
  },
  {
   "cell_type": "code",
   "execution_count": null,
   "id": "9b9e3bc6",
   "metadata": {},
   "outputs": [],
   "source": []
  }
 ],
 "metadata": {
  "kernelspec": {
   "display_name": "Python 3 (ipykernel)",
   "language": "python",
   "name": "python3"
  },
  "language_info": {
   "codemirror_mode": {
    "name": "ipython",
    "version": 3
   },
   "file_extension": ".py",
   "mimetype": "text/x-python",
   "name": "python",
   "nbconvert_exporter": "python",
   "pygments_lexer": "ipython3",
   "version": "3.9.13"
  }
 },
 "nbformat": 4,
 "nbformat_minor": 5
}
