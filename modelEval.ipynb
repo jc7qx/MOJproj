{
 "cells": [
  {
   "cell_type": "code",
   "execution_count": 1,
   "id": "b592cf5a",
   "metadata": {},
   "outputs": [],
   "source": [
    "import numpy as np\n",
    "from numpy import mean\n",
    "import pandas as pd\n",
    "import matplotlib.pyplot as plt\n",
    "from sklearn.model_selection import train_test_split\n",
    "from xgboost import XGBClassifier, plot_importance, plot_tree\n",
    "from sklearn.ensemble import RandomForestClassifier\n",
    "from sklearn.metrics import confusion_matrix, roc_curve, auc, roc_auc_score, classification_report\n",
    "from sklearn.metrics import accuracy_score, precision_score, recall_score, f1_score\n",
    "from sklearn.model_selection import cross_val_score\n",
    "from imblearn.over_sampling import SMOTE\n",
    "from imblearn.under_sampling import RandomUnderSampler\n",
    "from sklearn.pipeline import Pipeline\n",
    "from imblearn.pipeline import Pipeline\n",
    "from sklearn.model_selection import RepeatedStratifiedKFold\n",
    "from sklearn.model_selection import StratifiedKFold"
   ]
  },
  {
   "cell_type": "code",
   "execution_count": 2,
   "id": "99d78120",
   "metadata": {},
   "outputs": [],
   "source": [
    "df = pd.read_csv(\"../data/trainDRUG.csv\")"
   ]
  },
  {
   "cell_type": "code",
   "execution_count": 3,
   "id": "0adf314a",
   "metadata": {},
   "outputs": [],
   "source": [
    "X = df.drop(['再犯註記'], axis=1).values\n",
    "y = df['再犯註記'].values\n"
   ]
  },
  {
   "cell_type": "code",
   "execution_count": 71,
   "id": "369624cb",
   "metadata": {},
   "outputs": [
    {
     "name": "stdout",
     "output_type": "stream",
     "text": [
      "Model accuracy mean= 0.8286902200598936 stddev= 0.0023666393598995904\n",
      "Model roc_auc mean= 0.7627036150016931 stddev= 0.003344826290022118\n"
     ]
    }
   ],
   "source": [
    "steps = [('over', SMOTE()), ('model', RandomForestClassifier(n_estimators=1000))]\n",
    "pipeline = Pipeline(steps=steps)\n",
    "for scoring in [\"accuracy\",\"roc_auc\"]:\n",
    "    cv = RepeatedStratifiedKFold(n_splits=5, n_repeats=3, random_state=33)\n",
    "    scores = cross_val_score(pipeline, X, y, scoring=scoring, cv=cv, n_jobs=-1)\n",
    "    print(\"Model\", scoring, \"mean=\", np.mean(scores), \"stddev=\", np.std(scores))\n"
   ]
  },
  {
   "cell_type": "code",
   "execution_count": 5,
   "id": "df93ec48",
   "metadata": {},
   "outputs": [
    {
     "name": "stdout",
     "output_type": "stream",
     "text": [
      "a= 0.5 precision 0.5480003030859643 recall 0.30326545252819437 \n",
      "a= 0.75 precision 0.5299737747978971 recall 0.32089486922480476 \n",
      "a= 1.0 precision 0.5178663962369797 recall 0.33136233144845584 \n"
     ]
    }
   ],
   "source": [
    "for i in [0.5, 0.75, 1.0]:\n",
    "    print(\"a=\", i, end=\" \")\n",
    "    steps = [('over', SMOTE(sampling_strategy=i)), ('model', RandomForestClassifier(n_estimators=1000))]\n",
    "    pipeline = Pipeline(steps=steps)\n",
    "    for scoring in [\"precision\",\"recall\"]: #\"accuracy\",\"f1\", \"roc_auc\"]:\n",
    "        cv = RepeatedStratifiedKFold(n_splits=5, n_repeats=3, random_state=33)\n",
    "        scores = cross_val_score(pipeline, X, y, scoring=scoring, cv=cv, n_jobs=-1)\n",
    "        print(scoring, np.mean(scores), end=\" \")\n",
    "    print()\n",
    "        "
   ]
  },
  {
   "cell_type": "code",
   "execution_count": 6,
   "id": "7be37b53",
   "metadata": {},
   "outputs": [
    {
     "name": "stdout",
     "output_type": "stream",
     "text": [
      "precision = 0.5926649772697749 recall = 0.2575391695191987 \n"
     ]
    }
   ],
   "source": [
    "model = RandomForestClassifier(n_estimators=1000)\n",
    "for score in [\"precision\",\"recall\"]: #\"accuracy\",\"f1\", \"roc_auc\"]:\n",
    "    cv = RepeatedStratifiedKFold(n_splits=5, n_repeats=3, random_state=33)\n",
    "    scores = cross_val_score(model, X, y, scoring=score, cv=cv, n_jobs=-1)\n",
    "    print(score, \"=\", np.mean(scores), end=\" \")\n",
    "print()"
   ]
  },
  {
   "cell_type": "code",
   "execution_count": 7,
   "id": "dd99d79b",
   "metadata": {},
   "outputs": [
    {
     "name": "stdout",
     "output_type": "stream",
     "text": [
      "precision = 0.5640592427269188 recall = 0.2621495420188992 \n"
     ]
    }
   ],
   "source": [
    "model = RandomForestClassifier(n_estimators=1000, class_weight=\"balanced\")\n",
    "for score in [\"precision\",\"recall\"]: #\"accuracy\",\"f1\", \"roc_auc\"]:\n",
    "    cv = RepeatedStratifiedKFold(n_splits=5, n_repeats=3, random_state=33)\n",
    "    scores = cross_val_score(model, X, y, scoring=score, cv=cv, n_jobs=-1)\n",
    "    print(score, \"=\", np.mean(scores), end=\" \")\n",
    "print()"
   ]
  },
  {
   "cell_type": "code",
   "execution_count": 31,
   "id": "f178cc3b",
   "metadata": {},
   "outputs": [
    {
     "name": "stdout",
     "output_type": "stream",
     "text": [
      "precision = 0.5641234331755773 recall = 0.262874394033953 accuracy = 0.8346482638832877 f1 = 0.35889564030858895 roc_auc = 0.7644613777002062 \n"
     ]
    }
   ],
   "source": [
    "X = df.drop(['再犯註記'], axis=1)\n",
    "y = df['再犯註記'].values\n",
    "model = RandomForestClassifier(n_estimators=1000, class_weight=\"balanced_subsample\")\n",
    "for score in [\"precision\",\"recall\",\"accuracy\",\"f1\", \"roc_auc\"]:\n",
    "    cv = RepeatedStratifiedKFold(n_splits=5, n_repeats=3, random_state=33)\n",
    "    scores = cross_val_score(model, X, y, scoring=score, cv=cv, n_jobs=-1)\n",
    "    print(score, \"=\", np.mean(scores), end=\" \")\n",
    "print()"
   ]
  },
  {
   "cell_type": "code",
   "execution_count": 79,
   "id": "c73c2719",
   "metadata": {},
   "outputs": [
    {
     "name": "stdout",
     "output_type": "stream",
     "text": [
      ">Train: 0=43124, 1=9197, Test: 0=10782, 1=2299\n",
      ">Train: 0=43125, 1=9196, Test: 0=10781, 1=2300\n",
      ">Train: 0=43125, 1=9197, Test: 0=10781, 1=2299\n",
      ">Train: 0=43125, 1=9197, Test: 0=10781, 1=2299\n",
      ">Train: 0=43125, 1=9197, Test: 0=10781, 1=2299\n"
     ]
    }
   ],
   "source": [
    "X = df.drop(['再犯註記'], axis=1).values\n",
    "y = df['再犯註記'].values\n",
    "kfold = StratifiedKFold(n_splits=5, shuffle=True, random_state=1)\n",
    "for train_ix, test_ix in kfold.split(X, y):\n",
    "    # select rows\n",
    "    train_X, test_X = X[train_ix], X[test_ix]\n",
    "    train_y, test_y = y[train_ix], y[test_ix]\n",
    "    # summarize train and test composition\n",
    "    train_0, train_1 = len(train_y[train_y==0]), len(train_y[train_y==1])\n",
    "    test_0, test_1 = len(test_y[test_y==0]), len(test_y[test_y==1])\n",
    "    print('>Train: 0=%d, 1=%d, Test: 0=%d, 1=%d' % (train_0, train_1, test_0, test_1))"
   ]
  },
  {
   "cell_type": "code",
   "execution_count": 10,
   "id": "5e284ac7",
   "metadata": {},
   "outputs": [
    {
     "data": {
      "text/plain": [
       "array([[17113,   676],\n",
       "       [ 2845,   949]], dtype=int64)"
      ]
     },
     "execution_count": 10,
     "metadata": {},
     "output_type": "execute_result"
    }
   ],
   "source": [
    "X_train, X_test, y_train, y_test = train_test_split(X, y, test_size=0.33, random_state=42, stratify=y)\n",
    "model = RandomForestClassifier(n_estimators=1000)\n",
    "m = model.fit(X_train, y_train)\n",
    "y_pred = m.predict(X_test)\n",
    "confusion_matrix(y_test, y_pred)"
   ]
  },
  {
   "cell_type": "code",
   "execution_count": 20,
   "id": "16d77826",
   "metadata": {},
   "outputs": [
    {
     "name": "stdout",
     "output_type": "stream",
     "text": [
      "Counter({0: 17789, 1: 3794})\n"
     ]
    }
   ],
   "source": [
    "from collections import Counter\n",
    "print(Counter(y_test))"
   ]
  },
  {
   "cell_type": "code",
   "execution_count": 25,
   "id": "c25a2562",
   "metadata": {},
   "outputs": [],
   "source": [
    "\n",
    "from imblearn.pipeline import Pipeline\n",
    "import matplotlib.pyplot as plt\n",
    "from sklearn.model_selection import cross_validate\n",
    "from sklearn.model_selection import RepeatedStratifiedKFold\n",
    "from sklearn.ensemble import RandomForestClassifier\n",
    "from imblearn.combine import SMOTEENN\n",
    "from imblearn.under_sampling import EditedNearestNeighbours"
   ]
  },
  {
   "cell_type": "code",
   "execution_count": 26,
   "id": "9ef6b5af",
   "metadata": {},
   "outputs": [],
   "source": [
    "df = pd.read_csv(\"../data/trainDRUG.csv\", encoding='utf8')\n",
    "X = df.drop(['再犯註記'], axis=1)\n",
    "y = df['再犯註記'].values"
   ]
  },
  {
   "cell_type": "code",
   "execution_count": 29,
   "id": "dbc76537",
   "metadata": {
    "scrolled": true
   },
   "outputs": [
    {
     "name": "stdout",
     "output_type": "stream",
     "text": [
      "Mean Accuracy: 0.6976\n",
      "Mean Precision: 0.6160\n",
      "Mean Recall: 0.6844\n",
      "Mean f1: 0.4357\n",
      "Mean roc: 0.7536\n"
     ]
    }
   ],
   "source": [
    "model=RandomForestClassifier(n_estimators=1000)\n",
    "resample=SMOTEENN(enn=EditedNearestNeighbours(sampling_strategy='all'))\n",
    "pipeline=Pipeline(steps=[('r', resample), ('m', model)])\n",
    "cv=RepeatedStratifiedKFold(n_splits=10, n_repeats=3, random_state=1)\n",
    "scoring=['accuracy','precision_macro','recall_macro', 'f1', 'roc_auc']\n",
    "scores = cross_validate(pipeline, X, y, scoring=scoring, cv=cv, n_jobs=-1)\n",
    "print('Mean Accuracy: %.4f' % np.mean(scores['test_accuracy']))\n",
    "print('Mean Precision: %.4f' % np.mean(scores['test_precision_macro']))\n",
    "print('Mean Recall: %.4f' % np.mean(scores['test_recall_macro']))\n",
    "print('Mean f1: %.4f' % np.mean(scores['test_f1']))\n",
    "print('Mean roc: %.4f' % np.mean(scores['test_roc_auc']))"
   ]
  },
  {
   "cell_type": "code",
   "execution_count": 30,
   "id": "3d927952",
   "metadata": {},
   "outputs": [
    {
     "name": "stdout",
     "output_type": "stream",
     "text": [
      "0.6484011073515841\n"
     ]
    }
   ],
   "source": []
  },
  {
   "cell_type": "code",
   "execution_count": 7,
   "id": "8baf8f62",
   "metadata": {},
   "outputs": [
    {
     "data": {
      "text/plain": [
       "(65402, 15)"
      ]
     },
     "execution_count": 7,
     "metadata": {},
     "output_type": "execute_result"
    }
   ],
   "source": [
    "#X.shape\n",
    "#y.shape\n",
    "#y.value_counts()"
   ]
  },
  {
   "cell_type": "code",
   "execution_count": 17,
   "id": "557a10c8",
   "metadata": {
    "scrolled": true
   },
   "outputs": [
    {
     "name": "stdout",
     "output_type": "stream",
     "text": [
      "mean accuracy of cv for baseline RF is 0.8351\n",
      "mean precision of cv for baseline RF is 0.5666\n",
      "mean recall of cv for baseline RF is 0.2636\n",
      "mean f1 of cv for baseline RF is 0.3589\n",
      "mean roc_auc of cv for baseline RF is 0.7645\n"
     ]
    }
   ],
   "source": [
    "measures = ['accuracy', 'precision', 'recall', 'f1', 'roc_auc']\n",
    "#model = RandomForestClassifier(n_estimators=1000)\n",
    "model = RandomForestClassifier(class_weight=\"balanced\", n_estimators=1000)\n",
    "def evModel(model, X, y):\n",
    "    cv = RepeatedStratifiedKFold(n_splits=5, n_repeats=3, random_state=1)\n",
    "    for m in measures:\n",
    "        scores = cross_val_score(model, X, y, scoring=m, cv=cv, n_jobs=-1)\n",
    "        print(\"mean %s of cv for RF is %.4f\" % (m, np.mean(scores)))\n",
    "evModel(model)"
   ]
  },
  {
   "cell_type": "code",
   "execution_count": 34,
   "id": "867b7700",
   "metadata": {},
   "outputs": [],
   "source": [
    "measures = ['accuracy', 'precision', 'f1', 'roc_auc']\n",
    "score_list = list()\n",
    "def evModel(model, X, y):\n",
    "    cv = RepeatedStratifiedKFold(n_splits=5, n_repeats=3, random_state=1)\n",
    "    for m in measures:\n",
    "        scores = cross_val_score(model, X, y, scoring=m, cv=cv, n_jobs=-1)\n",
    "        score_list.append(np.mean(scores))\n",
    "    print(score_list)"
   ]
  },
  {
   "cell_type": "code",
   "execution_count": 35,
   "id": "485ca153",
   "metadata": {
    "scrolled": true
   },
   "outputs": [
    {
     "name": "stdout",
     "output_type": "stream",
     "text": [
      "a=0.3 [0.8243408647426571, 0.6983263978008315, 0.5251406041135837, 0.8244975346051232]\n",
      "a=0.4 [0.8243408647426571, 0.6983263978008315, 0.5251406041135837, 0.8244975346051232, 0.8214960561948891, 0.7536142842305554, 0.6412898694397433, 0.859945787855499]\n",
      "a=0.5 [0.8243408647426571, 0.6983263978008315, 0.5251406041135837, 0.8244975346051232, 0.8214960561948891, 0.7536142842305554, 0.6412898694397433, 0.859945787855499, 0.823214929948909, 0.780720789040772, 0.7112714379212814, 0.8790805138846094]\n",
      "a=0.6 [0.8243408647426571, 0.6983263978008315, 0.5251406041135837, 0.8244975346051232, 0.8214960561948891, 0.7536142842305554, 0.6412898694397433, 0.859945787855499, 0.823214929948909, 0.780720789040772, 0.7112714379212814, 0.8790805138846094, 0.828600937840547, 0.8026759683061326, 0.7590769403902794, 0.8930198229849903]\n",
      "a=0.7 [0.8243408647426571, 0.6983263978008315, 0.5251406041135837, 0.8244975346051232, 0.8214960561948891, 0.7536142842305554, 0.6412898694397433, 0.859945787855499, 0.823214929948909, 0.780720789040772, 0.7112714379212814, 0.8790805138846094, 0.828600937840547, 0.8026759683061326, 0.7590769403902794, 0.8930198229849903, 0.8350356467335953, 0.8150487053626986, 0.7940633035417103, 0.9036652460360864]\n",
      "a=0.8 [0.8243408647426571, 0.6983263978008315, 0.5251406041135837, 0.8244975346051232, 0.8214960561948891, 0.7536142842305554, 0.6412898694397433, 0.859945787855499, 0.823214929948909, 0.780720789040772, 0.7112714379212814, 0.8790805138846094, 0.828600937840547, 0.8026759683061326, 0.7590769403902794, 0.8930198229849903, 0.8350356467335953, 0.8150487053626986, 0.7940633035417103, 0.9036652460360864, 0.8416847023257413, 0.8287445880321693, 0.8195087902155238, 0.9120554604089453]\n",
      "a=0.9 [0.8243408647426571, 0.6983263978008315, 0.5251406041135837, 0.8244975346051232, 0.8214960561948891, 0.7536142842305554, 0.6412898694397433, 0.859945787855499, 0.823214929948909, 0.780720789040772, 0.7112714379212814, 0.8790805138846094, 0.828600937840547, 0.8026759683061326, 0.7590769403902794, 0.8930198229849903, 0.8350356467335953, 0.8150487053626986, 0.7940633035417103, 0.9036652460360864, 0.8416847023257413, 0.8287445880321693, 0.8195087902155238, 0.9120554604089453, 0.8458421528916421, 0.836977548070367, 0.8377346815154606, 0.9169043374603262]\n"
     ]
    }
   ],
   "source": [
    "model = RandomForestClassifier(n_estimators=1000)\n",
    "for a in np.arange(0.3, 1.0, 0.1):\n",
    "    oversample = SMOTE(sampling_strategy=a)\n",
    "    xo, yo = oversample.fit_resample(X, y)\n",
    "    print(\"a=%.1f\" % a, end=\" \")\n",
    "    evModel(model, xo, yo)\n",
    "    \n"
   ]
  },
  {
   "cell_type": "code",
   "execution_count": null,
   "id": "5e601f04",
   "metadata": {},
   "outputs": [],
   "source": []
  }
 ],
 "metadata": {
  "kernelspec": {
   "display_name": "Python 3 (ipykernel)",
   "language": "python",
   "name": "python3"
  },
  "language_info": {
   "codemirror_mode": {
    "name": "ipython",
    "version": 3
   },
   "file_extension": ".py",
   "mimetype": "text/x-python",
   "name": "python",
   "nbconvert_exporter": "python",
   "pygments_lexer": "ipython3",
   "version": "3.9.13"
  }
 },
 "nbformat": 4,
 "nbformat_minor": 5
}
