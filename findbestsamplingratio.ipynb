{
 "cells": [
  {
   "cell_type": "code",
   "execution_count": 77,
   "id": "995c4095",
   "metadata": {},
   "outputs": [],
   "source": [
    "import pandas as pd\n",
    "import numpy as np\n",
    "from imblearn.pipeline import Pipeline\n",
    "from imblearn.over_sampling import SMOTE\n",
    "from imblearn.under_sampling import RandomUnderSampler\n",
    "from sklearn.preprocessing import RobustScaler\n",
    "from sklearn.model_selection import train_test_split, GridSearchCV\n",
    "from sklearn.metrics import classification_report , roc_auc_score, roc_curve, confusion_matrix, ConfusionMatrixDisplay, accuracy_score\n",
    "from sklearn.ensemble import RandomForestClassifier\n",
    "from sklearn.model_selection import cross_val_score\n",
    "from sklearn.model_selection import RepeatedStratifiedKFold"
   ]
  },
  {
   "cell_type": "code",
   "execution_count": 2,
   "id": "bd0bd6ad",
   "metadata": {},
   "outputs": [],
   "source": [
    "df = pd.read_csv(\"../data/trainDRUG.csv\")"
   ]
  },
  {
   "cell_type": "code",
   "execution_count": 3,
   "id": "20318fcc",
   "metadata": {},
   "outputs": [
    {
     "data": {
      "text/html": [
       "<div>\n",
       "<style scoped>\n",
       "    .dataframe tbody tr th:only-of-type {\n",
       "        vertical-align: middle;\n",
       "    }\n",
       "\n",
       "    .dataframe tbody tr th {\n",
       "        vertical-align: top;\n",
       "    }\n",
       "\n",
       "    .dataframe thead th {\n",
       "        text-align: right;\n",
       "    }\n",
       "</style>\n",
       "<table border=\"1\" class=\"dataframe\">\n",
       "  <thead>\n",
       "    <tr style=\"text-align: right;\">\n",
       "      <th></th>\n",
       "      <th>性別</th>\n",
       "      <th>教育</th>\n",
       "      <th>神智</th>\n",
       "      <th>年齡</th>\n",
       "      <th>每月採尿平均</th>\n",
       "      <th>實際保管長度</th>\n",
       "      <th>違規次數</th>\n",
       "      <th>獎勵次數</th>\n",
       "      <th>犯次</th>\n",
       "      <th>一年內次數</th>\n",
       "      <th>二年內次數</th>\n",
       "      <th>三年內次數</th>\n",
       "      <th>四年內次數</th>\n",
       "      <th>五年內次數</th>\n",
       "      <th>首犯年齡</th>\n",
       "      <th>再犯註記</th>\n",
       "    </tr>\n",
       "  </thead>\n",
       "  <tbody>\n",
       "    <tr>\n",
       "      <th>0</th>\n",
       "      <td>1</td>\n",
       "      <td>4</td>\n",
       "      <td>3</td>\n",
       "      <td>3</td>\n",
       "      <td>2.333</td>\n",
       "      <td>1</td>\n",
       "      <td>0</td>\n",
       "      <td>0</td>\n",
       "      <td>5</td>\n",
       "      <td>0</td>\n",
       "      <td>0</td>\n",
       "      <td>0</td>\n",
       "      <td>3</td>\n",
       "      <td>4</td>\n",
       "      <td>0</td>\n",
       "      <td>0</td>\n",
       "    </tr>\n",
       "    <tr>\n",
       "      <th>1</th>\n",
       "      <td>1</td>\n",
       "      <td>3</td>\n",
       "      <td>2</td>\n",
       "      <td>3</td>\n",
       "      <td>0.000</td>\n",
       "      <td>1</td>\n",
       "      <td>0</td>\n",
       "      <td>0</td>\n",
       "      <td>2</td>\n",
       "      <td>0</td>\n",
       "      <td>0</td>\n",
       "      <td>0</td>\n",
       "      <td>1</td>\n",
       "      <td>0</td>\n",
       "      <td>0</td>\n",
       "      <td>0</td>\n",
       "    </tr>\n",
       "    <tr>\n",
       "      <th>2</th>\n",
       "      <td>1</td>\n",
       "      <td>3</td>\n",
       "      <td>2</td>\n",
       "      <td>3</td>\n",
       "      <td>1.000</td>\n",
       "      <td>3</td>\n",
       "      <td>0</td>\n",
       "      <td>2</td>\n",
       "      <td>4</td>\n",
       "      <td>0</td>\n",
       "      <td>0</td>\n",
       "      <td>0</td>\n",
       "      <td>0</td>\n",
       "      <td>0</td>\n",
       "      <td>1</td>\n",
       "      <td>0</td>\n",
       "    </tr>\n",
       "    <tr>\n",
       "      <th>3</th>\n",
       "      <td>1</td>\n",
       "      <td>3</td>\n",
       "      <td>0</td>\n",
       "      <td>4</td>\n",
       "      <td>1.714</td>\n",
       "      <td>1</td>\n",
       "      <td>0</td>\n",
       "      <td>0</td>\n",
       "      <td>5</td>\n",
       "      <td>0</td>\n",
       "      <td>0</td>\n",
       "      <td>0</td>\n",
       "      <td>0</td>\n",
       "      <td>0</td>\n",
       "      <td>1</td>\n",
       "      <td>1</td>\n",
       "    </tr>\n",
       "    <tr>\n",
       "      <th>4</th>\n",
       "      <td>1</td>\n",
       "      <td>3</td>\n",
       "      <td>0</td>\n",
       "      <td>3</td>\n",
       "      <td>0.871</td>\n",
       "      <td>4</td>\n",
       "      <td>0</td>\n",
       "      <td>1</td>\n",
       "      <td>2</td>\n",
       "      <td>0</td>\n",
       "      <td>0</td>\n",
       "      <td>0</td>\n",
       "      <td>0</td>\n",
       "      <td>0</td>\n",
       "      <td>0</td>\n",
       "      <td>0</td>\n",
       "    </tr>\n",
       "  </tbody>\n",
       "</table>\n",
       "</div>"
      ],
      "text/plain": [
       "   性別  教育  神智  年齡  每月採尿平均  實際保管長度  違規次數  獎勵次數  犯次  一年內次數  二年內次數  三年內次數  四年內次數  \\\n",
       "0   1   4   3   3   2.333       1     0     0   5      0      0      0      3   \n",
       "1   1   3   2   3   0.000       1     0     0   2      0      0      0      1   \n",
       "2   1   3   2   3   1.000       3     0     2   4      0      0      0      0   \n",
       "3   1   3   0   4   1.714       1     0     0   5      0      0      0      0   \n",
       "4   1   3   0   3   0.871       4     0     1   2      0      0      0      0   \n",
       "\n",
       "   五年內次數  首犯年齡  再犯註記  \n",
       "0      4     0     0  \n",
       "1      0     0     0  \n",
       "2      0     1     0  \n",
       "3      0     1     1  \n",
       "4      0     0     0  "
      ]
     },
     "execution_count": 3,
     "metadata": {},
     "output_type": "execute_result"
    }
   ],
   "source": [
    "df.head()"
   ]
  },
  {
   "cell_type": "code",
   "execution_count": 4,
   "id": "83a7ade5",
   "metadata": {},
   "outputs": [
    {
     "data": {
      "text/plain": [
       "0    53906\n",
       "1    11496\n",
       "Name: 再犯註記, dtype: int64"
      ]
     },
     "execution_count": 4,
     "metadata": {},
     "output_type": "execute_result"
    }
   ],
   "source": [
    "df['再犯註記'].value_counts()"
   ]
  },
  {
   "cell_type": "code",
   "execution_count": 5,
   "id": "67a0dc06",
   "metadata": {},
   "outputs": [],
   "source": [
    "X = df.drop(['再犯註記'], axis=1)\n",
    "y = df['再犯註記']"
   ]
  },
  {
   "cell_type": "code",
   "execution_count": 6,
   "id": "8adab50c",
   "metadata": {},
   "outputs": [],
   "source": [
    "X_train, X_test, y_train, y_test = train_test_split(X, y, random_state = 42, test_size=0.2, stratify=y)"
   ]
  },
  {
   "cell_type": "code",
   "execution_count": 7,
   "id": "c8fe1cd7",
   "metadata": {},
   "outputs": [
    {
     "data": {
      "text/plain": [
       "0    43124\n",
       "1     9197\n",
       "Name: 再犯註記, dtype: int64"
      ]
     },
     "execution_count": 7,
     "metadata": {},
     "output_type": "execute_result"
    }
   ],
   "source": [
    "y_train.value_counts()"
   ]
  },
  {
   "cell_type": "code",
   "execution_count": 76,
   "id": "a6394d68",
   "metadata": {},
   "outputs": [
    {
     "data": {
      "text/plain": [
       "0    10782\n",
       "1     2299\n",
       "Name: 再犯註記, dtype: int64"
      ]
     },
     "execution_count": 76,
     "metadata": {},
     "output_type": "execute_result"
    }
   ],
   "source": [
    "y_test.value_counts()"
   ]
  },
  {
   "cell_type": "code",
   "execution_count": 8,
   "id": "d17d4555",
   "metadata": {},
   "outputs": [],
   "source": [
    "u = RandomUnderSampler(random_state=42, sampling_strategy={0:30000})\n",
    "o = SMOTE()\n",
    "m = RandomForestClassifier(random_state=42)"
   ]
  },
  {
   "cell_type": "code",
   "execution_count": 9,
   "id": "2d08e0c6",
   "metadata": {},
   "outputs": [],
   "source": [
    "pipeline = Pipeline([\n",
    "    ('undersampler', u),\n",
    "    ('oversampler', o),\n",
    "    ('model', m)\n",
    "])"
   ]
  },
  {
   "cell_type": "code",
   "execution_count": 10,
   "id": "59484df9",
   "metadata": {},
   "outputs": [
    {
     "data": {
      "text/plain": [
       "Pipeline(steps=[('undersampler',\n",
       "                 RandomUnderSampler(random_state=42,\n",
       "                                    sampling_strategy={0: 30000})),\n",
       "                ('oversampler', SMOTE()),\n",
       "                ('model', RandomForestClassifier(random_state=42))])"
      ]
     },
     "execution_count": 10,
     "metadata": {},
     "output_type": "execute_result"
    }
   ],
   "source": [
    "pipeline.fit(X_train, y_train)"
   ]
  },
  {
   "cell_type": "code",
   "execution_count": 11,
   "id": "049da01e",
   "metadata": {},
   "outputs": [],
   "source": [
    "prediction = pipeline.predict(X_test)"
   ]
  },
  {
   "cell_type": "code",
   "execution_count": 12,
   "id": "343aeab2",
   "metadata": {},
   "outputs": [
    {
     "name": "stdout",
     "output_type": "stream",
     "text": [
      "              precision    recall  f1-score   support\n",
      "\n",
      "           0       0.88      0.82      0.85     10782\n",
      "           1       0.37      0.49      0.42      2299\n",
      "\n",
      "    accuracy                           0.76     13081\n",
      "   macro avg       0.63      0.66      0.64     13081\n",
      "weighted avg       0.79      0.76      0.78     13081\n",
      "\n"
     ]
    }
   ],
   "source": [
    "print(classification_report(y_test, prediction))"
   ]
  },
  {
   "cell_type": "code",
   "execution_count": 13,
   "id": "c7b255c4",
   "metadata": {},
   "outputs": [],
   "source": [
    "u_strategy = [\n",
    "    {0:50000},\n",
    "    {0:40000},\n",
    "    {0:30000},\n",
    "    {0:20000},\n",
    "    {0:10000},\n",
    "    {0:5000}\n",
    "]"
   ]
  },
  {
   "cell_type": "code",
   "execution_count": 14,
   "id": "cc1d58d4",
   "metadata": {},
   "outputs": [],
   "source": [
    "o_strategy = [\n",
    "    {1:50000},\n",
    "    {1:40000},\n",
    "    {1:30000},\n",
    "    {1:20000},\n",
    "    {1:10000},\n",
    "    {1:5000}\n",
    "]"
   ]
  },
  {
   "cell_type": "code",
   "execution_count": 15,
   "id": "5eda90d1",
   "metadata": {},
   "outputs": [],
   "source": [
    "hp_pipeline = Pipeline([\n",
    "    ('undersampler', u),\n",
    "    ('oversampler',o),\n",
    "    ('model',m)\n",
    "])"
   ]
  },
  {
   "cell_type": "code",
   "execution_count": 16,
   "id": "03571c3d",
   "metadata": {},
   "outputs": [],
   "source": [
    "grid_params = {\n",
    "    'undersampler__sampling_strategy': u_strategy,\n",
    "    'oversampler__sampling_strategy': o_strategy\n",
    "}"
   ]
  },
  {
   "cell_type": "code",
   "execution_count": 17,
   "id": "90fa574b",
   "metadata": {},
   "outputs": [],
   "source": [
    "clf = GridSearchCV(estimator = hp_pipeline, param_grid = grid_params)"
   ]
  },
  {
   "cell_type": "code",
   "execution_count": 18,
   "id": "4cf719f5",
   "metadata": {},
   "outputs": [],
   "source": [
    "%%capture\n",
    "clf.fit(X_train, y_train)"
   ]
  },
  {
   "cell_type": "code",
   "execution_count": 19,
   "id": "c2446084",
   "metadata": {},
   "outputs": [
    {
     "data": {
      "text/plain": [
       "{'oversampler__sampling_strategy': {1: 10000},\n",
       " 'undersampler__sampling_strategy': {0: 30000}}"
      ]
     },
     "execution_count": 19,
     "metadata": {},
     "output_type": "execute_result"
    }
   ],
   "source": [
    "clf.best_params_"
   ]
  },
  {
   "cell_type": "code",
   "execution_count": 20,
   "id": "a03f2ed3",
   "metadata": {},
   "outputs": [],
   "source": [
    "hp_best_pipeline = clf.best_estimator_"
   ]
  },
  {
   "cell_type": "code",
   "execution_count": 21,
   "id": "a4b2fe84",
   "metadata": {},
   "outputs": [
    {
     "data": {
      "text/plain": [
       "Pipeline(steps=[('undersampler',\n",
       "                 RandomUnderSampler(random_state=42,\n",
       "                                    sampling_strategy={0: 30000})),\n",
       "                ('oversampler', SMOTE(sampling_strategy={1: 10000})),\n",
       "                ('model', RandomForestClassifier(random_state=42))])"
      ]
     },
     "execution_count": 21,
     "metadata": {},
     "output_type": "execute_result"
    }
   ],
   "source": [
    "hp_best_pipeline.fit(X_train, y_train)"
   ]
  },
  {
   "cell_type": "code",
   "execution_count": 22,
   "id": "772120bf",
   "metadata": {},
   "outputs": [],
   "source": [
    "predict_hp = hp_best_pipeline.predict(X_test)"
   ]
  },
  {
   "cell_type": "code",
   "execution_count": 23,
   "id": "77dfeb24",
   "metadata": {},
   "outputs": [
    {
     "name": "stdout",
     "output_type": "stream",
     "text": [
      "              precision    recall  f1-score   support\n",
      "\n",
      "           0       0.87      0.93      0.90     10782\n",
      "           1       0.51      0.33      0.40      2299\n",
      "\n",
      "    accuracy                           0.83     13081\n",
      "   macro avg       0.69      0.63      0.65     13081\n",
      "weighted avg       0.80      0.83      0.81     13081\n",
      "\n"
     ]
    }
   ],
   "source": [
    "print(classification_report(y_test, predict_hp))"
   ]
  },
  {
   "cell_type": "code",
   "execution_count": 24,
   "id": "0b1f4cc8",
   "metadata": {},
   "outputs": [],
   "source": [
    "pred_hp_proba = hp_best_pipeline.predict_proba(X_test)[:, 1]"
   ]
  },
  {
   "cell_type": "code",
   "execution_count": 37,
   "id": "f74e4629",
   "metadata": {},
   "outputs": [
    {
     "name": "stdout",
     "output_type": "stream",
     "text": [
      "0.7606\n"
     ]
    }
   ],
   "source": [
    "fpr, tpr, _ = roc_curve(y_test, pred_hp_proba)\n",
    "auc = round(roc_auc_score(y_test, pred_hp_proba), 4)\n",
    "print(auc)"
   ]
  },
  {
   "cell_type": "markdown",
   "id": "2285be2d",
   "metadata": {},
   "source": [
    "from sklearn.externals import joblib\n",
    "joblib.dump(hp_best_pipeline, 'modelexe1.pkl')"
   ]
  },
  {
   "cell_type": "markdown",
   "id": "144e31af",
   "metadata": {},
   "source": [
    "import pickle\n",
    "\n",
    "with open('modelfile.pkl', 'wb') as f:\n",
    "    pickle.dump(hp_best_pipeline, f)"
   ]
  },
  {
   "cell_type": "markdown",
   "id": "daa5d235",
   "metadata": {},
   "source": [
    "with open('modelfile.pkl', 'rb') as f:\n",
    "    mm = pickle.load(f)"
   ]
  },
  {
   "cell_type": "markdown",
   "id": "4cd33c02",
   "metadata": {},
   "source": [
    "mm.predict_proba(X_test)[:, 1]"
   ]
  },
  {
   "cell_type": "markdown",
   "id": "f3d92e90",
   "metadata": {},
   "source": [
    "import matplotlib.pyplot as plt\n",
    "plt.rcParams['font.sans-serif']=['Microsoft Jhenghei']\n",
    "plt.rcParams['axes.unicode_minus']=False\n",
    "plt.figure(0).clf()\n",
    "plt.style.use(\"ggplot\")\n",
    "\n",
    "plt.plot(fpr,tpr,label=\"oversampling with SMOTE+under, AUC=\"+str(auc))\n",
    "\n",
    "plt.legend(loc=0)\n",
    "plt.title(\"模型比較(AUC)\")\n",
    "plt.xlabel(\"fpr\")\n",
    "plt.ylabel(\"tpr\")"
   ]
  },
  {
   "cell_type": "code",
   "execution_count": 27,
   "id": "f65d23a2",
   "metadata": {},
   "outputs": [],
   "source": [
    "train_X = X_train\n",
    "train_y = y_train\n",
    "test_X = X_test\n",
    "test_y = y_test"
   ]
  },
  {
   "cell_type": "code",
   "execution_count": 29,
   "id": "c3a3c93d",
   "metadata": {},
   "outputs": [],
   "source": [
    "target_names = ['未再犯','再犯']"
   ]
  },
  {
   "cell_type": "code",
   "execution_count": 38,
   "id": "90813408",
   "metadata": {},
   "outputs": [
    {
     "name": "stdout",
     "output_type": "stream",
     "text": [
      "              precision    recall  f1-score   support\n",
      "\n",
      "         未再犯       0.86      0.96      0.91     10782\n",
      "          再犯       0.59      0.26      0.36      2299\n",
      "\n",
      "    accuracy                           0.84     13081\n",
      "   macro avg       0.72      0.61      0.63     13081\n",
      "weighted avg       0.81      0.84      0.81     13081\n",
      "\n"
     ]
    }
   ],
   "source": [
    "# 基本模型/原始資料\n",
    "model1 = RandomForestClassifier(random_state=42, n_jobs=-1)\n",
    "model1.fit(train_X, train_y)\n",
    "y_pred = model1.predict_proba(test_X)[:, 1]\n",
    "predict_y = model1.predict(test_X)\n",
    "fpr1, tpr1, _ = roc_curve(test_y, y_pred)\n",
    "auc1 = round(roc_auc_score(test_y, y_pred), 4)\n",
    "print(classification_report(test_y, predict_y, target_names=target_names))"
   ]
  },
  {
   "cell_type": "code",
   "execution_count": 39,
   "id": "1155eb1b",
   "metadata": {},
   "outputs": [
    {
     "name": "stdout",
     "output_type": "stream",
     "text": [
      "              precision    recall  f1-score   support\n",
      "\n",
      "         未再犯       0.86      0.95      0.90     10782\n",
      "          再犯       0.55      0.26      0.35      2299\n",
      "\n",
      "    accuracy                           0.83     13081\n",
      "   macro avg       0.70      0.61      0.63     13081\n",
      "weighted avg       0.80      0.83      0.81     13081\n",
      "\n"
     ]
    }
   ],
   "source": [
    "# RF model with balanced class weight\n",
    "model2 = RandomForestClassifier(class_weight='balanced', random_state=42, n_jobs=-1)\n",
    "model2.fit(train_X, train_y)\n",
    "y_pred = model2.predict_proba(test_X)[:, 1]\n",
    "predict_y = model2.predict(test_X)\n",
    "fpr2, tpr2, _ = roc_curve(test_y, y_pred)\n",
    "auc2 = round(roc_auc_score(test_y, y_pred), 4)\n",
    "print(classification_report(test_y, predict_y, target_names=target_names))"
   ]
  },
  {
   "cell_type": "code",
   "execution_count": 93,
   "id": "e0216ed3",
   "metadata": {},
   "outputs": [
    {
     "name": "stdout",
     "output_type": "stream",
     "text": [
      "              precision    recall  f1-score   support\n",
      "\n",
      "         未再犯       0.86      0.96      0.90     10782\n",
      "          再犯       0.56      0.26      0.35      2299\n",
      "\n",
      "    accuracy                           0.83     13081\n",
      "   macro avg       0.71      0.61      0.63     13081\n",
      "weighted avg       0.81      0.83      0.81     13081\n",
      "\n"
     ]
    }
   ],
   "source": [
    "# RF model with balanced subsample class weight\n",
    "model3 = RandomForestClassifier(class_weight='balanced_subsample', random_state=42, n_jobs=-1)\n",
    "model3.fit(train_X, train_y)\n",
    "y_pred = model3.predict_proba(test_X)[:, 1]\n",
    "predict_y = model3.predict(test_X)\n",
    "fpr3, tpr3, _ = roc_curve(test_y, y_pred)\n",
    "auc3 = round(roc_auc_score(test_y, y_pred), 4)\n",
    "print(classification_report(test_y, predict_y, target_names=target_names))"
   ]
  },
  {
   "cell_type": "code",
   "execution_count": 92,
   "id": "e954a624",
   "metadata": {},
   "outputs": [
    {
     "name": "stdout",
     "output_type": "stream",
     "text": [
      "              precision    recall  f1-score   support\n",
      "\n",
      "         未再犯       0.88      0.85      0.86     10782\n",
      "          再犯       0.39      0.45      0.42      2299\n",
      "\n",
      "    accuracy                           0.78     13081\n",
      "   macro avg       0.63      0.65      0.64     13081\n",
      "weighted avg       0.79      0.78      0.78     13081\n",
      "\n",
      "(array([0.87857829, 0.38749532]), array([0.84826563, 0.45019574]), array([0.86315591, 0.41649899]), array([10782,  2299], dtype=int64))\n",
      "[[9146 1636]\n",
      " [1264 1035]]\n",
      "0.778304410977754\n"
     ]
    }
   ],
   "source": [
    "# RF with SMOTE\n",
    "from sklearn.metrics import precision_recall_fscore_support\n",
    "oversample = SMOTE()\n",
    "X_over, y_over = oversample.fit_resample(train_X, train_y) #X, y\n",
    "model4 = RandomForestClassifier(random_state=42, n_jobs=-1)\n",
    "model4.fit(X_over, y_over)\n",
    "y_pred = model4.predict_proba(test_X)[:, 1]\n",
    "predict_y = model4.predict(test_X)\n",
    "fpr4, tpr4, _ = roc_curve(test_y, y_pred)\n",
    "auc4 = round(roc_auc_score(test_y, y_pred), 4)\n",
    "print(classification_report(test_y, predict_y, target_names=target_names))\n",
    "prf = precision_recall_fscore_support(test_y, predict_y)\n",
    "print(prf)\n",
    "cm = confusion_matrix(test_y, predict_y)\n",
    "print(cm)\n",
    "aa = accuracy_score(test_y, predict_y)\n",
    "print(aa)"
   ]
  },
  {
   "cell_type": "code",
   "execution_count": 75,
   "id": "bec25088",
   "metadata": {},
   "outputs": [
    {
     "data": {
      "image/png": "[encoded data removed]",
      "text/plain": [
       "<Figure size 640x480 with 2 Axes>"
      ]
     },
     "metadata": {},
     "output_type": "display_data"
    }
   ],
   "source": [
    "ConfusionMatrixDisplay.from_predictions(test_y, predict_y, colorbar=True)\n",
    "plt.show()"
   ]
  },
  {
   "cell_type": "code",
   "execution_count": 51,
   "id": "933683d3",
   "metadata": {},
   "outputs": [
    {
     "name": "stdout",
     "output_type": "stream",
     "text": [
      "0.8757888697647733\n"
     ]
    }
   ],
   "source": [
    "print(prf[0][0])"
   ]
  },
  {
   "cell_type": "code",
   "execution_count": 36,
   "id": "09885eea",
   "metadata": {},
   "outputs": [
    {
     "data": {
      "text/plain": [
       "Text(0, 0.5, 'tpr')"
      ]
     },
     "execution_count": 36,
     "metadata": {},
     "output_type": "execute_result"
    },
    {
     "data": {
      "image/png": "[encoded data removed]",
      "text/plain": [
       "<Figure size 640x480 with 1 Axes>"
      ]
     },
     "metadata": {},
     "output_type": "display_data"
    }
   ],
   "source": [
    "# plot ROC_AUC graph\n",
    "import matplotlib.pyplot as plt\n",
    "plt.rcParams['font.sans-serif']=['Microsoft Jhenghei']\n",
    "plt.rcParams['axes.unicode_minus']=False\n",
    "plt.figure(0).clf()\n",
    "plt.style.use(\"ggplot\")\n",
    "\n",
    "plt.plot(fpr1,tpr1,label=\"base model, AUC=\"+str(auc1))\n",
    "plt.plot(fpr2,tpr2,label=\"balanced weight, AUC=\"+str(auc2))\n",
    "plt.plot(fpr3,tpr3,label=\"balanced_subsample weight, AUC=\"+str(auc3))\n",
    "plt.plot(fpr4,tpr4,label=\"oversampling with SMOTE, AUC=\"+str(auc4))\n",
    "plt.plot(fpr,tpr,label=\"best with undersamping + SMOTE, AUC=\"+str(auc))\n",
    "\n",
    "plt.legend(loc=0)\n",
    "plt.title(\"模型比較(AUC)\")\n",
    "plt.xlabel(\"fpr\")\n",
    "plt.ylabel(\"tpr\")"
   ]
  },
  {
   "cell_type": "code",
   "execution_count": 89,
   "id": "10a051d2",
   "metadata": {},
   "outputs": [],
   "source": [
    "results = pd.DataFrame(columns=['模型','準確率','精確率', '招回率','f1_score', 'support'], index=['非再犯','再犯'])"
   ]
  },
  {
   "cell_type": "code",
   "execution_count": 90,
   "id": "b607d64a",
   "metadata": {},
   "outputs": [],
   "source": [
    "results['準確率']['非再犯']=0.9"
   ]
  },
  {
   "cell_type": "code",
   "execution_count": null,
   "id": "fb6d3845",
   "metadata": {},
   "outputs": [],
   "source": [
    "models = [model3, model4]\n",
    "modelName = ['RF+原始資料','RF+balanced weight', 'RF+balanced subsample']\n",
    "k=1\n",
    "for m in models:\n",
    "    predict_y = m.predict(test_X)\n",
    "    acc = accuracy_score(test_y, predict_y)\n",
    "    prf = precision_recall_fscore_support(test_y, predict_y)\n",
    "    results['模型']['非再犯']=modelName[k-1]\n",
    "    results['模型']['再犯']=modelName[k-1]\n",
    "    results['準確率']['非再犯']=acc\n",
    "    results['準確率']['再犯']=acc\n",
    "    results['精確率']['非再犯']=prf[0][0]\n",
    "    results['精確率']['再犯']=prf[0][1]\n",
    "    results['招回率']['非再犯']=prf[1][0]\n",
    "    results['招回率']['再犯']=prf[1][1]\n",
    "    results['f1_score']['非再犯']=prf[2][0]\n",
    "    results['f1_score']['再犯']=prf[2][1]\n",
    "    results['support']['非再犯']=prf[3][0]\n",
    "    results['support']['再犯']=prf[3][1]\n",
    "    k=k+1\n",
    "\n",
    "    "
   ]
  },
  {
   "cell_type": "code",
   "execution_count": 107,
   "id": "10bbe68a",
   "metadata": {},
   "outputs": [
    {
     "data": {
      "text/html": [
       "<div>\n",
       "<style scoped>\n",
       "    .dataframe tbody tr th:only-of-type {\n",
       "        vertical-align: middle;\n",
       "    }\n",
       "\n",
       "    .dataframe tbody tr th {\n",
       "        vertical-align: top;\n",
       "    }\n",
       "\n",
       "    .dataframe thead th {\n",
       "        text-align: right;\n",
       "    }\n",
       "</style>\n",
       "<table border=\"1\" class=\"dataframe\">\n",
       "  <thead>\n",
       "    <tr style=\"text-align: right;\">\n",
       "      <th></th>\n",
       "      <th>模型</th>\n",
       "      <th>準確率</th>\n",
       "      <th>精確率</th>\n",
       "      <th>招回率</th>\n",
       "      <th>f1_score</th>\n",
       "      <th>support</th>\n",
       "    </tr>\n",
       "  </thead>\n",
       "  <tbody>\n",
       "    <tr>\n",
       "      <th>非再犯</th>\n",
       "      <td>RF+balanced weight</td>\n",
       "      <td>0.778304</td>\n",
       "      <td>0.878578</td>\n",
       "      <td>0.848266</td>\n",
       "      <td>0.863156</td>\n",
       "      <td>10782</td>\n",
       "    </tr>\n",
       "    <tr>\n",
       "      <th>再犯</th>\n",
       "      <td>RF+balanced weight</td>\n",
       "      <td>0.778304</td>\n",
       "      <td>0.387495</td>\n",
       "      <td>0.450196</td>\n",
       "      <td>0.416499</td>\n",
       "      <td>2299</td>\n",
       "    </tr>\n",
       "    <tr>\n",
       "      <th>2</th>\n",
       "      <td>model1</td>\n",
       "      <td>0.9</td>\n",
       "      <td>0.8</td>\n",
       "      <td>0.8</td>\n",
       "      <td>0.8</td>\n",
       "      <td>10000</td>\n",
       "    </tr>\n",
       "    <tr>\n",
       "      <th>3</th>\n",
       "      <td>model1</td>\n",
       "      <td>0.9</td>\n",
       "      <td>0.8</td>\n",
       "      <td>0.8</td>\n",
       "      <td>0.8</td>\n",
       "      <td>10000</td>\n",
       "    </tr>\n",
       "  </tbody>\n",
       "</table>\n",
       "</div>"
      ],
      "text/plain": [
       "                     模型       準確率       精確率       招回率  f1_score support\n",
       "非再犯  RF+balanced weight  0.778304  0.878578  0.848266  0.863156   10782\n",
       "再犯   RF+balanced weight  0.778304  0.387495  0.450196  0.416499    2299\n",
       "2                model1       0.9       0.8       0.8       0.8   10000\n",
       "3                model1       0.9       0.8       0.8       0.8   10000"
      ]
     },
     "execution_count": 107,
     "metadata": {},
     "output_type": "execute_result"
    }
   ],
   "source": [
    "list = ['model1', 0.9, 0.8, 0.8, 0.8, 10000]\n",
    "results.loc[len(results)]=list\n",
    "results"
   ]
  },
  {
   "cell_type": "code",
   "execution_count": null,
   "id": "93dd2c37",
   "metadata": {},
   "outputs": [],
   "source": []
  }
 ],
 "metadata": {
  "kernelspec": {
   "display_name": "Python 3 (ipykernel)",
   "language": "python",
   "name": "python3"
  },
  "language_info": {
   "codemirror_mode": {
    "name": "ipython",
    "version": 3
   },
   "file_extension": ".py",
   "mimetype": "text/x-python",
   "name": "python",
   "nbconvert_exporter": "python",
   "pygments_lexer": "ipython3",
   "version": "3.9.13"
  }
 },
 "nbformat": 4,
 "nbformat_minor": 5
}
